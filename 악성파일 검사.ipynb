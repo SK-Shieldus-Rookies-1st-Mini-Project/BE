{
 "cells": [
  {
   "cell_type": "code",
   "execution_count": null,
   "id": "4aba4f3e",
   "metadata": {},
   "outputs": [],
   "source": [
    "import os\n",
    "import time\n",
    "import requests\n",
    "from dotenv import load_dotenv"
   ]
  },
  {
   "cell_type": "code",
   "execution_count": null,
   "id": "ebcdd9b8",
   "metadata": {},
   "outputs": [],
   "source": [
    "def check_file(file_path):\n",
    "    # .env 파일에서 환경 변수 로드\n",
    "    load_dotenv()\n",
    "\n",
    "    # 환경 변수에서 값 읽기\n",
    "    API_KEY = os.getenv(\"API_KEY\")\n",
    "\n",
    "    file_path = f\"sample_file/{file_path}\"\n",
    "\n",
    "    print(API_KEY)\n",
    "\n",
    "    headers = {'x-apikey': API_KEY}\n",
    "    \n",
    "    # 파일 업로드\n",
    "    with open(file_path, 'rb') as f:\n",
    "        files = {'file': (file_path, f)}\n",
    "        response = requests.post('https://www.virustotal.com/api/v3/files', files=files, headers=headers)\n",
    "        \n",
    "        # 파일 업로드 응답 확인\n",
    "        print(f\"[•] 업로드 응답 상태 코드: {response.status_code}\")\n",
    "        print(f\"[•] 응답 내용: {response.text}\")  # JSON이 아닐 수도 있음\n",
    "\n",
    "        try:\n",
    "            result = response.json()\n",
    "        except ValueError:\n",
    "            print(\"❌ JSON 파싱 오류: 응답이 JSON 형식이 아닙니다.\")\n",
    "            return\n",
    "        \n",
    "        result = response.json()\n",
    "        analysis_id = result['data']['id']\n",
    "        print(f\"[✓] 분석 ID: {analysis_id}\")\n",
    "\n",
    "    \n",
    "    # 검사 결과 대기 및 확인\n",
    "    result_url = f'https://www.virustotal.com/api/v3/analyses/{analysis_id}'\n",
    "\n",
    "    while True:\n",
    "        response = requests.get(result_url, headers=headers)\n",
    "        data = response.json()\n",
    "        status = data['data']['attributes']['status']\n",
    "        print(f\"[•] 검사 상태: {status}\")\n",
    "        \n",
    "        if status == 'completed':\n",
    "            break\n",
    "        time.sleep(3)\n",
    "\n",
    "    \n",
    "    # 주요 결과 필드 출력\n",
    "    stats = data['data']['attributes']['stats']\n",
    "    print(\"\\n[🔍 검사 결과 요약]\")\n",
    "    print(f\"  🟥 악성(Malicious): {stats.get('malicious', 0)}\")\n",
    "    print(f\"  🟧 의심(Suspicious): {stats.get('suspicious', 0)}\")\n",
    "    print(f\"  🟩 무해(Harmless): {stats.get('harmless', 0)}\")\n",
    "    print(f\"  ⏱️ 타임아웃(Timeout): {stats.get('timeout', 0)}\")\n",
    "    print(f\"  🕵️ 탐지 안 됨(Undetected): {stats.get('undetected', 0)}\")"
   ]
  },
  {
   "cell_type": "code",
   "execution_count": null,
   "id": "8a8d9b65",
   "metadata": {},
   "outputs": [],
   "source": []
  }
 ],
 "metadata": {
  "language_info": {
   "name": "python"
  }
 },
 "nbformat": 4,
 "nbformat_minor": 5
}

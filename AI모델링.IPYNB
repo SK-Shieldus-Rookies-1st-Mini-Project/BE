{
 "cells": [
  {
   "cell_type": "code",
   "execution_count": null,
   "id": "685c59ab",
   "metadata": {},
   "outputs": [],
   "source": [
    "import pandas as pd\n",
    "import numpy as np\n",
    "import tensorflow as tf\n",
    "import matplotlib.pyplot as plt\n",
    "\n",
    "from aicentro.session import Session\n",
    "sacp_session = Session(verify=False)\n",
    "from aicentro.framework.framework import BaseFramework as SacpFrm\n",
    "sacp_framework = SacpFrm(session=sacp_session)"
   ]
  },
  {
   "cell_type": "markdown",
   "id": "1cac9ec4",
   "metadata": {},
   "source": [
    "###  <b>데이터 불러오기</b>\n",
    "---\n",
    "- 학습 데이터 불러오기"
   ]
  },
  {
   "cell_type": "code",
   "execution_count": null,
   "id": "073e9d5b",
   "metadata": {},
   "outputs": [],
   "source": [
    "Train_Data = pd.read_csv('TrainData.csv',delimiter=',')"
   ]
  },
  {
   "cell_type": "markdown",
   "id": "efa2e000",
   "metadata": {},
   "source": [
    "### <b>데이터 전처리</b>\n",
    "---"
   ]
  },
  {
   "cell_type": "code",
   "execution_count": null,
   "id": "7d69a9e3",
   "metadata": {},
   "outputs": [],
   "source": [
    "Train_Data=Train_Data.drop_duplicates()"
   ]
  },
  {
   "cell_type": "code",
   "execution_count": null,
   "id": "e9251f20",
   "metadata": {},
   "outputs": [],
   "source": [
    "Train_Data['Result_v1'].replace({'benign':1,'malicious':-1}, inplace=True)"
   ]
  },
  {
   "cell_type": "code",
   "execution_count": null,
   "id": "80292306",
   "metadata": {},
   "outputs": [],
   "source": [
    "Train_Data.drop(columns=[\"url_chinese_present\",\"html_num_tags('applet')\"],inplace=True)"
   ]
  },
  {
   "cell_type": "code",
   "execution_count": null,
   "id": "54b60ffa",
   "metadata": {},
   "outputs": [],
   "source": [
    "Train_Data = Train_Data.dropna(axis=0)"
   ]
  },
  {
   "cell_type": "code",
   "execution_count": null,
   "id": "d0c0a58f",
   "metadata": {},
   "outputs": [],
   "source": [
    "X = Train_Data.iloc[:,0:len(Train_Data.columns)-1].values\n",
    "y = Train_Data.iloc[:,len(Train_Data.columns)-1].values"
   ]
  },
  {
   "cell_type": "markdown",
   "id": "97111d06",
   "metadata": {},
   "source": [
    "### <b> train_test_split을 이용하여, train_x, val_x, train_y, val_y로 데이터 분리</b>\n",
    "---\n",
    "\n",
    "- test_size = 0.3\n",
    "- random_state = 2021"
   ]
  },
  {
   "cell_type": "code",
   "execution_count": null,
   "id": "565d0152",
   "metadata": {},
   "outputs": [],
   "source": [
    "from sklearn.model_selection import train_test_split"
   ]
  },
  {
   "cell_type": "code",
   "execution_count": null,
   "id": "7610a7ba",
   "metadata": {},
   "outputs": [],
   "source": [
    "# train_test_split 사용\n",
    "train_x, val_x, train_y, val_y = train_test_split(X, y,test_size=0.3,random_state=2021) "
   ]
  },
  {
   "cell_type": "code",
   "execution_count": null,
   "id": "2904cbba",
   "metadata": {},
   "outputs": [],
   "source": [
    "train_x.shape, val_x.shape, train_y.shape, val_y.shape"
   ]
  },
  {
   "cell_type": "markdown",
   "id": "afc744bc",
   "metadata": {},
   "source": [
    "### <b>Confusion Matrix 함수 정의</b>\n",
    "---"
   ]
  },
  {
   "cell_type": "markdown",
   "id": "6c041b4d",
   "metadata": {},
   "source": [
    "- Confusion Matrix란?\n",
    " - Training 을 통한 Prediction 성능을 측정하기 위해 예측 value와 실제 value를 비교하기 위한 표\n",
    " - 참고 사이트 : https://scikit-learn.org/stable/modules/generated/sklearn.metrics.confusion_matrix.html\n",
    " \n",
    " \n"
   ]
  },
  {
   "cell_type": "code",
   "execution_count": null,
   "id": "41a3a034",
   "metadata": {},
   "outputs": [],
   "source": [
    "from sklearn.metrics import classification_report as creport\n",
    "from sklearn.metrics import confusion_matrix, accuracy_score, precision_score, recall_score"
   ]
  },
  {
   "cell_type": "code",
   "execution_count": null,
   "id": "3d04fd7e",
   "metadata": {},
   "outputs": [],
   "source": [
    "def plot_confusion_matrix(ax, matrix, labels = ['malicious','benign'], title='Confusion matrix', fontsize=9):\n",
    "    ax.set_xticks([x for x in range(len(labels))])\n",
    "    ax.set_yticks([y for y in range(len(labels))])\n",
    "\n",
    "    # Place labels on minor ticks\n",
    "    ax.set_xticks([x + 0.5 for x in range(len(labels))], minor=True)\n",
    "    ax.set_xticklabels(labels, rotation='90', fontsize=fontsize, minor=True)\n",
    "    ax.set_yticks([y + 0.5 for y in range(len(labels))], minor=True)\n",
    "    ax.set_yticklabels(labels[::-1], fontsize=fontsize, minor=True)\n",
    "\n",
    "    # Hide major tick labels\n",
    "    ax.tick_params(which='major', labelbottom='off', labelleft='off')\n",
    "\n",
    "    # Finally, hide minor tick marks\n",
    "    ax.tick_params(which='minor', width=0)\n",
    "\n",
    "    # Plot heat map\n",
    "    proportions = [1. * row / sum(row) for row in matrix]\n",
    "    ax.pcolor(np.array(proportions[::-1]), cmap=plt.cm.Blues)\n",
    "\n",
    "    # Plot counts as text\n",
    "    for row in range(len(matrix)):\n",
    "        for col in range(len(matrix[row])):\n",
    "            confusion = matrix[::-1][row][col]\n",
    "            if confusion != 0:\n",
    "                ax.text(col + 0.5, row + 0.5, int(confusion),\n",
    "                        fontsize=fontsize,\n",
    "                        horizontalalignment='center',\n",
    "                        verticalalignment='center')\n",
    "\n",
    "    # Add finishing touches\n",
    "    ax.grid(True, linestyle=':')\n",
    "    ax.set_title(title, fontsize=fontsize)\n",
    "    ax.set_xlabel('prediction', fontsize=fontsize)\n",
    "    ax.set_ylabel('actual', fontsize=fontsize)\n",
    "\n",
    "    plt.show()"
   ]
  },
  {
   "cell_type": "markdown",
   "id": "786944fb",
   "metadata": {},
   "source": [
    "### <b> Q2. DecisonTree 모델을 만들어보자"
   ]
  },
  {
   "cell_type": "code",
   "execution_count": null,
   "id": "644e37b0",
   "metadata": {},
   "outputs": [],
   "source": [
    "# 1. import\n",
    "from sklearn.tree import DecisionTreeClassifier\n"
   ]
  },
  {
   "cell_type": "code",
   "execution_count": null,
   "id": "7480cdd0",
   "metadata": {},
   "outputs": [],
   "source": [
    "# 2.선언\n",
    "dtc = DecisionTreeClassifier()\n",
    "\n"
   ]
  },
  {
   "cell_type": "code",
   "execution_count": null,
   "id": "e71ef85a",
   "metadata": {},
   "outputs": [],
   "source": [
    "# 3. fit()\n",
    "dtc.fit(train_x,train_y)\n",
    "\n"
   ]
  },
  {
   "cell_type": "code",
   "execution_count": null,
   "id": "6ce08104",
   "metadata": {},
   "outputs": [],
   "source": [
    "# 3. predict()\n",
    "dtc_pred = dtc.predict(val_x)\n"
   ]
  },
  {
   "cell_type": "code",
   "execution_count": null,
   "id": "6d5c3218",
   "metadata": {},
   "outputs": [],
   "source": [
    "# train 및 val 데이터 정확도 확인 : score()\n",
    "dtc.score(train_x, train_y), dtc.score(val_x, val_y)\n"
   ]
  },
  {
   "cell_type": "code",
   "execution_count": null,
   "id": "6619bbb8",
   "metadata": {},
   "outputs": [],
   "source": [
    "#Confusion Matrix 확인\n",
    "confusion = confusion_matrix(val_y, dtc_pred)\n",
    "fig, ax = plt.subplots(figsize=(10,3))\n",
    "plot_confusion_matrix(ax, confusion, fontsize=30)\n",
    "\n",
    "\n"
   ]
  },
  {
   "cell_type": "code",
   "execution_count": null,
   "id": "26395ae4",
   "metadata": {},
   "outputs": [],
   "source": [
    "plt.figure(figsize=(20,12))\n",
    "plt.barh(y=Train_Data.columns[:-1],\n",
    "        width = dtc.feature_importances_)\n",
    "plt.show()"
   ]
  },
  {
   "cell_type": "markdown",
   "id": "0782018e",
   "metadata": {},
   "source": [
    "### <b>앙상블(Ensemble)</b>"
   ]
  },
  {
   "cell_type": "markdown",
   "id": "1afbdc0b",
   "metadata": {},
   "source": [
    "## Q3. Random Forest 모델을 만들어보자"
   ]
  },
  {
   "cell_type": "code",
   "execution_count": null,
   "id": "c76373b4",
   "metadata": {},
   "outputs": [],
   "source": [
    "# 1. import\n",
    "from sklearn.ensemble import RandomForestClassifier\n"
   ]
  },
  {
   "cell_type": "code",
   "execution_count": null,
   "id": "c5624467",
   "metadata": {},
   "outputs": [],
   "source": [
    "# 2.선언\n",
    "rfc = RandomForestClassifier()\n",
    "\n"
   ]
  },
  {
   "cell_type": "code",
   "execution_count": null,
   "id": "d702853c",
   "metadata": {},
   "outputs": [],
   "source": [
    "# 3. fit()\n",
    "rfc.fit(train_x,train_y)\n",
    "\n"
   ]
  },
  {
   "cell_type": "code",
   "execution_count": null,
   "id": "2eb30f50",
   "metadata": {},
   "outputs": [],
   "source": [
    "# 3. predict()\n",
    "rfc_pred = rfc.predict(val_x)\n",
    "\n"
   ]
  },
  {
   "cell_type": "code",
   "execution_count": null,
   "id": "ed2e9288",
   "metadata": {},
   "outputs": [],
   "source": [
    "# train 및 val 데이터 정확도 확인 :score()\n",
    "rfc.score(train_x,train_y), rfc.score(val_x, val_y)\n",
    "\n"
   ]
  },
  {
   "cell_type": "code",
   "execution_count": null,
   "id": "eb2788bf",
   "metadata": {},
   "outputs": [],
   "source": [
    "# Confusion Matrix 확인\n",
    "confusion = confusion_matrix(val_y, rfc_pred)\n",
    "fig, ax = plt.subplots(figsize=(10,3))\n",
    "plot_confusion_matrix(ax, confusion, fontsize=30)\n",
    "\n"
   ]
  },
  {
   "cell_type": "code",
   "execution_count": null,
   "id": "8f645fd1",
   "metadata": {},
   "outputs": [],
   "source": [
    "# feature_importances_ 활용 Feature별 가중치 확인\n",
    "plt.figure(figsize=(20,12))\n",
    "plt.barh(y=Train_Data.columns[:-1],\n",
    "        width = rfc.feature_importances_)\n",
    "plt.show()"
   ]
  },
  {
   "cell_type": "markdown",
   "id": "449b6f5f",
   "metadata": {},
   "source": [
    "### <b> Q4. AdaBoost 모델을 만들어보자"
   ]
  },
  {
   "cell_type": "code",
   "execution_count": null,
   "id": "38d811c1",
   "metadata": {},
   "outputs": [],
   "source": [
    "# 1. import\n",
    "from sklearn.ensemble import AdaBoostClassifier\n"
   ]
  },
  {
   "cell_type": "code",
   "execution_count": null,
   "id": "6e3fb437",
   "metadata": {},
   "outputs": [],
   "source": [
    "# 2.선언\n",
    "abc = AdaBoostClassifier()\n"
   ]
  },
  {
   "cell_type": "code",
   "execution_count": null,
   "id": "f86af721",
   "metadata": {},
   "outputs": [],
   "source": [
    "# 3. fit()\n",
    "abc.fit(train_x,train_y)\n"
   ]
  },
  {
   "cell_type": "code",
   "execution_count": null,
   "id": "8e520f64",
   "metadata": {},
   "outputs": [],
   "source": [
    "# 3. predict()\n",
    "abc_pred = abc.predict(val_x)\n"
   ]
  },
  {
   "cell_type": "code",
   "execution_count": null,
   "id": "19f9947b",
   "metadata": {},
   "outputs": [],
   "source": [
    "# train 및 val 데이터 정확도 확인 : score()\n",
    "abc.score(train_x, train_y), abc.score(val_x, val_y)\n"
   ]
  },
  {
   "cell_type": "code",
   "execution_count": null,
   "id": "87850149",
   "metadata": {},
   "outputs": [],
   "source": [
    "#Confusion Matrix 확인\n",
    "confusion = confusion_matrix(val_y, abc_pred)\n",
    "fig, ax = plt.subplots(figsize=(10,3))\n",
    "plot_confusion_matrix(ax, confusion, fontsize=30)\n"
   ]
  },
  {
   "cell_type": "code",
   "execution_count": null,
   "id": "4ada6780",
   "metadata": {},
   "outputs": [],
   "source": [
    "# feature_importances_ 활용 Feature별 가중치 확인\n",
    "plt.figure(figsize=(20,12))\n",
    "plt.barh(y=Train_Data.columns[:-1],\n",
    "        width = abc.feature_importances_)\n",
    "plt.show()"
   ]
  },
  {
   "cell_type": "markdown",
   "id": "9e0e6618",
   "metadata": {},
   "source": [
    "### <b> Q5. Gradient Boost 모델을 만들어보자"
   ]
  },
  {
   "cell_type": "code",
   "execution_count": null,
   "id": "00b1b646",
   "metadata": {},
   "outputs": [],
   "source": [
    "# 1. import\n",
    "from sklearn.ensemble import GradientBoostingClassifier\n"
   ]
  },
  {
   "cell_type": "code",
   "execution_count": null,
   "id": "5f55e21d",
   "metadata": {},
   "outputs": [],
   "source": [
    "# 2.선언\n",
    "gbc = GradientBoostingClassifier()\n"
   ]
  },
  {
   "cell_type": "code",
   "execution_count": null,
   "id": "2c92addb",
   "metadata": {},
   "outputs": [],
   "source": [
    "# 3. fit()\n",
    "gbc.fit(train_x,train_y)\n"
   ]
  },
  {
   "cell_type": "code",
   "execution_count": null,
   "id": "46a7eae0",
   "metadata": {},
   "outputs": [],
   "source": [
    "# 3. predict()\n",
    "gbc_pred = gbc.predict(val_x)\n"
   ]
  },
  {
   "cell_type": "code",
   "execution_count": null,
   "id": "28601fcf",
   "metadata": {},
   "outputs": [],
   "source": [
    "# train 및 val 데이터 정확도 확인 : score()\n",
    "gbc.score(train_x, train_y), gbc.score(val_x,val_y)\n"
   ]
  },
  {
   "cell_type": "code",
   "execution_count": null,
   "id": "1868994b",
   "metadata": {},
   "outputs": [],
   "source": [
    "#Confusion Matrix 확인\n",
    "confusion = confusion_matrix(val_y, gbc_pred)\n",
    "fig, ax = plt.subplots(figsize=(10,3))\n",
    "plot_confusion_matrix(ax, confusion, fontsize=30)\n"
   ]
  },
  {
   "cell_type": "code",
   "execution_count": null,
   "id": "23b74461",
   "metadata": {},
   "outputs": [],
   "source": [
    "# feature_importances_ 활용 Feature별 가중치 확인\n",
    "plt.figure(figsize=(20,12))\n",
    "plt.barh(y=Train_Data.columns[:-1],\n",
    "        width = gbc.feature_importances_)\n",
    "plt.show()"
   ]
  }
 ],
 "metadata": {
  "kernelspec": {
   "display_name": "base",
   "language": "python",
   "name": "python3"
  },
  "language_info": {
   "codemirror_mode": {
    "name": "ipython",
    "version": 3
   },
   "file_extension": ".py",
   "mimetype": "text/x-python",
   "name": "python",
   "nbconvert_exporter": "python",
   "pygments_lexer": "ipython3",
   "version": "3.12.7"
  }
 },
 "nbformat": 4,
 "nbformat_minor": 5
}

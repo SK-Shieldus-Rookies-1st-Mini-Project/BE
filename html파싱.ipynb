{
 "cells": [
  {
   "cell_type": "code",
   "execution_count": null,
   "id": "f51ff82d",
   "metadata": {},
   "outputs": [],
   "source": []
  },
  {
   "cell_type": "code",
   "execution_count": null,
   "id": "619755f3",
   "metadata": {},
   "outputs": [
    {
     "name": "stdout",
     "output_type": "stream",
     "text": [
      "Error fetching URL https://www.navecr.com/: HTTPSConnectionPool(host='www.navecr.com', port=443): Max retries exceeded with url: / (Caused by NameResolutionError(\"<urllib3.connection.HTTPSConnection object at 0x0000020722265160>: Failed to resolve 'www.navecr.com' ([Errno 11001] getaddrinfo failed)\"))\n",
      "Error\n"
     ]
    }
   ],
   "source": [
    "import requests\n",
    "import os\n",
    "from bs4 import BeautifulSoup\n",
    "def getHtml(url):\n",
    "    try:\n",
    "        #요청 헤더 설정 : 브라우저 정보\n",
    "        req_header = {\n",
    "            \"user-agent\": \"Mozilla/5.0 (Windows NT 10.0; Win64; x64) AppleWebKit/537.36 (KHTML, like Gecko) Chrome/138.0.0.0 Safari/537.36\"\n",
    "        }\n",
    "\n",
    "        # requests 의 get() 함수 호출하기 \n",
    "        res=requests.get(url,headers=req_header)\n",
    "        res.encoding = 'utf-8'\n",
    "        res.raise_for_status()\n",
    "\n",
    "        # 응답(response)이 OK 이면 text 추출\n",
    "        html = res.text\n",
    "        return html\n",
    "    except requests.exceptions.RequestException as e:\n",
    "        print(f\"Error fetching URL {url}: {e}\")\n",
    "        return \"Error\"\n",
    "    except Exception as e:\n",
    "        print(f\"An unexpected error occurred: {e}\")\n",
    "        return \"Error\"   \n",
    "url = getHtml(\"https://www.naver.com/\")\n",
    "print(url)\n",
    "        "
   ]
  }
 ],
 "metadata": {
  "kernelspec": {
   "display_name": "base",
   "language": "python",
   "name": "python3"
  },
  "language_info": {
   "codemirror_mode": {
    "name": "ipython",
    "version": 3
   },
   "file_extension": ".py",
   "mimetype": "text/x-python",
   "name": "python",
   "nbconvert_exporter": "python",
   "pygments_lexer": "ipython3",
   "version": "3.12.7"
  }
 },
 "nbformat": 4,
 "nbformat_minor": 5
}

{
 "cells": [
  {
   "cell_type": "code",
   "execution_count": null,
   "id": "22d8bac3",
   "metadata": {},
   "outputs": [],
   "source": [
    "import pandas as pd\n",
    "import numpy as np\n",
    "\n",
    "from aicentro.session import Session\n",
    "sacp_session = Session(verify=False)\n",
    "from aicentro.framework.framework import BaseFramework as SacpFrm\n",
    "sacp_framework = SacpFrm(session=sacp_session)"
   ]
  },
  {
   "cell_type": "code",
   "execution_count": null,
   "id": "32875189",
   "metadata": {},
   "outputs": [],
   "source": [
    "df = pd.read_csv('TrainData.csv',delimiter=',')"
   ]
  },
  {
   "cell_type": "code",
   "execution_count": null,
   "id": "096e5397",
   "metadata": {},
   "outputs": [],
   "source": [
    "df"
   ]
  },
  {
   "cell_type": "code",
   "execution_count": null,
   "id": "8ad62244",
   "metadata": {},
   "outputs": [],
   "source": [
    "df.info()"
   ]
  },
  {
   "cell_type": "code",
   "execution_count": null,
   "id": "0351e94d",
   "metadata": {},
   "outputs": [],
   "source": [
    "df.describe()"
   ]
  },
  {
   "cell_type": "markdown",
   "id": "cdbe2e32",
   "metadata": {},
   "source": [
    "### <b>Q1. 중복 데이터 제거</b>\n",
    "---\n",
    " - 중복된 행데이터 삭제"
   ]
  },
  {
   "cell_type": "code",
   "execution_count": null,
   "id": "7c16916a",
   "metadata": {},
   "outputs": [],
   "source": [
    "df.info()"
   ]
  },
  {
   "cell_type": "code",
   "execution_count": null,
   "id": "3d857689",
   "metadata": {},
   "outputs": [],
   "source": [
    "# 중복 데이터 제거 : drop_duplicates()\n",
    "df=df.drop_duplicates()"
   ]
  },
  {
   "cell_type": "code",
   "execution_count": null,
   "id": "a8c334de",
   "metadata": {},
   "outputs": [],
   "source": [
    "df.info()"
   ]
  },
  {
   "cell_type": "markdown",
   "id": "bf12af07",
   "metadata": {},
   "source": [
    "### <b>Q2. 텍스트와 범주형 특성 처리</b>\n",
    "---\n",
    " - replace() 함수를 이용한 텍스트와 범주형 특성 처리\n",
    " - 참고사이트 : https://pandas.pydata.org/pandas-docs/stable/reference/api/pandas.DataFrame.replace.html\n",
    "\n",
    "#### <b>replace() 함수 사용 예</b>"
   ]
  },
  {
   "cell_type": "code",
   "execution_count": null,
   "id": "1d6ea886",
   "metadata": {},
   "outputs": [],
   "source": [
    "import pandas as pd\n",
    "\n",
    "df_ex = pd.DataFrame({'name': ['Alice','Bob','Charlie','Dave','Ellen','Frank'],\n",
    "                   'age': [24,42,18,68,24,30],\n",
    "                   'state': ['NY','CA','CA','TX','CA','NY'],\n",
    "                   'point': [64,24,70,70,88,57]}\n",
    "                  )\n",
    "\n",
    "print(df_ex)"
   ]
  },
  {
   "cell_type": "code",
   "execution_count": null,
   "id": "23745497",
   "metadata": {},
   "outputs": [],
   "source": [
    "df_ex['state'].replace({'CA':'California','NY':'NewYork'}, inplace=True)\n",
    "print(df_ex)"
   ]
  },
  {
   "cell_type": "markdown",
   "id": "0d879755",
   "metadata": {},
   "source": [
    "#### <b>텍스트와 범주형 특성 처리 실습</b>\n",
    "---"
   ]
  },
  {
   "cell_type": "code",
   "execution_count": null,
   "id": "b0d6f129",
   "metadata": {},
   "outputs": [],
   "source": [
    "# unique() 유일한 값 확인\n",
    "df['Result_v1'].unique()"
   ]
  },
  {
   "cell_type": "code",
   "execution_count": null,
   "id": "476639fd",
   "metadata": {},
   "outputs": [],
   "source": [
    "# replace() 함수 사용\n",
    "# 'benign'=1,'malicious'=-1 처리\n",
    "df['Result_v1'].replace({'benign':1,'malicious':-1}, inplace=True)"
   ]
  },
  {
   "cell_type": "code",
   "execution_count": null,
   "id": "ba106fd7",
   "metadata": {},
   "outputs": [],
   "source": [
    "df['Result_v1'].unique()"
   ]
  },
  {
   "cell_type": "markdown",
   "id": "45531dbe",
   "metadata": {},
   "source": [
    "### <b>Q3. 결측치 제거</b>\n",
    "---"
   ]
  },
  {
   "cell_type": "code",
   "execution_count": null,
   "id": "37a24cb1",
   "metadata": {},
   "outputs": [],
   "source": [
    "df.info()"
   ]
  },
  {
   "cell_type": "code",
   "execution_count": null,
   "id": "f197ffae",
   "metadata": {},
   "outputs": [],
   "source": [
    "# 결측치 제거\n",
    "# dropna()\n",
    "\n",
    "df = df.dropna(axis=0)"
   ]
  },
  {
   "cell_type": "code",
   "execution_count": null,
   "id": "79a98aee",
   "metadata": {},
   "outputs": [],
   "source": [
    "df.info()"
   ]
  },
  {
   "cell_type": "markdown",
   "id": "c17e1f55",
   "metadata": {},
   "source": [
    "### <b>Q4. 데이터 탐색을 통한 불필요한 칼럼 제거</b>\n",
    "---\n",
    "- ex) 그래프, 데이터 상관관계 corr()등 활용\n",
    "- corr() 메서드 : 모든 특성 간의 표준 상관계수(피어슨의 R)\n",
    "  - 확률론과 통계학에서 두 변수간에 어떤 선형적 또는 비선형적 관계를 갖고 있는지를 분석하는 방법\n",
    "  - r 값은 X 와 Y 가 완전히 동일하면 +1, 전혀 다르면 0, 반대방향으로 완전히 동일 하면 –1 \n",
    "- scatter 그래프를 활용한 데이터 분석"
   ]
  },
  {
   "cell_type": "code",
   "execution_count": null,
   "id": "62518cec",
   "metadata": {},
   "outputs": [],
   "source": [
    "df_ex.corr()"
   ]
  },
  {
   "cell_type": "code",
   "execution_count": null,
   "id": "6d47b9da",
   "metadata": {},
   "outputs": [],
   "source": [
    "df_ex.corr()['target'].sort_values(ascending=False)"
   ]
  },
  {
   "cell_type": "markdown",
   "id": "2cc2e85c",
   "metadata": {},
   "source": [
    "#### <b>scatter 그래프를 활용한 데이터 분석 예</b>"
   ]
  },
  {
   "cell_type": "code",
   "execution_count": null,
   "id": "23b2322f",
   "metadata": {},
   "outputs": [],
   "source": [
    "import matplotlib.pyplot as plt"
   ]
  },
  {
   "cell_type": "code",
   "execution_count": null,
   "id": "a56f3165",
   "metadata": {},
   "outputs": [],
   "source": [
    "df_ex['color'] = df_ex['target'].map({0:\"red\", 1:\"blue\", 2:\"green\"})"
   ]
  },
  {
   "cell_type": "code",
   "execution_count": null,
   "id": "d7884a87",
   "metadata": {},
   "outputs": [],
   "source": [
    "df_ex"
   ]
  },
  {
   "cell_type": "code",
   "execution_count": null,
   "id": "a89d5b88",
   "metadata": {},
   "outputs": [],
   "source": [
    "y_list = df_ex.columns\n",
    "\n",
    "for i in range(0, len(y_list)):\n",
    "    df_ex.plot(kind='scatter',x='target',y=y_list[i],s=30, c=df_ex['color'])\n",
    "    plt.title('Scatter', fontsize=20)\n",
    "    plt.xlabel('target')\n",
    "    plt.ylabel(y_list[i])\n",
    "    plt.show()"
   ]
  },
  {
   "cell_type": "markdown",
   "id": "2baad7c2",
   "metadata": {},
   "source": [
    "#### <b>corr() 상관관계를 활용한 데이터 분석 실습</b>\n",
    "---"
   ]
  },
  {
   "cell_type": "code",
   "execution_count": null,
   "id": "9c890483",
   "metadata": {},
   "outputs": [],
   "source": [
    "df.corr()"
   ]
  },
  {
   "cell_type": "code",
   "execution_count": null,
   "id": "8f67455d",
   "metadata": {},
   "outputs": [],
   "source": [
    "df.corr()['Result_v1'].sort_values(ascending=False)"
   ]
  },
  {
   "cell_type": "markdown",
   "id": "12005c8a",
   "metadata": {},
   "source": [
    "#### <b>scatter 그래프를 활용한 데이터 분석 실습</b>\n",
    "---"
   ]
  },
  {
   "cell_type": "code",
   "execution_count": null,
   "id": "712fcf02",
   "metadata": {},
   "outputs": [],
   "source": [
    "import matplotlib.pyplot as plt"
   ]
  },
  {
   "cell_type": "code",
   "execution_count": null,
   "id": "a937f1d0",
   "metadata": {},
   "outputs": [],
   "source": [
    "# 1 = 'blue',-1 = 'red' 처리\n",
    "df['color'] = df['Result_v1'].map({1:\"blue\", -1:\"red\"})"
   ]
  },
  {
   "cell_type": "code",
   "execution_count": null,
   "id": "5ebbf564",
   "metadata": {},
   "outputs": [],
   "source": [
    "y_list = df.columns\n",
    "\n",
    "for i in range(0, len(y_list)):\n",
    "    df.plot(kind='scatter',x='Result_v1',y=y_list[i],s=30, c=df['color'])\n",
    "    plt.title('Scatter Benign Malicious', fontsize=20)\n",
    "    plt.xlabel('Result_v1')\n",
    "    plt.ylabel(y_list[i])\n",
    "    plt.show()"
   ]
  },
  {
   "cell_type": "markdown",
   "id": "d1b8df46",
   "metadata": {},
   "source": [
    "#### <b>불필요한 컬럼 제거</b>\n",
    "---"
   ]
  },
  {
   "cell_type": "code",
   "execution_count": null,
   "id": "e7fd42b2",
   "metadata": {},
   "outputs": [],
   "source": [
    "df.drop(columns=[\"url_chinese_present\",\"html_num_tags('applet')\"],inplace=True)"
   ]
  },
  {
   "cell_type": "code",
   "execution_count": null,
   "id": "591cc470",
   "metadata": {},
   "outputs": [],
   "source": [
    "df.info()"
   ]
  },
  {
   "cell_type": "markdown",
   "id": "eb9758a7",
   "metadata": {},
   "source": [
    "## Q5. train_test_split을 이용하여, train_x, val_x, train_y, val_y로 데이터 분리\n",
    "---\n",
    "\n",
    "- test_size = 0.3\n",
    "- random_state = 2021"
   ]
  },
  {
   "cell_type": "code",
   "execution_count": null,
   "id": "c0f63794",
   "metadata": {},
   "outputs": [],
   "source": [
    "from sklearn.model_selection import train_test_split"
   ]
  },
  {
   "cell_type": "code",
   "execution_count": null,
   "id": "a1d9da08",
   "metadata": {},
   "outputs": [],
   "source": [
    "X = df.iloc[:,0:len(df.columns)-1].values\n",
    "y = df.iloc[:,len(df.columns)-1].values"
   ]
  },
  {
   "cell_type": "code",
   "execution_count": null,
   "id": "399097ce",
   "metadata": {},
   "outputs": [],
   "source": [
    "# train_test_split 사용\n",
    "train_x, val_x, train_y, val_y = train_test_split(X, y,test_size=0.3,random_state=2021) "
   ]
  },
  {
   "cell_type": "code",
   "execution_count": null,
   "id": "011885ab",
   "metadata": {},
   "outputs": [],
   "source": [
    "train_x.shape, val_x.shape, train_y.shape, val_y.shape"
   ]
  }
 ],
 "metadata": {
  "language_info": {
   "name": "python"
  }
 },
 "nbformat": 4,
 "nbformat_minor": 5
}

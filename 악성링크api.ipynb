{
 "cells": [
  {
   "cell_type": "code",
   "execution_count": 22,
   "id": "8b9320b5",
   "metadata": {},
   "outputs": [
    {
     "data": {
      "text/plain": [
       "True"
      ]
     },
     "execution_count": 22,
     "metadata": {},
     "output_type": "execute_result"
    }
   ],
   "source": [
    "import requests\n",
    "import time\n",
    "from dotenv import load_dotenv\n",
    "import os\n",
    "# .env 파일에서 환경 변수 로드\n",
    "load_dotenv()\n"
   ]
  },
  {
   "cell_type": "code",
   "execution_count": 23,
   "id": "2269c9ff",
   "metadata": {},
   "outputs": [
    {
     "name": "stdout",
     "output_type": "stream",
     "text": [
      "3b6c992ff752e1359c9d23ac97436d94350ceb5b59065349524ea56ba938b75b\n"
     ]
    }
   ],
   "source": [
    "\n",
    "# 바이러스토탈 API key\n",
    "my_apikey = os.getenv(\"KEY\")\n",
    "print(my_apikey)\n"
   ]
  },
  {
   "cell_type": "code",
   "execution_count": 25,
   "id": "0c12577b",
   "metadata": {},
   "outputs": [
    {
     "name": "stdout",
     "output_type": "stream",
     "text": [
      "Virustotal File Scan Start (60 Seconds Later) :  https://uportal.catholic.ac.kr/stw/scsr/scoo/scooOpsbOpenSubjectInq.do \n",
      "\n",
      "Scan finished, scan information embedded in this object \n",
      "\n",
      "Scan Data (UTC) : 2025-08-01 01:03:25\n",
      "Scan URL Vendor CNT:  97 \n",
      "\n",
      "악성이라 판단한 벤더의 개수: 0\n"
     ]
    }
   ],
   "source": [
    "\n",
    "# 바이러스 토탈 URL 스캔\n",
    "url = 'https://www.virustotal.com/vtapi/v2/url/scan'\n",
    "scan_url = 'https://uportal.catholic.ac.kr/stw/scsr/scoo/scooOpsbOpenSubjectInq.do'  \n",
    "\n",
    "# 바이러스토탈 URL 스캔 시작\n",
    "params = {'apikey': my_apikey, 'url': scan_url}\n",
    "response_scan = requests.post(url, data=params)\n",
    "result_scan = response_scan.json()\n",
    "\n",
    "scan_id = result_scan['scan_id']  # 결과를 출력을 위해 scan_id 값 저장\n",
    "\n",
    "# URL 스캔 시작 안내, 60초 대기\n",
    "print('Virustotal File Scan Start (60 Seconds Later) : ', scan_url, '\\n')\n",
    "\n",
    "# 스캔 후 1분 대기\n",
    "time.sleep(1)\n",
    "#\n",
    "# 바이러스토탈 URL 스캔 결과 주소\n",
    "url_report = 'https://www.virustotal.com/vtapi/v2/url/report'\n",
    "\n",
    "# 결과 파일 찾기 위해 scan_id 입력\n",
    "url_report_params = {'apikey': my_apikey, 'resource': scan_id}\n",
    "\n",
    "# 바이러스토탈 URL 스캔 결과 리포트 조회\n",
    "response_report = requests.get(url_report, params=url_report_params)\n",
    "\n",
    "# 점검 결과 데이터 추출\n",
    "report = response_report.json()  # 결과 값을 report에 json형태로 저장\n",
    "report_verbose_msg = report.get('verbose_msg')\n",
    "report_scans = report.get('scans')  # scans 값 저장\n",
    "report_scans_vendors = list(report['scans'].keys())  # Vendor 저장\n",
    "report_scans_vendors_cnt = len(report_scans_vendors)  # 길이 저장\n",
    "report_scan_data = report.get('scan_date')\n",
    "\n",
    "print(report_verbose_msg, '\\n')\n",
    "time.sleep(1)\n",
    "\n",
    "# 파일 스캔 결과 리포트 데이터 보기\n",
    "print('Scan Data (UTC) :', report_scan_data)\n",
    "print('Scan URL Vendor CNT: ', report_scans_vendors_cnt, '\\n')\n",
    "\n",
    "# 바이러스 스캔 엔진사 별 데이터 정리\n",
    "\n",
    "numbers = 1\n",
    "for vendor in report_scans_vendors:\n",
    "    outputs = report_scans[vendor]\n",
    "    outputs_result = report_scans[vendor].get('result')\n",
    "    outputs_detected = report_scans[vendor].get('detected')\n",
    "\n",
    "# outputs_detected = True, False\n",
    "# outputs_result = clean site, unrated site, malware site, malicious site, Phishing site\n",
    "    if outputs_result != 'clean site':\n",
    "        if outputs_result != 'unrated site':\n",
    "            print(f'[No].{numbers}',\n",
    "                  \",[Vendor Name]:\", vendor,\n",
    "                  ',[Vendor Result]:', outputs_result,\n",
    "                  ',[Vendor Detected]:', outputs_detected)\n",
    "            numbers += 1\n",
    "print(f\"악성이라 판단한 벤더의 개수: {numbers-1}\") \n",
    "\n"
   ]
  }
 ],
 "metadata": {
  "kernelspec": {
   "display_name": "base",
   "language": "python",
   "name": "python3"
  },
  "language_info": {
   "codemirror_mode": {
    "name": "ipython",
    "version": 3
   },
   "file_extension": ".py",
   "mimetype": "text/x-python",
   "name": "python",
   "nbconvert_exporter": "python",
   "pygments_lexer": "ipython3",
   "version": "3.12.7"
  }
 },
 "nbformat": 4,
 "nbformat_minor": 5
}

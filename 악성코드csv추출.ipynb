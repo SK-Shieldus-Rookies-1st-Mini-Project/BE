{
 "cells": [
  {
   "cell_type": "code",
   "execution_count": null,
   "id": "f28d1228",
   "metadata": {},
   "outputs": [
    {
     "name": "stdout",
     "output_type": "stream",
     "text": [
      "\n",
      "📂 처리 중: datatocsv\\dataset_part_1\\dataset-part-1\n"
     ]
    },
    {
     "name": "stderr",
     "output_type": "stream",
     "text": [
      "📁 part_1:   1%|          | 74/9974 [00:00<01:33, 105.66file/s]"
     ]
    },
    {
     "name": "stdout",
     "output_type": "stream",
     "text": [
      "[!] 레이블 정보 없음: 10001862.html\n"
     ]
    },
    {
     "name": "stderr",
     "output_type": "stream",
     "text": [
      "📁 part_1:   2%|▏         | 171/9974 [00:01<01:30, 108.57file/s]"
     ]
    },
    {
     "name": "stdout",
     "output_type": "stream",
     "text": [
      "[!] 레이블 정보 없음: 10003417.html\n",
      "[!] 레이블 정보 없음: 10003562.html\n"
     ]
    },
    {
     "name": "stderr",
     "output_type": "stream",
     "text": [
      "📁 part_1:   3%|▎         | 318/9974 [00:02<00:44, 219.10file/s]"
     ]
    },
    {
     "name": "stdout",
     "output_type": "stream",
     "text": [
      "[!] 레이블 정보 없음: 1607061534502718.html\n"
     ]
    },
    {
     "name": "stderr",
     "output_type": "stream",
     "text": [
      "📁 part_1:   3%|▎         | 318/9974 [00:02<00:44, 219.10file/s]"
     ]
    },
    {
     "name": "stdout",
     "output_type": "stream",
     "text": [
      "[!] 레이블 정보 없음: 1607062288516853.html\n"
     ]
    },
    {
     "name": "stderr",
     "output_type": "stream",
     "text": [
      "📁 part_1:   4%|▎         | 373/9974 [00:03<01:46, 89.77file/s] "
     ]
    },
    {
     "name": "stdout",
     "output_type": "stream",
     "text": [
      "[!] 레이블 정보 없음: 1607065173198076.html\n",
      "[!] 레이블 정보 없음: 16070655382005.html\n",
      "[!] 레이블 정보 없음: 1607066221976213.html\n"
     ]
    },
    {
     "name": "stderr",
     "output_type": "stream",
     "text": [
      "                                                                \r"
     ]
    },
    {
     "name": "stdout",
     "output_type": "stream",
     "text": [
      "[!] 레이블 정보 없음: 1607250530316725.html\n"
     ]
    },
    {
     "name": "stderr",
     "output_type": "stream",
     "text": [
      "📁 part_1:   5%|▌         | 520/9974 [00:05<02:31, 62.24file/s]"
     ]
    },
    {
     "name": "stdout",
     "output_type": "stream",
     "text": [
      "[!] 레이블 정보 없음: 1607251263983451.html\n"
     ]
    },
    {
     "name": "stderr",
     "output_type": "stream",
     "text": [
      "📁 part_1:   6%|▌         | 552/9974 [00:06<03:37, 43.37file/s]"
     ]
    },
    {
     "name": "stdout",
     "output_type": "stream",
     "text": [
      "[!] 레이블 정보 없음: 160725307912531.html\n",
      "[!] 레이블 정보 없음: 1607253539991745.html\n"
     ]
    },
    {
     "name": "stderr",
     "output_type": "stream",
     "text": [
      "📁 part_1:   6%|▌         | 573/9974 [00:07<05:02, 31.04file/s]"
     ]
    },
    {
     "name": "stdout",
     "output_type": "stream",
     "text": [
      "[!] 레이블 정보 없음: 1607254437832826.html\n"
     ]
    },
    {
     "name": "stderr",
     "output_type": "stream",
     "text": [
      "📁 part_1:   6%|▋         | 635/9974 [00:07<01:35, 97.53file/s]"
     ]
    },
    {
     "name": "stdout",
     "output_type": "stream",
     "text": [
      "[!] 레이블 정보 없음: 1607358588507373.html\n"
     ]
    },
    {
     "name": "stderr",
     "output_type": "stream",
     "text": [
      "📁 part_1:   7%|▋         | 698/9974 [00:08<01:32, 100.18file/s]"
     ]
    },
    {
     "name": "stdout",
     "output_type": "stream",
     "text": [
      "[!] 레이블 정보 없음: 1607539036231725.html\n"
     ]
    },
    {
     "name": "stderr",
     "output_type": "stream",
     "text": [
      "📁 part_1:   7%|▋         | 739/9974 [00:08<01:17, 118.91file/s]"
     ]
    },
    {
     "name": "stdout",
     "output_type": "stream",
     "text": [
      "[!] 레이블 정보 없음: 1607615856433366.html\n"
     ]
    },
    {
     "name": "stderr",
     "output_type": "stream",
     "text": [
      "📁 part_1:   8%|▊         | 799/9974 [00:09<01:51, 82.52file/s] "
     ]
    },
    {
     "name": "stdout",
     "output_type": "stream",
     "text": [
      "[!] 레이블 정보 없음: 1607619274474741.html\n"
     ]
    },
    {
     "name": "stderr",
     "output_type": "stream",
     "text": [
      "📁 part_1:   9%|▉         | 878/9974 [00:11<02:54, 52.15file/s] "
     ]
    },
    {
     "name": "stdout",
     "output_type": "stream",
     "text": [
      "[!] 레이블 정보 없음: 160771706274982.html\n"
     ]
    },
    {
     "name": "stderr",
     "output_type": "stream",
     "text": [
      "📁 part_1:   9%|▉         | 897/9974 [00:11<03:18, 45.80file/s]"
     ]
    },
    {
     "name": "stdout",
     "output_type": "stream",
     "text": [
      "[!] 레이블 정보 없음: 1607718246239172.html\n",
      "[!] 레이블 정보 없음: 1607719097591816.html\n",
      "[!] 레이블 정보 없음: 1607719205452544.html\n"
     ]
    },
    {
     "name": "stderr",
     "output_type": "stream",
     "text": [
      "📁 part_1:   9%|▉         | 928/9974 [00:12<03:24, 44.15file/s]"
     ]
    },
    {
     "name": "stdout",
     "output_type": "stream",
     "text": [
      "[!] 레이블 정보 없음: 1607720827537841.html\n"
     ]
    },
    {
     "name": "stderr",
     "output_type": "stream",
     "text": [
      "📁 part_1:  10%|▉         | 957/9974 [00:14<07:30, 20.04file/s]"
     ]
    },
    {
     "name": "stdout",
     "output_type": "stream",
     "text": [
      "[!] 레이블 정보 없음: 1607722597664762.html\n"
     ]
    },
    {
     "name": "stderr",
     "output_type": "stream",
     "text": [
      "📁 part_1:  10%|█         | 1016/9974 [00:16<04:28, 33.33file/s]"
     ]
    },
    {
     "name": "stdout",
     "output_type": "stream",
     "text": [
      "[!] 레이블 정보 없음: 1607926920247069.html\n",
      "[!] 레이블 정보 없음: 160792698062713.html\n"
     ]
    },
    {
     "name": "stderr",
     "output_type": "stream",
     "text": [
      "📁 part_1:  10%|█         | 1021/9974 [00:16<05:08, 29.02file/s]"
     ]
    },
    {
     "name": "stdout",
     "output_type": "stream",
     "text": [
      "[!] 레이블 정보 없음: 1607927244740644.html\n",
      "[!] 레이블 정보 없음: 1607927291956345.html\n"
     ]
    },
    {
     "name": "stderr",
     "output_type": "stream",
     "text": [
      "📁 part_1:  10%|█         | 1042/9974 [00:18<11:22, 13.09file/s]"
     ]
    },
    {
     "name": "stdout",
     "output_type": "stream",
     "text": [
      "[!] 레이블 정보 없음: 1607928809521237.html\n"
     ]
    },
    {
     "name": "stderr",
     "output_type": "stream",
     "text": [
      "📁 part_1:  11%|█         | 1053/9974 [00:19<11:01, 13.48file/s]"
     ]
    },
    {
     "name": "stdout",
     "output_type": "stream",
     "text": [
      "[!] 레이블 정보 없음: 1607929541408415.html\n"
     ]
    },
    {
     "name": "stderr",
     "output_type": "stream",
     "text": [
      "📁 part_1:  12%|█▏        | 1185/9974 [00:22<03:25, 42.76file/s]"
     ]
    },
    {
     "name": "stdout",
     "output_type": "stream",
     "text": [
      "[!] 레이블 정보 없음: 1608319407670193.html\n",
      "[!] 레이블 정보 없음: 1608319942181044.html\n"
     ]
    },
    {
     "name": "stderr",
     "output_type": "stream",
     "text": [
      "📁 part_1:  13%|█▎        | 1281/9974 [00:24<02:33, 56.60file/s]"
     ]
    },
    {
     "name": "stdout",
     "output_type": "stream",
     "text": [
      "[!] 레이블 정보 없음: 1608573820088125.html\n"
     ]
    },
    {
     "name": "stderr",
     "output_type": "stream",
     "text": [
      "📁 part_1:  13%|█▎        | 1332/9974 [00:25<02:02, 70.76file/s]"
     ]
    },
    {
     "name": "stdout",
     "output_type": "stream",
     "text": [
      "[!] 레이블 정보 없음: 1608651970077453.html\n"
     ]
    },
    {
     "name": "stderr",
     "output_type": "stream",
     "text": [
      "📁 part_1:  14%|█▍        | 1383/9974 [00:26<01:23, 103.45file/s]"
     ]
    },
    {
     "name": "stdout",
     "output_type": "stream",
     "text": [
      "[!] 레이블 정보 없음: 1608948377786524.html\n",
      "[!] 레이블 정보 없음: 1608948691215267.html\n"
     ]
    },
    {
     "name": "stderr",
     "output_type": "stream",
     "text": [
      "📁 part_1:  14%|█▍        | 1414/9974 [00:27<03:11, 44.65file/s] "
     ]
    },
    {
     "name": "stdout",
     "output_type": "stream",
     "text": [
      "[!] 레이블 정보 없음: 1608950143989335.html\n"
     ]
    },
    {
     "name": "stderr",
     "output_type": "stream",
     "text": [
      "📁 part_1:  14%|█▍        | 1428/9974 [00:27<03:21, 42.50file/s]"
     ]
    },
    {
     "name": "stdout",
     "output_type": "stream",
     "text": [
      "[!] 레이블 정보 없음: 1608951359354534.html\n",
      "[!] 레이블 정보 없음: 1608951805691115.html\n"
     ]
    },
    {
     "name": "stderr",
     "output_type": "stream",
     "text": [
      "📁 part_1:  15%|█▍        | 1458/9974 [00:28<02:59, 47.41file/s]"
     ]
    },
    {
     "name": "stdout",
     "output_type": "stream",
     "text": [
      "[!] 레이블 정보 없음: 1608953095882636.html\n"
     ]
    },
    {
     "name": "stderr",
     "output_type": "stream",
     "text": [
      "📁 part_1:  15%|█▍        | 1488/9974 [00:28<03:04, 45.94file/s]"
     ]
    },
    {
     "name": "stdout",
     "output_type": "stream",
     "text": [
      "[!] 레이블 정보 없음: 1608954628030611.html\n",
      "[!] 레이블 정보 없음: 1608954678833262.html\n"
     ]
    },
    {
     "name": "stderr",
     "output_type": "stream",
     "text": [
      "📁 part_1:  15%|█▌        | 1503/9974 [00:29<03:15, 43.27file/s]"
     ]
    },
    {
     "name": "stdout",
     "output_type": "stream",
     "text": [
      "[!] 레이블 정보 없음: 1608955851914504.html\n",
      "[!] 레이블 정보 없음: 1608956454283171.html\n"
     ]
    },
    {
     "name": "stderr",
     "output_type": "stream",
     "text": [
      "📁 part_1:  15%|█▌        | 1532/9974 [00:29<03:07, 45.07file/s]"
     ]
    },
    {
     "name": "stdout",
     "output_type": "stream",
     "text": [
      "[!] 레이블 정보 없음: 1608957444333666.html\n"
     ]
    },
    {
     "name": "stderr",
     "output_type": "stream",
     "text": [
      "📁 part_1:  16%|█▌        | 1550/9974 [00:30<02:48, 50.06file/s]"
     ]
    },
    {
     "name": "stdout",
     "output_type": "stream",
     "text": [
      "[!] 레이블 정보 없음: 1608958165886129.html\n"
     ]
    },
    {
     "name": "stderr",
     "output_type": "stream",
     "text": [
      "📁 part_1:  16%|█▌        | 1572/9974 [00:31<04:01, 34.73file/s]"
     ]
    },
    {
     "name": "stdout",
     "output_type": "stream",
     "text": [
      "[!] 레이블 정보 없음: 1608959536753706.html\n"
     ]
    },
    {
     "name": "stderr",
     "output_type": "stream",
     "text": [
      "📁 part_1:  16%|█▋        | 1628/9974 [00:31<01:23, 99.94file/s]"
     ]
    },
    {
     "name": "stdout",
     "output_type": "stream",
     "text": [
      "[!] 레이블 정보 없음: 160908171510005.html\n"
     ]
    },
    {
     "name": "stderr",
     "output_type": "stream",
     "text": [
      "📁 part_1:  16%|█▋        | 1639/9974 [00:31<01:55, 72.31file/s]"
     ]
    },
    {
     "name": "stdout",
     "output_type": "stream",
     "text": [
      "[!] 레이블 정보 없음: 1609088122932142.html\n",
      "[!] 레이블 정보 없음: 1609088231267985.html\n"
     ]
    },
    {
     "name": "stderr",
     "output_type": "stream",
     "text": [
      "📁 part_1:  17%|█▋        | 1656/9974 [00:32<02:19, 59.80file/s]"
     ]
    },
    {
     "name": "stdout",
     "output_type": "stream",
     "text": [
      "[!] 레이블 정보 없음: 1609089060641378.html\n"
     ]
    },
    {
     "name": "stderr",
     "output_type": "stream",
     "text": [
      "📁 part_1:  17%|█▋        | 1670/9974 [00:32<02:22, 58.16file/s]"
     ]
    },
    {
     "name": "stdout",
     "output_type": "stream",
     "text": [
      "[!] 레이블 정보 없음: 1609089706191595.html\n",
      "[!] 레이블 정보 없음: 16090903275657.html\n"
     ]
    },
    {
     "name": "stderr",
     "output_type": "stream",
     "text": [
      "📁 part_1:  17%|█▋        | 1690/9974 [00:33<02:39, 51.98file/s]"
     ]
    },
    {
     "name": "stdout",
     "output_type": "stream",
     "text": [
      "[!] 레이블 정보 없음: 1609091687247506.html\n"
     ]
    },
    {
     "name": "stderr",
     "output_type": "stream",
     "text": [
      "📁 part_1:  17%|█▋        | 1728/9974 [00:33<03:00, 45.80file/s]"
     ]
    },
    {
     "name": "stdout",
     "output_type": "stream",
     "text": [
      "[!] 레이블 정보 없음: 1609093951246102.html\n",
      "[!] 레이블 정보 없음: 1609094109141084.html\n"
     ]
    },
    {
     "name": "stderr",
     "output_type": "stream",
     "text": [
      "📁 part_1:  18%|█▊        | 1749/9974 [00:34<02:56, 46.52file/s]"
     ]
    },
    {
     "name": "stdout",
     "output_type": "stream",
     "text": [
      "[!] 레이블 정보 없음: 1609095280882404.html\n"
     ]
    },
    {
     "name": "stderr",
     "output_type": "stream",
     "text": [
      "📁 part_1:  18%|█▊        | 1768/9974 [00:34<02:54, 47.09file/s]"
     ]
    },
    {
     "name": "stdout",
     "output_type": "stream",
     "text": [
      "[!] 레이블 정보 없음: 1609096068366317.html\n",
      "[!] 레이블 정보 없음: 1609096189689167.html\n",
      "[!] 레이블 정보 없음: 1609096240828623.html\n"
     ]
    },
    {
     "name": "stderr",
     "output_type": "stream",
     "text": [
      "📁 part_1:  18%|█▊        | 1793/9974 [00:35<04:18, 31.69file/s]"
     ]
    },
    {
     "name": "stdout",
     "output_type": "stream",
     "text": [
      "[!] 레이블 정보 없음: 1609098634541107.html\n"
     ]
    },
    {
     "name": "stderr",
     "output_type": "stream",
     "text": [
      "📁 part_1:  18%|█▊        | 1817/9974 [00:36<02:58, 45.64file/s]"
     ]
    },
    {
     "name": "stdout",
     "output_type": "stream",
     "text": [
      "[!] 레이블 정보 없음: 1609100547176988.html\n",
      "[!] 레이블 정보 없음: 1609100604019086.html\n",
      "[!] 레이블 정보 없음: 160910118027338.html\n"
     ]
    },
    {
     "name": "stderr",
     "output_type": "stream",
     "text": [
      "📁 part_1:  19%|█▊        | 1847/9974 [00:37<04:55, 27.55file/s]"
     ]
    },
    {
     "name": "stdout",
     "output_type": "stream",
     "text": [
      "[!] 레이블 정보 없음: 1609103480518857.html\n"
     ]
    },
    {
     "name": "stderr",
     "output_type": "stream",
     "text": [
      "📁 part_1:  19%|█▉        | 1881/9974 [00:38<02:45, 49.01file/s]"
     ]
    },
    {
     "name": "stdout",
     "output_type": "stream",
     "text": [
      "[!] 레이블 정보 없음: 1609104904970044.html\n"
     ]
    },
    {
     "name": "stderr",
     "output_type": "stream",
     "text": [
      "📁 part_1:  19%|█▉        | 1904/9974 [00:38<03:07, 43.12file/s]"
     ]
    },
    {
     "name": "stdout",
     "output_type": "stream",
     "text": [
      "[!] 레이블 정보 없음: 160910586930738.html\n"
     ]
    },
    {
     "name": "stderr",
     "output_type": "stream",
     "text": [
      "📁 part_1:  20%|█▉        | 1972/9974 [00:40<04:16, 31.15file/s]"
     ]
    },
    {
     "name": "stdout",
     "output_type": "stream",
     "text": [
      "[!] 레이블 정보 없음: 1609111570627884.html\n"
     ]
    },
    {
     "name": "stderr",
     "output_type": "stream",
     "text": [
      "📁 part_1:  22%|██▏       | 2167/9974 [00:43<03:05, 42.18file/s] "
     ]
    },
    {
     "name": "stdout",
     "output_type": "stream",
     "text": [
      "[!] 레이블 정보 없음: 1609482657883937.html\n"
     ]
    },
    {
     "name": "stderr",
     "output_type": "stream",
     "text": [
      "📁 part_1:  22%|██▏       | 2189/9974 [00:44<03:11, 40.76file/s]"
     ]
    },
    {
     "name": "stdout",
     "output_type": "stream",
     "text": [
      "[!] 레이블 정보 없음: 1609484629603874.html\n"
     ]
    },
    {
     "name": "stderr",
     "output_type": "stream",
     "text": [
      "📁 part_1:  22%|██▏       | 2240/9974 [00:45<02:20, 55.00file/s]"
     ]
    },
    {
     "name": "stdout",
     "output_type": "stream",
     "text": [
      "[!] 레이블 정보 없음: 1613498830903131.html\n",
      "[!] 레이블 정보 없음: 1613499089435676.html\n",
      "[!] 레이블 정보 없음: 1613499098321427.html\n"
     ]
    },
    {
     "name": "stderr",
     "output_type": "stream",
     "text": [
      "📁 part_1:  23%|██▎       | 2252/9974 [00:45<02:39, 48.32file/s]"
     ]
    },
    {
     "name": "stdout",
     "output_type": "stream",
     "text": [
      "[!] 레이블 정보 없음: 1613516247362553.html\n"
     ]
    },
    {
     "name": "stderr",
     "output_type": "stream",
     "text": [
      "📁 part_1:  23%|██▎       | 2275/9974 [00:46<02:58, 43.25file/s]"
     ]
    },
    {
     "name": "stdout",
     "output_type": "stream",
     "text": [
      "[!] 레이블 정보 없음: 1613516943325122.html\n"
     ]
    },
    {
     "name": "stderr",
     "output_type": "stream",
     "text": [
      "📁 part_1:  23%|██▎       | 2301/9974 [00:47<03:29, 36.54file/s]"
     ]
    },
    {
     "name": "stdout",
     "output_type": "stream",
     "text": [
      "[!] 레이블 정보 없음: 1613519039377402.html\n",
      "[!] 레이블 정보 없음: 1613519046664575.html\n"
     ]
    },
    {
     "name": "stderr",
     "output_type": "stream",
     "text": [
      "📁 part_1:  23%|██▎       | 2316/9974 [00:47<04:25, 28.87file/s]"
     ]
    },
    {
     "name": "stdout",
     "output_type": "stream",
     "text": [
      "[!] 레이블 정보 없음: 1613519862805186.html\n",
      "[!] 레이블 정보 없음: 1613519875935021.html\n",
      "[!] 레이블 정보 없음: 1613519947926733.html\n"
     ]
    },
    {
     "name": "stderr",
     "output_type": "stream",
     "text": [
      "📁 part_1:  23%|██▎       | 2327/9974 [00:47<03:22, 37.69file/s]"
     ]
    },
    {
     "name": "stdout",
     "output_type": "stream",
     "text": [
      "[!] 레이블 정보 없음: 1613520534723209.html\n"
     ]
    },
    {
     "name": "stderr",
     "output_type": "stream",
     "text": [
      "📁 part_1:  23%|██▎       | 2343/9974 [00:48<03:20, 38.07file/s]"
     ]
    },
    {
     "name": "stdout",
     "output_type": "stream",
     "text": [
      "[!] 레이블 정보 없음: 1613520844512057.html\n"
     ]
    },
    {
     "name": "stderr",
     "output_type": "stream",
     "text": [
      "📁 part_1:  24%|██▍       | 2373/9974 [00:49<02:45, 45.94file/s]"
     ]
    },
    {
     "name": "stdout",
     "output_type": "stream",
     "text": [
      "[!] 레이블 정보 없음: 1613521816671855.html\n",
      "[!] 레이블 정보 없음: 1613521862667229.html\n"
     ]
    },
    {
     "name": "stderr",
     "output_type": "stream",
     "text": [
      "📁 part_1:  24%|██▍       | 2414/9974 [00:50<02:59, 42.18file/s]"
     ]
    },
    {
     "name": "stdout",
     "output_type": "stream",
     "text": [
      "[!] 레이블 정보 없음: 1613523452882616.html\n"
     ]
    },
    {
     "name": "stderr",
     "output_type": "stream",
     "text": [
      "📁 part_1:  24%|██▍       | 2426/9974 [00:50<02:53, 43.42file/s]"
     ]
    },
    {
     "name": "stdout",
     "output_type": "stream",
     "text": [
      "[!] 레이블 정보 없음: 1613524060726126.html\n"
     ]
    },
    {
     "name": "stderr",
     "output_type": "stream",
     "text": [
      "📁 part_1:  25%|██▍       | 2449/9974 [00:50<03:01, 41.52file/s]"
     ]
    },
    {
     "name": "stdout",
     "output_type": "stream",
     "text": [
      "[!] 레이블 정보 없음: 1613524901827564.html\n"
     ]
    },
    {
     "name": "stderr",
     "output_type": "stream",
     "text": [
      "📁 part_1:  25%|██▍       | 2471/9974 [00:51<02:53, 43.33file/s]"
     ]
    },
    {
     "name": "stdout",
     "output_type": "stream",
     "text": [
      "[!] 레이블 정보 없음: 1613525510024732.html\n"
     ]
    },
    {
     "name": "stderr",
     "output_type": "stream",
     "text": [
      "📁 part_1:  25%|██▍       | 2480/9974 [00:51<03:57, 31.53file/s]"
     ]
    },
    {
     "name": "stdout",
     "output_type": "stream",
     "text": [
      "[!] 레이블 정보 없음: 1613525845050233.html\n",
      "[!] 레이블 정보 없음: 1613526144778264.html\n"
     ]
    },
    {
     "name": "stderr",
     "output_type": "stream",
     "text": [
      "📁 part_1:  25%|██▍       | 2492/9974 [00:52<03:25, 36.42file/s]"
     ]
    },
    {
     "name": "stdout",
     "output_type": "stream",
     "text": [
      "[!] 레이블 정보 없음: 1613526320178314.html\n",
      "[!] 레이블 정보 없음: 1613526334018943.html\n"
     ]
    },
    {
     "name": "stderr",
     "output_type": "stream",
     "text": [
      "📁 part_1:  25%|██▌       | 2504/9974 [00:52<03:04, 40.39file/s]"
     ]
    },
    {
     "name": "stdout",
     "output_type": "stream",
     "text": [
      "[!] 레이블 정보 없음: 1613526728658993.html\n",
      "[!] 레이블 정보 없음: 1613526734364622.html\n",
      "[!] 레이블 정보 없음: 1613526880795642.html\n"
     ]
    },
    {
     "name": "stderr",
     "output_type": "stream",
     "text": [
      "📁 part_1:  25%|██▌       | 2509/9974 [00:52<04:00, 31.08file/s]"
     ]
    },
    {
     "name": "stdout",
     "output_type": "stream",
     "text": [
      "[!] 레이블 정보 없음: 1613527572850329.html\n"
     ]
    },
    {
     "name": "stderr",
     "output_type": "stream",
     "text": [
      "📁 part_1:  26%|██▌       | 2565/9974 [00:53<02:33, 48.25file/s]"
     ]
    },
    {
     "name": "stdout",
     "output_type": "stream",
     "text": [
      "[!] 레이블 정보 없음: 1613529391780266.html\n"
     ]
    },
    {
     "name": "stderr",
     "output_type": "stream",
     "text": [
      "📁 part_1:  26%|██▌       | 2588/9974 [00:54<02:43, 45.28file/s]"
     ]
    },
    {
     "name": "stdout",
     "output_type": "stream",
     "text": [
      "[!] 레이블 정보 없음: 1613530611469711.html\n"
     ]
    },
    {
     "name": "stderr",
     "output_type": "stream",
     "text": [
      "📁 part_1:  26%|██▌       | 2601/9974 [00:54<03:13, 38.10file/s]"
     ]
    },
    {
     "name": "stdout",
     "output_type": "stream",
     "text": [
      "[!] 레이블 정보 없음: 161353084416398.html\n",
      "[!] 레이블 정보 없음: 1613531060168538.html\n",
      "[!] 레이블 정보 없음: 1613531063458527.html\n"
     ]
    },
    {
     "name": "stderr",
     "output_type": "stream",
     "text": [
      "📁 part_1:  26%|██▋       | 2619/9974 [00:55<02:48, 43.61file/s]"
     ]
    },
    {
     "name": "stdout",
     "output_type": "stream",
     "text": [
      "[!] 레이블 정보 없음: 161353130369113.html\n"
     ]
    },
    {
     "name": "stderr",
     "output_type": "stream",
     "text": [
      "📁 part_1:  27%|██▋       | 2663/9974 [00:56<03:23, 35.96file/s]"
     ]
    },
    {
     "name": "stdout",
     "output_type": "stream",
     "text": [
      "[!] 레이블 정보 없음: 1613533121098019.html\n",
      "[!] 레이블 정보 없음: 1613533291231245.html\n",
      "[!] 레이블 정보 없음: 1613533601966512.html\n"
     ]
    },
    {
     "name": "stderr",
     "output_type": "stream",
     "text": [
      "📁 part_1:  27%|██▋       | 2672/9974 [00:57<03:46, 32.22file/s]"
     ]
    },
    {
     "name": "stdout",
     "output_type": "stream",
     "text": [
      "[!] 레이블 정보 없음: 1613533642772078.html\n"
     ]
    },
    {
     "name": "stderr",
     "output_type": "stream",
     "text": [
      "📁 part_1:  27%|██▋       | 2700/9974 [00:57<03:07, 38.74file/s]"
     ]
    },
    {
     "name": "stdout",
     "output_type": "stream",
     "text": [
      "[!] 레이블 정보 없음: 1613534806714048.html\n"
     ]
    },
    {
     "name": "stderr",
     "output_type": "stream",
     "text": [
      "📁 part_1:  27%|██▋       | 2710/9974 [00:58<03:23, 35.73file/s]"
     ]
    },
    {
     "name": "stdout",
     "output_type": "stream",
     "text": [
      "[!] 레이블 정보 없음: 1613535255628252.html\n",
      "[!] 레이블 정보 없음: 1613535273652663.html\n",
      "[!] 레이블 정보 없음: 1613535368320435.html\n"
     ]
    },
    {
     "name": "stderr",
     "output_type": "stream",
     "text": [
      "📁 part_1:  27%|██▋       | 2720/9974 [00:58<03:37, 33.38file/s]"
     ]
    },
    {
     "name": "stdout",
     "output_type": "stream",
     "text": [
      "[!] 레이블 정보 없음: 1613535538562703.html\n"
     ]
    },
    {
     "name": "stderr",
     "output_type": "stream",
     "text": [
      "📁 part_1:  27%|██▋       | 2739/9974 [00:58<03:02, 39.69file/s]"
     ]
    },
    {
     "name": "stdout",
     "output_type": "stream",
     "text": [
      "[!] 레이블 정보 없음: 1613537822631181.html\n"
     ]
    },
    {
     "name": "stderr",
     "output_type": "stream",
     "text": [
      "📁 part_1:  28%|██▊       | 2749/9974 [00:59<03:22, 35.65file/s]"
     ]
    },
    {
     "name": "stdout",
     "output_type": "stream",
     "text": [
      "[!] 레이블 정보 없음: 1613540006808279.html\n"
     ]
    },
    {
     "name": "stderr",
     "output_type": "stream",
     "text": [
      "📁 part_1:  28%|██▊       | 2772/9974 [01:00<03:35, 33.37file/s]"
     ]
    },
    {
     "name": "stdout",
     "output_type": "stream",
     "text": [
      "[!] 레이블 정보 없음: 1613541024449022.html\n"
     ]
    },
    {
     "name": "stderr",
     "output_type": "stream",
     "text": [
      "📁 part_1:  28%|██▊       | 2832/9974 [01:01<03:31, 33.69file/s]"
     ]
    },
    {
     "name": "stdout",
     "output_type": "stream",
     "text": [
      "[!] 레이블 정보 없음: 1613547013881995.html\n"
     ]
    },
    {
     "name": "stderr",
     "output_type": "stream",
     "text": [
      "📁 part_1:  29%|██▊       | 2850/9974 [01:02<03:00, 39.45file/s]"
     ]
    },
    {
     "name": "stdout",
     "output_type": "stream",
     "text": [
      "[!] 레이블 정보 없음: 1613548485206944.html\n",
      "[!] 레이블 정보 없음: 1613548539704926.html\n"
     ]
    },
    {
     "name": "stderr",
     "output_type": "stream",
     "text": [
      "📁 part_1:  29%|██▉       | 2871/9974 [01:02<02:07, 55.50file/s]"
     ]
    },
    {
     "name": "stdout",
     "output_type": "stream",
     "text": [
      "[!] 레이블 정보 없음: 1613549535320889.html\n",
      "[!] 레이블 정보 없음: 1613549809319681.html\n"
     ]
    },
    {
     "name": "stderr",
     "output_type": "stream",
     "text": [
      "📁 part_1:  29%|██▉       | 2929/9974 [01:03<02:26, 48.19file/s]"
     ]
    },
    {
     "name": "stdout",
     "output_type": "stream",
     "text": [
      "[!] 레이블 정보 없음: 1613553720817432.html\n"
     ]
    },
    {
     "name": "stderr",
     "output_type": "stream",
     "text": [
      "📁 part_1:  29%|██▉       | 2939/9974 [01:04<03:05, 37.98file/s]"
     ]
    },
    {
     "name": "stdout",
     "output_type": "stream",
     "text": [
      "[!] 레이블 정보 없음: 161355421791759.html\n",
      "[!] 레이블 정보 없음: 1613554522546224.html\n"
     ]
    },
    {
     "name": "stderr",
     "output_type": "stream",
     "text": [
      "📁 part_1:  30%|██▉       | 2955/9974 [01:04<04:27, 26.26file/s]"
     ]
    },
    {
     "name": "stdout",
     "output_type": "stream",
     "text": [
      "[!] 레이블 정보 없음: 1613555139132015.html\n",
      "[!] 레이블 정보 없음: 161355518627221.html\n"
     ]
    },
    {
     "name": "stderr",
     "output_type": "stream",
     "text": [
      "📁 part_1:  30%|██▉       | 2966/9974 [01:05<03:57, 29.46file/s]"
     ]
    },
    {
     "name": "stdout",
     "output_type": "stream",
     "text": [
      "[!] 레이블 정보 없음: 1613555688953579.html\n"
     ]
    },
    {
     "name": "stderr",
     "output_type": "stream",
     "text": [
      "📁 part_1:  30%|███       | 3007/9974 [01:06<02:40, 43.52file/s]"
     ]
    },
    {
     "name": "stdout",
     "output_type": "stream",
     "text": [
      "[!] 레이블 정보 없음: 1613559842500988.html\n",
      "[!] 레이블 정보 없음: 1613559964172891.html\n",
      "[!] 레이블 정보 없음: 1613560215804773.html\n"
     ]
    },
    {
     "name": "stderr",
     "output_type": "stream",
     "text": [
      "📁 part_1:  30%|███       | 3016/9974 [01:06<02:06, 55.18file/s]"
     ]
    },
    {
     "name": "stdout",
     "output_type": "stream",
     "text": [
      "[!] 레이블 정보 없음: 1613560464094281.html\n"
     ]
    },
    {
     "name": "stderr",
     "output_type": "stream",
     "text": [
      "📁 part_1:  30%|███       | 3034/9974 [01:06<02:15, 51.21file/s]"
     ]
    },
    {
     "name": "stdout",
     "output_type": "stream",
     "text": [
      "[!] 레이블 정보 없음: 1613560941367208.html\n"
     ]
    },
    {
     "name": "stderr",
     "output_type": "stream",
     "text": [
      "📁 part_1:  31%|███       | 3072/9974 [01:07<02:23, 48.02file/s]"
     ]
    },
    {
     "name": "stdout",
     "output_type": "stream",
     "text": [
      "[!] 레이블 정보 없음: 1613562608849678.html\n",
      "[!] 레이블 정보 없음: 1613562854194882.html\n"
     ]
    },
    {
     "name": "stderr",
     "output_type": "stream",
     "text": [
      "📁 part_1:  31%|███▏      | 3120/9974 [01:08<02:12, 51.54file/s]"
     ]
    },
    {
     "name": "stdout",
     "output_type": "stream",
     "text": [
      "[!] 레이블 정보 없음: 1613564735248976.html\n"
     ]
    },
    {
     "name": "stderr",
     "output_type": "stream",
     "text": [
      "📁 part_1:  32%|███▏      | 3168/9974 [01:09<02:34, 43.96file/s]"
     ]
    },
    {
     "name": "stdout",
     "output_type": "stream",
     "text": [
      "[!] 레이블 정보 없음: 1613566661079819.html\n"
     ]
    },
    {
     "name": "stderr",
     "output_type": "stream",
     "text": [
      "📁 part_1:  32%|███▏      | 3184/9974 [01:10<03:10, 35.62file/s]"
     ]
    },
    {
     "name": "stdout",
     "output_type": "stream",
     "text": [
      "[!] 레이블 정보 없음: 1613567285904827.html\n"
     ]
    },
    {
     "name": "stderr",
     "output_type": "stream",
     "text": [
      "📁 part_1:  32%|███▏      | 3195/9974 [01:10<04:03, 27.83file/s]"
     ]
    },
    {
     "name": "stdout",
     "output_type": "stream",
     "text": [
      "[!] 레이블 정보 없음: 1613567878993063.html\n"
     ]
    },
    {
     "name": "stderr",
     "output_type": "stream",
     "text": [
      "📁 part_1:  32%|███▏      | 3226/9974 [01:11<02:48, 40.13file/s]"
     ]
    },
    {
     "name": "stdout",
     "output_type": "stream",
     "text": [
      "[!] 레이블 정보 없음: 1613569293496269.html\n"
     ]
    },
    {
     "name": "stderr",
     "output_type": "stream",
     "text": [
      "📁 part_1:  32%|███▏      | 3240/9974 [01:11<02:32, 44.03file/s]"
     ]
    },
    {
     "name": "stdout",
     "output_type": "stream",
     "text": [
      "[!] 레이블 정보 없음: 1613569704419987.html\n",
      "[!] 레이블 정보 없음: 1613569712865608.html\n",
      "[!] 레이블 정보 없음: 1613569760561044.html\n",
      "[!] 레이블 정보 없음: 1613569819237911.html\n",
      "[!] 레이블 정보 없음: 161356985918306.html\n"
     ]
    },
    {
     "name": "stderr",
     "output_type": "stream",
     "text": [
      "📁 part_1:  33%|███▎      | 3252/9974 [01:12<02:36, 42.97file/s]"
     ]
    },
    {
     "name": "stdout",
     "output_type": "stream",
     "text": [
      "[!] 레이블 정보 없음: 1613570012796609.html\n"
     ]
    },
    {
     "name": "stderr",
     "output_type": "stream",
     "text": [
      "📁 part_1:  33%|███▎      | 3260/9974 [01:12<02:53, 38.59file/s]"
     ]
    },
    {
     "name": "stdout",
     "output_type": "stream",
     "text": [
      "[!] 레이블 정보 없음: 161357072343514.html\n"
     ]
    },
    {
     "name": "stderr",
     "output_type": "stream",
     "text": [
      "📁 part_1:  33%|███▎      | 3289/9974 [01:12<02:14, 49.60file/s]"
     ]
    },
    {
     "name": "stdout",
     "output_type": "stream",
     "text": [
      "[!] 레이블 정보 없음: 1613571450122555.html\n",
      "[!] 레이블 정보 없음: 1613571837437041.html\n"
     ]
    },
    {
     "name": "stderr",
     "output_type": "stream",
     "text": [
      "📁 part_1:  33%|███▎      | 3324/9974 [01:13<01:04, 103.67file/s]"
     ]
    },
    {
     "name": "stdout",
     "output_type": "stream",
     "text": [
      "[!] 레이블 정보 없음: 1613571982183422.html\n"
     ]
    },
    {
     "name": "stderr",
     "output_type": "stream",
     "text": [
      "📁 part_1:  35%|███▍      | 3446/9974 [01:13<00:45, 143.73file/s]"
     ]
    },
    {
     "name": "stdout",
     "output_type": "stream",
     "text": [
      "[!] 레이블 정보 없음: 1613572925034645.html\n"
     ]
    },
    {
     "name": "stderr",
     "output_type": "stream",
     "text": [
      "📁 part_1:  36%|███▌      | 3601/9974 [01:15<00:42, 150.54file/s]"
     ]
    },
    {
     "name": "stdout",
     "output_type": "stream",
     "text": [
      "[!] 레이블 정보 없음: 1613573383788167.html\n"
     ]
    },
    {
     "name": "stderr",
     "output_type": "stream",
     "text": [
      "📁 part_1:  38%|███▊      | 3784/9974 [01:16<00:42, 146.48file/s]"
     ]
    },
    {
     "name": "stdout",
     "output_type": "stream",
     "text": [
      "[!] 레이블 정보 없음: 1613574004969257.html\n"
     ]
    },
    {
     "name": "stderr",
     "output_type": "stream",
     "text": [
      "📁 part_1:  43%|████▎     | 4271/9974 [01:19<00:41, 138.71file/s]"
     ]
    },
    {
     "name": "stdout",
     "output_type": "stream",
     "text": [
      "[!] 레이블 정보 없음: 1613575798244069.html\n"
     ]
    },
    {
     "name": "stderr",
     "output_type": "stream",
     "text": [
      "📁 part_1:  44%|████▍     | 4422/9974 [01:20<00:32, 169.69file/s]"
     ]
    },
    {
     "name": "stdout",
     "output_type": "stream",
     "text": [
      "[!] 레이블 정보 없음: 1613576236900309.html\n"
     ]
    },
    {
     "name": "stderr",
     "output_type": "stream",
     "text": [
      "📁 part_1:  47%|████▋     | 4661/9974 [01:22<00:29, 182.06file/s]"
     ]
    },
    {
     "name": "stdout",
     "output_type": "stream",
     "text": [
      "[!] 레이블 정보 없음: 1613577482819438.html\n",
      "[!] 레이블 정보 없음: 1613577590459059.html\n"
     ]
    },
    {
     "name": "stderr",
     "output_type": "stream",
     "text": [
      "📁 part_1:  47%|████▋     | 4696/9974 [01:23<01:10, 74.56file/s] "
     ]
    },
    {
     "name": "stdout",
     "output_type": "stream",
     "text": [
      "[!] 레이블 정보 없음: 161357813106615.html\n"
     ]
    },
    {
     "name": "stderr",
     "output_type": "stream",
     "text": [
      "📁 part_1:  47%|████▋     | 4708/9974 [01:23<01:15, 70.11file/s]"
     ]
    },
    {
     "name": "stdout",
     "output_type": "stream",
     "text": [
      "[!] 레이블 정보 없음: 1613578497361275.html\n"
     ]
    },
    {
     "name": "stderr",
     "output_type": "stream",
     "text": [
      "📁 part_1:  47%|████▋     | 4726/9974 [01:23<01:29, 58.56file/s]"
     ]
    },
    {
     "name": "stdout",
     "output_type": "stream",
     "text": [
      "[!] 레이블 정보 없음: 1613578991962783.html\n"
     ]
    },
    {
     "name": "stderr",
     "output_type": "stream",
     "text": [
      "📁 part_1:  48%|████▊     | 4741/9974 [01:24<01:44, 49.90file/s]"
     ]
    },
    {
     "name": "stdout",
     "output_type": "stream",
     "text": [
      "[!] 레이블 정보 없음: 1613579502129137.html\n"
     ]
    },
    {
     "name": "stderr",
     "output_type": "stream",
     "text": [
      "📁 part_1:  48%|████▊     | 4786/9974 [01:24<01:42, 50.57file/s]"
     ]
    },
    {
     "name": "stdout",
     "output_type": "stream",
     "text": [
      "[!] 레이블 정보 없음: 161358101956788.html\n"
     ]
    },
    {
     "name": "stderr",
     "output_type": "stream",
     "text": [
      "📁 part_1:  48%|████▊     | 4799/9974 [01:25<02:06, 40.76file/s]"
     ]
    },
    {
     "name": "stdout",
     "output_type": "stream",
     "text": [
      "[!] 레이블 정보 없음: 1613581652291634.html\n"
     ]
    },
    {
     "name": "stderr",
     "output_type": "stream",
     "text": [
      "📁 part_1:  48%|████▊     | 4822/9974 [01:26<02:21, 36.46file/s]"
     ]
    },
    {
     "name": "stdout",
     "output_type": "stream",
     "text": [
      "[!] 레이블 정보 없음: 1613582607531753.html\n",
      "[!] 레이블 정보 없음: 161358265780407.html\n"
     ]
    },
    {
     "name": "stderr",
     "output_type": "stream",
     "text": [
      "📁 part_1:  49%|████▉     | 4866/9974 [01:27<01:44, 48.70file/s]"
     ]
    },
    {
     "name": "stdout",
     "output_type": "stream",
     "text": [
      "[!] 레이블 정보 없음: 1613583993915248.html\n",
      "[!] 레이블 정보 없음: 1613584140897594.html\n"
     ]
    },
    {
     "name": "stderr",
     "output_type": "stream",
     "text": [
      "📁 part_1:  49%|████▉     | 4884/9974 [01:27<02:09, 39.45file/s]"
     ]
    },
    {
     "name": "stdout",
     "output_type": "stream",
     "text": [
      "[!] 레이블 정보 없음: 1613588808516757.html\n"
     ]
    },
    {
     "name": "stderr",
     "output_type": "stream",
     "text": [
      "📁 part_1:  49%|████▉     | 4917/9974 [01:28<02:38, 31.92file/s]"
     ]
    },
    {
     "name": "stdout",
     "output_type": "stream",
     "text": [
      "[!] 레이블 정보 없음: 1613589823722411.html\n"
     ]
    },
    {
     "name": "stderr",
     "output_type": "stream",
     "text": [
      "📁 part_1:  51%|█████     | 5048/9974 [01:30<00:31, 155.92file/s]"
     ]
    },
    {
     "name": "stdout",
     "output_type": "stream",
     "text": [
      "[!] 레이블 정보 없음: 1619550564278043.html\n"
     ]
    },
    {
     "name": "stderr",
     "output_type": "stream",
     "text": [
      "📁 part_1:  52%|█████▏    | 5149/9974 [01:31<00:29, 164.82file/s]"
     ]
    },
    {
     "name": "stdout",
     "output_type": "stream",
     "text": [
      "[!] 레이블 정보 없음: 1621891895444023.html\n"
     ]
    },
    {
     "name": "stderr",
     "output_type": "stream",
     "text": [
      "📁 part_1:  52%|█████▏    | 5195/9974 [01:32<01:04, 73.65file/s] "
     ]
    },
    {
     "name": "stdout",
     "output_type": "stream",
     "text": [
      "[!] 레이블 정보 없음: 1622086735020011.html\n"
     ]
    },
    {
     "name": "stderr",
     "output_type": "stream",
     "text": [
      "📁 part_1:  53%|█████▎    | 5279/9974 [01:32<00:38, 122.54file/s]"
     ]
    },
    {
     "name": "stdout",
     "output_type": "stream",
     "text": [
      "[!] 레이블 정보 없음: 162256173283139.html\n"
     ]
    },
    {
     "name": "stderr",
     "output_type": "stream",
     "text": [
      "📁 part_1:  53%|█████▎    | 5330/9974 [01:33<00:26, 173.50file/s]"
     ]
    },
    {
     "name": "stdout",
     "output_type": "stream",
     "text": [
      "[!] 레이블 정보 없음: 1623144153533494.html\n"
     ]
    },
    {
     "name": "stderr",
     "output_type": "stream",
     "text": [
      "📁 part_1:  54%|█████▎    | 5351/9974 [01:34<00:57, 80.55file/s] "
     ]
    },
    {
     "name": "stdout",
     "output_type": "stream",
     "text": [
      "[!] 레이블 정보 없음: 1623144740095044.html\n"
     ]
    },
    {
     "name": "stderr",
     "output_type": "stream",
     "text": [
      "📁 part_1:  54%|█████▍    | 5367/9974 [01:34<01:26, 53.34file/s]"
     ]
    },
    {
     "name": "stdout",
     "output_type": "stream",
     "text": [
      "[!] 레이블 정보 없음: 1623145252240494.html\n",
      "[!] 레이블 정보 없음: 1623145579412765.html\n"
     ]
    },
    {
     "name": "stderr",
     "output_type": "stream",
     "text": [
      "📁 part_1:  54%|█████▍    | 5403/9974 [01:35<02:00, 37.95file/s]"
     ]
    },
    {
     "name": "stdout",
     "output_type": "stream",
     "text": [
      "[!] 레이블 정보 없음: 1623147742760075.html\n",
      "[!] 레이블 정보 없음: 1623148594300106.html\n",
      "[!] 레이블 정보 없음: 1623148610669027.html\n"
     ]
    },
    {
     "name": "stderr",
     "output_type": "stream",
     "text": [
      "📁 part_1:  54%|█████▍    | 5416/9974 [01:36<01:57, 38.92file/s]"
     ]
    },
    {
     "name": "stdout",
     "output_type": "stream",
     "text": [
      "[!] 레이블 정보 없음: 162314897993495.html\n",
      "[!] 레이블 정보 없음: 1623149311719778.html\n"
     ]
    },
    {
     "name": "stderr",
     "output_type": "stream",
     "text": [
      "📁 part_1:  55%|█████▍    | 5449/9974 [01:37<02:51, 26.31file/s]"
     ]
    },
    {
     "name": "stdout",
     "output_type": "stream",
     "text": [
      "[!] 레이블 정보 없음: 1623151160074978.html\n",
      "[!] 레이블 정보 없음: 1623151426299401.html\n"
     ]
    },
    {
     "name": "stderr",
     "output_type": "stream",
     "text": [
      "📁 part_1:  55%|█████▍    | 5467/9974 [01:37<02:21, 31.82file/s]"
     ]
    },
    {
     "name": "stdout",
     "output_type": "stream",
     "text": [
      "[!] 레이블 정보 없음: 162315297796017.html\n"
     ]
    },
    {
     "name": "stderr",
     "output_type": "stream",
     "text": [
      "📁 part_1:  55%|█████▍    | 5471/9974 [01:38<02:35, 29.01file/s]"
     ]
    },
    {
     "name": "stdout",
     "output_type": "stream",
     "text": [
      "[!] 레이블 정보 없음: 1623153531463892.html\n",
      "[!] 레이블 정보 없음: 1623153585154154.html\n"
     ]
    },
    {
     "name": "stderr",
     "output_type": "stream",
     "text": [
      "📁 part_1:  55%|█████▍    | 5481/9974 [01:38<03:01, 24.75file/s]"
     ]
    },
    {
     "name": "stdout",
     "output_type": "stream",
     "text": [
      "[!] 레이블 정보 없음: 1623153962994724.html\n"
     ]
    },
    {
     "name": "stderr",
     "output_type": "stream",
     "text": [
      "📁 part_1:  55%|█████▌    | 5493/9974 [01:38<02:21, 31.61file/s]"
     ]
    },
    {
     "name": "stdout",
     "output_type": "stream",
     "text": [
      "[!] 레이블 정보 없음: 1623154857661642.html\n",
      "[!] 레이블 정보 없음: 1623154994021878.html\n"
     ]
    },
    {
     "name": "stderr",
     "output_type": "stream",
     "text": [
      "📁 part_1:  55%|█████▌    | 5520/9974 [01:39<01:40, 44.44file/s]"
     ]
    },
    {
     "name": "stdout",
     "output_type": "stream",
     "text": [
      "[!] 레이블 정보 없음: 1623157283972578.html\n"
     ]
    },
    {
     "name": "stderr",
     "output_type": "stream",
     "text": [
      "📁 part_1:  56%|█████▌    | 5545/9974 [01:40<02:08, 34.35file/s]"
     ]
    },
    {
     "name": "stdout",
     "output_type": "stream",
     "text": [
      "[!] 레이블 정보 없음: 1623160778013292.html\n",
      "[!] 레이블 정보 없음: 1623161029664118.html\n"
     ]
    },
    {
     "name": "stderr",
     "output_type": "stream",
     "text": [
      "📁 part_1:  56%|█████▌    | 5556/9974 [01:40<02:05, 35.27file/s]"
     ]
    },
    {
     "name": "stdout",
     "output_type": "stream",
     "text": [
      "[!] 레이블 정보 없음: 1623161420656101.html\n",
      "[!] 레이블 정보 없음: 1623161873575934.html\n"
     ]
    },
    {
     "name": "stderr",
     "output_type": "stream",
     "text": [
      "📁 part_1:  57%|█████▋    | 5720/9974 [01:42<00:29, 146.20file/s]"
     ]
    },
    {
     "name": "stdout",
     "output_type": "stream",
     "text": [
      "[!] 레이블 정보 없음: 1624851197494933.html\n"
     ]
    },
    {
     "name": "stderr",
     "output_type": "stream",
     "text": [
      "📁 part_1:  58%|█████▊    | 5788/9974 [01:43<00:33, 124.32file/s]"
     ]
    },
    {
     "name": "stdout",
     "output_type": "stream",
     "text": [
      "[!] 레이블 정보 없음: 1625020255677595.html\n",
      "[!] 레이블 정보 없음: 162506703547162.html\n"
     ]
    },
    {
     "name": "stderr",
     "output_type": "stream",
     "text": [
      "📁 part_1:  59%|█████▊    | 5853/9974 [01:43<00:25, 159.90file/s]"
     ]
    },
    {
     "name": "stdout",
     "output_type": "stream",
     "text": [
      "[!] 레이블 정보 없음: 1625150021284623.html\n"
     ]
    },
    {
     "name": "stderr",
     "output_type": "stream",
     "text": [
      "📁 part_1:  60%|██████    | 6027/9974 [01:45<00:25, 157.16file/s]"
     ]
    },
    {
     "name": "stdout",
     "output_type": "stream",
     "text": [
      "[!] 레이블 정보 없음: 162611476641808.html\n",
      "[!] 레이블 정보 없음: 1626115022405836.html\n"
     ]
    },
    {
     "name": "stderr",
     "output_type": "stream",
     "text": [
      "📁 part_1:  61%|██████    | 6044/9974 [01:45<00:57, 67.94file/s] "
     ]
    },
    {
     "name": "stdout",
     "output_type": "stream",
     "text": [
      "[!] 레이블 정보 없음: 1626116522223257.html\n"
     ]
    },
    {
     "name": "stderr",
     "output_type": "stream",
     "text": [
      "📁 part_1:  61%|██████    | 6057/9974 [01:45<01:16, 51.51file/s]"
     ]
    },
    {
     "name": "stdout",
     "output_type": "stream",
     "text": [
      "[!] 레이블 정보 없음: 1626117611413504.html\n"
     ]
    },
    {
     "name": "stderr",
     "output_type": "stream",
     "text": [
      "📁 part_1:  61%|██████    | 6088/9974 [01:46<01:30, 42.91file/s]"
     ]
    },
    {
     "name": "stdout",
     "output_type": "stream",
     "text": [
      "[!] 레이블 정보 없음: 1626119865089062.html\n"
     ]
    },
    {
     "name": "stderr",
     "output_type": "stream",
     "text": [
      "📁 part_1:  61%|██████    | 6094/9974 [01:46<01:31, 42.29file/s]"
     ]
    },
    {
     "name": "stdout",
     "output_type": "stream",
     "text": [
      "[!] 레이블 정보 없음: 1626120653346653.html\n"
     ]
    },
    {
     "name": "stderr",
     "output_type": "stream",
     "text": [
      "📁 part_1:  61%|██████▏   | 6119/9974 [01:47<01:53, 33.94file/s]"
     ]
    },
    {
     "name": "stdout",
     "output_type": "stream",
     "text": [
      "[!] 레이블 정보 없음: 1626122297841255.html\n",
      "[!] 레이블 정보 없음: 1626123334755684.html\n"
     ]
    },
    {
     "name": "stderr",
     "output_type": "stream",
     "text": [
      "📁 part_1:  61%|██████▏   | 6134/9974 [01:48<02:10, 29.46file/s]"
     ]
    },
    {
     "name": "stdout",
     "output_type": "stream",
     "text": [
      "[!] 레이블 정보 없음: 1626124011678607.html\n",
      "[!] 레이블 정보 없음: 162612406120004.html\n",
      "[!] 레이블 정보 없음: 1626124213092103.html\n"
     ]
    },
    {
     "name": "stderr",
     "output_type": "stream",
     "text": [
      "📁 part_1:  62%|██████▏   | 6160/9974 [01:49<02:11, 29.04file/s]"
     ]
    },
    {
     "name": "stdout",
     "output_type": "stream",
     "text": [
      "[!] 레이블 정보 없음: 1626126084787786.html\n",
      "[!] 레이블 정보 없음: 1626126250652243.html\n",
      "[!] 레이블 정보 없음: 1626126280480336.html\n"
     ]
    },
    {
     "name": "stderr",
     "output_type": "stream",
     "text": [
      "📁 part_1:  62%|██████▏   | 6176/9974 [01:49<02:00, 31.55file/s]"
     ]
    },
    {
     "name": "stdout",
     "output_type": "stream",
     "text": [
      "[!] 레이블 정보 없음: 1626127116965304.html\n"
     ]
    },
    {
     "name": "stderr",
     "output_type": "stream",
     "text": [
      "📁 part_1:  62%|██████▏   | 6188/9974 [01:49<01:31, 41.21file/s]"
     ]
    },
    {
     "name": "stdout",
     "output_type": "stream",
     "text": [
      "[!] 레이블 정보 없음: 1626127894495096.html\n"
     ]
    },
    {
     "name": "stderr",
     "output_type": "stream",
     "text": [
      "📁 part_1:  62%|██████▏   | 6226/9974 [01:50<01:14, 50.34file/s]"
     ]
    },
    {
     "name": "stdout",
     "output_type": "stream",
     "text": [
      "[!] 레이블 정보 없음: 1626168789955602.html\n",
      "[!] 레이블 정보 없음: 1626168830724158.html\n",
      "[!] 레이블 정보 없음: 162616978343467.html\n"
     ]
    },
    {
     "name": "stderr",
     "output_type": "stream",
     "text": [
      "📁 part_1:  62%|██████▏   | 6233/9974 [01:50<01:10, 52.88file/s]"
     ]
    },
    {
     "name": "stdout",
     "output_type": "stream",
     "text": [
      "[!] 레이블 정보 없음: 1626171350511534.html\n"
     ]
    },
    {
     "name": "stderr",
     "output_type": "stream",
     "text": [
      "📁 part_1:  63%|██████▎   | 6318/9974 [01:51<00:37, 96.46file/s] "
     ]
    },
    {
     "name": "stdout",
     "output_type": "stream",
     "text": [
      "[!] 레이블 정보 없음: 1626486642331057.html\n"
     ]
    },
    {
     "name": "stderr",
     "output_type": "stream",
     "text": [
      "📁 part_1:  64%|██████▎   | 6339/9974 [01:52<00:59, 61.10file/s]"
     ]
    },
    {
     "name": "stdout",
     "output_type": "stream",
     "text": [
      "[!] 레이블 정보 없음: 1626555100771515.html\n"
     ]
    },
    {
     "name": "stderr",
     "output_type": "stream",
     "text": [
      "📁 part_1:  64%|██████▍   | 6373/9974 [01:52<00:45, 79.02file/s]"
     ]
    },
    {
     "name": "stdout",
     "output_type": "stream",
     "text": [
      "[!] 레이블 정보 없음: 1626637848223218.html\n"
     ]
    },
    {
     "name": "stderr",
     "output_type": "stream",
     "text": [
      "📁 part_1:  65%|██████▌   | 6530/9974 [01:56<01:09, 49.49file/s]"
     ]
    },
    {
     "name": "stdout",
     "output_type": "stream",
     "text": [
      "[!] 레이블 정보 없음: 1626924173508011.html\n"
     ]
    },
    {
     "name": "stderr",
     "output_type": "stream",
     "text": [
      "📁 part_1:  66%|██████▌   | 6537/9974 [01:56<01:36, 35.68file/s]"
     ]
    },
    {
     "name": "stdout",
     "output_type": "stream",
     "text": [
      "[!] 레이블 정보 없음: 1626929572080476.html\n"
     ]
    },
    {
     "name": "stderr",
     "output_type": "stream",
     "text": [
      "📁 part_1:  66%|██████▌   | 6552/9974 [01:57<02:07, 26.81file/s]"
     ]
    },
    {
     "name": "stdout",
     "output_type": "stream",
     "text": [
      "[!] 레이블 정보 없음: 1626939433452675.html\n"
     ]
    },
    {
     "name": "stderr",
     "output_type": "stream",
     "text": [
      "📁 part_1:  66%|██████▌   | 6559/9974 [01:57<01:40, 33.89file/s]"
     ]
    },
    {
     "name": "stdout",
     "output_type": "stream",
     "text": [
      "[!] 레이블 정보 없음: 1626941577864779.html\n"
     ]
    },
    {
     "name": "stderr",
     "output_type": "stream",
     "text": [
      "📁 part_1:  66%|██████▌   | 6574/9974 [01:58<01:53, 29.92file/s]"
     ]
    },
    {
     "name": "stdout",
     "output_type": "stream",
     "text": [
      "[!] 레이블 정보 없음: 1626957322136352.html\n",
      "[!] 레이블 정보 없음: 1626963277088291.html\n"
     ]
    },
    {
     "name": "stderr",
     "output_type": "stream",
     "text": [
      "📁 part_1:  66%|██████▌   | 6606/9974 [01:58<01:18, 42.89file/s]"
     ]
    },
    {
     "name": "stdout",
     "output_type": "stream",
     "text": [
      "[!] 레이블 정보 없음: 1626972760149982.html\n"
     ]
    },
    {
     "name": "stderr",
     "output_type": "stream",
     "text": [
      "📁 part_1:  67%|██████▋   | 6636/9974 [01:59<00:50, 66.44file/s]"
     ]
    },
    {
     "name": "stdout",
     "output_type": "stream",
     "text": [
      "[!] 레이블 정보 없음: 162699206315325.html\n"
     ]
    },
    {
     "name": "stderr",
     "output_type": "stream",
     "text": [
      "📁 part_1:  67%|██████▋   | 6691/9974 [02:00<00:33, 97.55file/s]"
     ]
    },
    {
     "name": "stdout",
     "output_type": "stream",
     "text": [
      "[!] 레이블 정보 없음: 1635697525149134.html\n"
     ]
    },
    {
     "name": "stderr",
     "output_type": "stream",
     "text": [
      "                                                                \r"
     ]
    },
    {
     "name": "stdout",
     "output_type": "stream",
     "text": [
      "[!] 레이블 정보 없음: 163569753897046.html\n",
      "[!] 레이블 정보 없음: 1635697764118784.html\n"
     ]
    },
    {
     "name": "stderr",
     "output_type": "stream",
     "text": [
      "📁 part_1:  67%|██████▋   | 6719/9974 [02:00<01:02, 51.86file/s]"
     ]
    },
    {
     "name": "stdout",
     "output_type": "stream",
     "text": [
      "[!] 레이블 정보 없음: 1635697854640411.html\n"
     ]
    },
    {
     "name": "stderr",
     "output_type": "stream",
     "text": [
      "                                                                "
     ]
    },
    {
     "name": "stdout",
     "output_type": "stream",
     "text": [
      "[!] 레이블 정보 없음: 1635698357052491.html\n",
      "[!] 레이블 정보 없음: 1635698366840035.html\n"
     ]
    },
    {
     "name": "stderr",
     "output_type": "stream",
     "text": [
      "📁 part_1:  68%|██████▊   | 6778/9974 [02:02<01:13, 43.59file/s]"
     ]
    },
    {
     "name": "stdout",
     "output_type": "stream",
     "text": [
      "[!] 레이블 정보 없음: 1635698409125092.html\n",
      "[!] 레이블 정보 없음: 1635698417624716.html\n"
     ]
    },
    {
     "name": "stderr",
     "output_type": "stream",
     "text": [
      "📁 part_1:  68%|██████▊   | 6814/9974 [02:03<01:47, 29.42file/s]"
     ]
    },
    {
     "name": "stdout",
     "output_type": "stream",
     "text": [
      "[!] 레이블 정보 없음: 1635698647065673.html\n"
     ]
    },
    {
     "name": "stderr",
     "output_type": "stream",
     "text": [
      "📁 part_1:  69%|██████▊   | 6851/9974 [02:04<00:59, 52.22file/s]"
     ]
    },
    {
     "name": "stdout",
     "output_type": "stream",
     "text": [
      "[!] 레이블 정보 없음: 1635698840721574.html\n"
     ]
    },
    {
     "name": "stderr",
     "output_type": "stream",
     "text": [
      "📁 part_1:  69%|██████▉   | 6862/9974 [02:04<01:24, 36.74file/s]"
     ]
    },
    {
     "name": "stdout",
     "output_type": "stream",
     "text": [
      "[!] 레이블 정보 없음: 1635698882808247.html\n"
     ]
    },
    {
     "name": "stderr",
     "output_type": "stream",
     "text": [
      "📁 part_1:  69%|██████▉   | 6871/9974 [02:04<01:41, 30.46file/s]"
     ]
    },
    {
     "name": "stdout",
     "output_type": "stream",
     "text": [
      "[!] 레이블 정보 없음: 1635698908764031.html\n"
     ]
    },
    {
     "name": "stderr",
     "output_type": "stream",
     "text": [
      "📁 part_1:  69%|██████▉   | 6913/9974 [02:06<01:35, 32.07file/s]"
     ]
    },
    {
     "name": "stdout",
     "output_type": "stream",
     "text": [
      "[!] 레이블 정보 없음: 1635699065017378.html\n"
     ]
    },
    {
     "name": "stderr",
     "output_type": "stream",
     "text": [
      "📁 part_1:  70%|██████▉   | 6937/9974 [02:07<01:13, 41.35file/s]"
     ]
    },
    {
     "name": "stdout",
     "output_type": "stream",
     "text": [
      "[!] 레이블 정보 없음: 1635699248019825.html\n"
     ]
    },
    {
     "name": "stderr",
     "output_type": "stream",
     "text": [
      "📁 part_1:  70%|██████▉   | 6961/9974 [02:07<01:10, 42.60file/s]"
     ]
    },
    {
     "name": "stdout",
     "output_type": "stream",
     "text": [
      "[!] 레이블 정보 없음: 1635699345931732.html\n"
     ]
    },
    {
     "name": "stderr",
     "output_type": "stream",
     "text": [
      "📁 part_1:  70%|██████▉   | 6971/9974 [02:07<01:23, 36.06file/s]"
     ]
    },
    {
     "name": "stdout",
     "output_type": "stream",
     "text": [
      "[!] 레이블 정보 없음: 1635699423954178.html\n"
     ]
    },
    {
     "name": "stderr",
     "output_type": "stream",
     "text": [
      "📁 part_1:  70%|███████   | 7006/9974 [02:08<01:26, 34.38file/s]"
     ]
    },
    {
     "name": "stdout",
     "output_type": "stream",
     "text": [
      "[!] 레이블 정보 없음: 1635699570882479.html\n"
     ]
    },
    {
     "name": "stderr",
     "output_type": "stream",
     "text": [
      "📁 part_1:  70%|███████   | 7019/9974 [02:09<01:03, 46.56file/s]"
     ]
    },
    {
     "name": "stdout",
     "output_type": "stream",
     "text": [
      "[!] 레이블 정보 없음: 1635699617257534.html\n"
     ]
    },
    {
     "name": "stderr",
     "output_type": "stream",
     "text": [
      "📁 part_1:  70%|███████   | 7025/9974 [02:09<02:25, 20.29file/s]"
     ]
    },
    {
     "name": "stdout",
     "output_type": "stream",
     "text": [
      "[!] 레이블 정보 없음: 1635699657515861.html\n"
     ]
    },
    {
     "name": "stderr",
     "output_type": "stream",
     "text": [
      "📁 part_1:  70%|███████   | 7029/9974 [02:10<02:52, 17.07file/s]"
     ]
    },
    {
     "name": "stdout",
     "output_type": "stream",
     "text": [
      "[!] 레이블 정보 없음: 1635699686106053.html\n"
     ]
    },
    {
     "name": "stderr",
     "output_type": "stream",
     "text": [
      "📁 part_1:  71%|███████   | 7036/9974 [02:10<02:42, 18.03file/s]"
     ]
    },
    {
     "name": "stdout",
     "output_type": "stream",
     "text": [
      "[!] 레이블 정보 없음: 1635699724568367.html\n"
     ]
    },
    {
     "name": "stderr",
     "output_type": "stream",
     "text": [
      "📁 part_1:  71%|███████   | 7069/9974 [02:12<02:03, 23.43file/s]"
     ]
    },
    {
     "name": "stdout",
     "output_type": "stream",
     "text": [
      "[!] 레이블 정보 없음: 1635699888741225.html\n"
     ]
    },
    {
     "name": "stderr",
     "output_type": "stream",
     "text": [
      "📁 part_1:  71%|███████   | 7073/9974 [02:13<04:52,  9.90file/s]"
     ]
    },
    {
     "name": "stdout",
     "output_type": "stream",
     "text": [
      "[!] 레이블 정보 없음: 1635699903188832.html\n"
     ]
    },
    {
     "name": "stderr",
     "output_type": "stream",
     "text": [
      "📁 part_1:  71%|███████▏  | 7115/9974 [02:17<03:28, 13.70file/s]"
     ]
    },
    {
     "name": "stdout",
     "output_type": "stream",
     "text": [
      "[!] 레이블 정보 없음: 16357002387229.html\n"
     ]
    },
    {
     "name": "stderr",
     "output_type": "stream",
     "text": [
      "📁 part_1:  71%|███████▏  | 7128/9974 [02:18<02:36, 18.22file/s]"
     ]
    },
    {
     "name": "stdout",
     "output_type": "stream",
     "text": [
      "[!] 레이블 정보 없음: 1635700263382096.html\n",
      "[!] 레이블 정보 없음: 1635700267108274.html\n"
     ]
    },
    {
     "name": "stderr",
     "output_type": "stream",
     "text": [
      "📁 part_1:  72%|███████▏  | 7144/9974 [02:18<01:24, 33.56file/s]"
     ]
    },
    {
     "name": "stdout",
     "output_type": "stream",
     "text": [
      "[!] 레이블 정보 없음: 1635700382508171.html\n"
     ]
    },
    {
     "name": "stderr",
     "output_type": "stream",
     "text": [
      "📁 part_1:  72%|███████▏  | 7165/9974 [02:19<01:37, 28.86file/s]"
     ]
    },
    {
     "name": "stdout",
     "output_type": "stream",
     "text": [
      "[!] 레이블 정보 없음: 1635700459006472.html\n"
     ]
    },
    {
     "name": "stderr",
     "output_type": "stream",
     "text": [
      "📁 part_1:  72%|███████▏  | 7200/9974 [02:20<01:18, 35.32file/s]"
     ]
    },
    {
     "name": "stdout",
     "output_type": "stream",
     "text": [
      "[!] 레이블 정보 없음: 1635700566014058.html\n"
     ]
    },
    {
     "name": "stderr",
     "output_type": "stream",
     "text": [
      "📁 part_1:  73%|███████▎  | 7243/9974 [02:21<01:16, 35.65file/s]"
     ]
    },
    {
     "name": "stdout",
     "output_type": "stream",
     "text": [
      "[!] 레이블 정보 없음: 1635700747803809.html\n"
     ]
    },
    {
     "name": "stderr",
     "output_type": "stream",
     "text": [
      "                                                                "
     ]
    },
    {
     "name": "stdout",
     "output_type": "stream",
     "text": [
      "[!] 레이블 정보 없음: 1635700796882118.html\n"
     ]
    },
    {
     "name": "stderr",
     "output_type": "stream",
     "text": [
      "📁 part_1:  73%|███████▎  | 7267/9974 [02:22<01:21, 33.25file/s]"
     ]
    },
    {
     "name": "stdout",
     "output_type": "stream",
     "text": [
      "[!] 레이블 정보 없음: 1635700819349177.html\n"
     ]
    },
    {
     "name": "stderr",
     "output_type": "stream",
     "text": [
      "📁 part_1:  73%|███████▎  | 7282/9974 [02:22<01:01, 44.08file/s]"
     ]
    },
    {
     "name": "stdout",
     "output_type": "stream",
     "text": [
      "[!] 레이블 정보 없음: 1635700936562268.html\n"
     ]
    },
    {
     "name": "stderr",
     "output_type": "stream",
     "text": [
      "📁 part_1:  73%|███████▎  | 7300/9974 [02:22<00:54, 49.25file/s]"
     ]
    },
    {
     "name": "stdout",
     "output_type": "stream",
     "text": [
      "[!] 레이블 정보 없음: 1635700975265222.html\n",
      "[!] 레이블 정보 없음: 1635700980585991.html\n",
      "[!] 레이블 정보 없음: 1635700983453448.html\n"
     ]
    },
    {
     "name": "stderr",
     "output_type": "stream",
     "text": [
      "📁 part_1:  73%|███████▎  | 7326/9974 [02:23<01:12, 36.31file/s]"
     ]
    },
    {
     "name": "stdout",
     "output_type": "stream",
     "text": [
      "[!] 레이블 정보 없음: 1635701077967158.html\n"
     ]
    },
    {
     "name": "stderr",
     "output_type": "stream",
     "text": [
      "📁 part_1:  74%|███████▎  | 7339/9974 [02:24<01:44, 25.14file/s]"
     ]
    },
    {
     "name": "stdout",
     "output_type": "stream",
     "text": [
      "[!] 레이블 정보 없음: 163570115560616.html\n"
     ]
    },
    {
     "name": "stderr",
     "output_type": "stream",
     "text": [
      "📁 part_1:  74%|███████▎  | 7352/9974 [02:24<01:17, 33.69file/s]"
     ]
    },
    {
     "name": "stdout",
     "output_type": "stream",
     "text": [
      "[!] 레이블 정보 없음: 1635701241960477.html\n"
     ]
    },
    {
     "name": "stderr",
     "output_type": "stream",
     "text": [
      "                                                                "
     ]
    },
    {
     "name": "stdout",
     "output_type": "stream",
     "text": [
      "[!] 레이블 정보 없음: 1635701378003817.html\n"
     ]
    },
    {
     "name": "stderr",
     "output_type": "stream",
     "text": [
      "📁 part_1:  74%|███████▍  | 7375/9974 [02:25<01:11, 36.21file/s]"
     ]
    },
    {
     "name": "stdout",
     "output_type": "stream",
     "text": [
      "[!] 레이블 정보 없음: 1635701404044059.html\n"
     ]
    },
    {
     "name": "stderr",
     "output_type": "stream",
     "text": [
      "📁 part_1:  74%|███████▍  | 7379/9974 [02:25<01:12, 35.63file/s]"
     ]
    },
    {
     "name": "stdout",
     "output_type": "stream",
     "text": [
      "[!] 레이블 정보 없음: 1635701441024861.html\n"
     ]
    },
    {
     "name": "stderr",
     "output_type": "stream",
     "text": [
      "📁 part_1:  74%|███████▍  | 7401/9974 [02:25<00:48, 52.72file/s]"
     ]
    },
    {
     "name": "stdout",
     "output_type": "stream",
     "text": [
      "[!] 레이블 정보 없음: 1635701489996272.html\n",
      "[!] 레이블 정보 없음: 1635701508625561.html\n",
      "[!] 레이블 정보 없음: 1635701519696589.html\n"
     ]
    },
    {
     "name": "stderr",
     "output_type": "stream",
     "text": [
      "📁 part_1:  75%|███████▍  | 7444/9974 [02:27<01:31, 27.67file/s]"
     ]
    },
    {
     "name": "stdout",
     "output_type": "stream",
     "text": [
      "[!] 레이블 정보 없음: 1635701812543181.html\n"
     ]
    },
    {
     "name": "stderr",
     "output_type": "stream",
     "text": [
      "📁 part_1:  75%|███████▍  | 7460/9974 [02:27<01:25, 29.23file/s]"
     ]
    },
    {
     "name": "stdout",
     "output_type": "stream",
     "text": [
      "[!] 레이블 정보 없음: 1635701884170232.html\n",
      "[!] 레이블 정보 없음: 1635701888696224.html\n"
     ]
    },
    {
     "name": "stderr",
     "output_type": "stream",
     "text": [
      "📁 part_1:  75%|███████▌  | 7521/9974 [02:29<01:21, 30.20file/s]"
     ]
    },
    {
     "name": "stdout",
     "output_type": "stream",
     "text": [
      "[!] 레이블 정보 없음: 1635702281559789.html\n"
     ]
    },
    {
     "name": "stderr",
     "output_type": "stream",
     "text": [
      "📁 part_1:  76%|███████▌  | 7543/9974 [02:31<01:53, 21.38file/s]"
     ]
    },
    {
     "name": "stdout",
     "output_type": "stream",
     "text": [
      "[!] 레이블 정보 없음: 1635702371746367.html\n"
     ]
    },
    {
     "name": "stderr",
     "output_type": "stream",
     "text": [
      "📁 part_1:  76%|███████▌  | 7558/9974 [02:31<01:34, 25.49file/s]"
     ]
    },
    {
     "name": "stdout",
     "output_type": "stream",
     "text": [
      "[!] 레이블 정보 없음: 1635702487593393.html\n",
      "[!] 레이블 정보 없음: 1635702488786562.html\n"
     ]
    },
    {
     "name": "stderr",
     "output_type": "stream",
     "text": [
      "📁 part_1:  76%|███████▌  | 7573/9974 [02:32<01:32, 25.86file/s]"
     ]
    },
    {
     "name": "stdout",
     "output_type": "stream",
     "text": [
      "[!] 레이블 정보 없음: 1635702531595483.html\n"
     ]
    },
    {
     "name": "stderr",
     "output_type": "stream",
     "text": [
      "📁 part_1:  76%|███████▌  | 7581/9974 [02:32<01:04, 37.01file/s]"
     ]
    },
    {
     "name": "stdout",
     "output_type": "stream",
     "text": [
      "[!] 레이블 정보 없음: 1635702554846563.html\n"
     ]
    },
    {
     "name": "stderr",
     "output_type": "stream",
     "text": [
      "📁 part_1:  77%|███████▋  | 7641/9974 [02:34<01:19, 29.34file/s]"
     ]
    },
    {
     "name": "stdout",
     "output_type": "stream",
     "text": [
      "[!] 레이블 정보 없음: 1635702774432636.html\n",
      "[!] 레이블 정보 없음: 1635702785043116.html\n"
     ]
    },
    {
     "name": "stderr",
     "output_type": "stream",
     "text": [
      "📁 part_1:  77%|███████▋  | 7645/9974 [02:34<01:29, 26.11file/s]"
     ]
    },
    {
     "name": "stdout",
     "output_type": "stream",
     "text": [
      "[!] 레이블 정보 없음: 1635702802480752.html\n"
     ]
    },
    {
     "name": "stderr",
     "output_type": "stream",
     "text": [
      "📁 part_1:  77%|███████▋  | 7656/9974 [02:34<01:31, 25.29file/s]"
     ]
    },
    {
     "name": "stdout",
     "output_type": "stream",
     "text": [
      "[!] 레이블 정보 없음: 1635702828678324.html\n"
     ]
    },
    {
     "name": "stderr",
     "output_type": "stream",
     "text": [
      "📁 part_1:  77%|███████▋  | 7668/9974 [02:35<01:28, 25.97file/s]"
     ]
    },
    {
     "name": "stdout",
     "output_type": "stream",
     "text": [
      "[!] 레이블 정보 없음: 1635702863332645.html\n"
     ]
    },
    {
     "name": "stderr",
     "output_type": "stream",
     "text": [
      "📁 part_1:  77%|███████▋  | 7705/9974 [02:37<02:24, 15.71file/s]"
     ]
    },
    {
     "name": "stdout",
     "output_type": "stream",
     "text": [
      "[!] 레이블 정보 없음: 1635703046111132.html\n"
     ]
    },
    {
     "name": "stderr",
     "output_type": "stream",
     "text": [
      "📁 part_1:  77%|███████▋  | 7722/9974 [02:38<01:32, 24.44file/s]"
     ]
    },
    {
     "name": "stdout",
     "output_type": "stream",
     "text": [
      "[!] 레이블 정보 없음: 163570316250122.html\n"
     ]
    },
    {
     "name": "stderr",
     "output_type": "stream",
     "text": [
      "📁 part_1:  78%|███████▊  | 7738/9974 [02:39<01:28, 25.33file/s]"
     ]
    },
    {
     "name": "stdout",
     "output_type": "stream",
     "text": [
      "[!] 레이블 정보 없음: 1635703193490011.html\n",
      "[!] 레이블 정보 없음: 1635703209599017.html\n",
      "[!] 레이블 정보 없음: 16357032240435.html\n"
     ]
    },
    {
     "name": "stderr",
     "output_type": "stream",
     "text": [
      "📁 part_1:  78%|███████▊  | 7758/9974 [02:39<01:08, 32.38file/s]"
     ]
    },
    {
     "name": "stdout",
     "output_type": "stream",
     "text": [
      "[!] 레이블 정보 없음: 1635703280643894.html\n",
      "[!] 레이블 정보 없음: 1635703294509119.html\n"
     ]
    },
    {
     "name": "stderr",
     "output_type": "stream",
     "text": [
      "📁 part_1:  78%|███████▊  | 7775/9974 [02:40<01:14, 29.32file/s]"
     ]
    },
    {
     "name": "stdout",
     "output_type": "stream",
     "text": [
      "[!] 레이블 정보 없음: 1635703350601864.html\n"
     ]
    },
    {
     "name": "stderr",
     "output_type": "stream",
     "text": [
      "📁 part_1:  78%|███████▊  | 7787/9974 [02:41<03:05, 11.82file/s]"
     ]
    },
    {
     "name": "stdout",
     "output_type": "stream",
     "text": [
      "[!] 레이블 정보 없음: 1635703391723118.html\n"
     ]
    },
    {
     "name": "stderr",
     "output_type": "stream",
     "text": [
      "📁 part_1:  79%|███████▊  | 7831/9974 [02:42<00:54, 39.56file/s]"
     ]
    },
    {
     "name": "stdout",
     "output_type": "stream",
     "text": [
      "[!] 레이블 정보 없음: 1635703615428847.html\n"
     ]
    },
    {
     "name": "stderr",
     "output_type": "stream",
     "text": [
      "📁 part_1:  79%|███████▊  | 7841/9974 [02:43<01:11, 29.68file/s]"
     ]
    },
    {
     "name": "stdout",
     "output_type": "stream",
     "text": [
      "[!] 레이블 정보 없음: 1635703655311065.html\n"
     ]
    },
    {
     "name": "stderr",
     "output_type": "stream",
     "text": [
      "📁 part_1:  79%|███████▊  | 7851/9974 [02:43<01:02, 33.91file/s]"
     ]
    },
    {
     "name": "stdout",
     "output_type": "stream",
     "text": [
      "[!] 레이블 정보 없음: 1635703749062059.html\n",
      "[!] 레이블 정보 없음: 1635703753534162.html\n"
     ]
    },
    {
     "name": "stderr",
     "output_type": "stream",
     "text": [
      "📁 part_1:  79%|███████▉  | 7927/9974 [02:46<00:52, 39.16file/s]"
     ]
    },
    {
     "name": "stdout",
     "output_type": "stream",
     "text": [
      "[!] 레이블 정보 없음: 1635704112237408.html\n"
     ]
    },
    {
     "name": "stderr",
     "output_type": "stream",
     "text": [
      "📁 part_1:  80%|███████▉  | 7974/9974 [02:47<00:46, 43.20file/s]"
     ]
    },
    {
     "name": "stdout",
     "output_type": "stream",
     "text": [
      "[!] 레이블 정보 없음: 1635704282949374.html\n",
      "[!] 레이블 정보 없음: 1635704302290072.html\n",
      "[!] 레이블 정보 없음: 1635704325529445.html\n"
     ]
    },
    {
     "name": "stderr",
     "output_type": "stream",
     "text": [
      "📁 part_1:  80%|████████  | 7993/9974 [02:48<01:10, 28.10file/s]"
     ]
    },
    {
     "name": "stdout",
     "output_type": "stream",
     "text": [
      "[!] 레이블 정보 없음: 1635704537646723.html\n"
     ]
    },
    {
     "name": "stderr",
     "output_type": "stream",
     "text": [
      "📁 part_1:  80%|████████  | 8012/9974 [02:48<00:50, 38.66file/s]"
     ]
    },
    {
     "name": "stdout",
     "output_type": "stream",
     "text": [
      "[!] 레이블 정보 없음: 1635704576166182.html\n"
     ]
    },
    {
     "name": "stderr",
     "output_type": "stream",
     "text": [
      "📁 part_1:  81%|████████  | 8031/9974 [02:49<01:05, 29.65file/s]"
     ]
    },
    {
     "name": "stdout",
     "output_type": "stream",
     "text": [
      "[!] 레이블 정보 없음: 1635704646022044.html\n"
     ]
    },
    {
     "name": "stderr",
     "output_type": "stream",
     "text": [
      "📁 part_1:  81%|████████  | 8067/9974 [02:50<00:36, 52.69file/s]"
     ]
    },
    {
     "name": "stdout",
     "output_type": "stream",
     "text": [
      "[!] 레이블 정보 없음: 1635704778173756.html\n"
     ]
    },
    {
     "name": "stderr",
     "output_type": "stream",
     "text": [
      "📁 part_1:  81%|████████  | 8074/9974 [02:50<00:39, 48.46file/s]"
     ]
    },
    {
     "name": "stdout",
     "output_type": "stream",
     "text": [
      "[!] 레이블 정보 없음: 1635704889853009.html\n"
     ]
    },
    {
     "name": "stderr",
     "output_type": "stream",
     "text": [
      "📁 part_1:  81%|████████  | 8088/9974 [02:50<00:44, 41.97file/s]"
     ]
    },
    {
     "name": "stdout",
     "output_type": "stream",
     "text": [
      "[!] 레이블 정보 없음: 1635704982739551.html\n"
     ]
    },
    {
     "name": "stderr",
     "output_type": "stream",
     "text": [
      "📁 part_1:  81%|████████  | 8102/9974 [02:51<00:53, 34.70file/s]"
     ]
    },
    {
     "name": "stdout",
     "output_type": "stream",
     "text": [
      "[!] 레이블 정보 없음: 1635705054481376.html\n"
     ]
    },
    {
     "name": "stderr",
     "output_type": "stream",
     "text": [
      "📁 part_1:  81%|████████▏ | 8118/9974 [02:51<00:48, 38.38file/s]"
     ]
    },
    {
     "name": "stdout",
     "output_type": "stream",
     "text": [
      "[!] 레이블 정보 없음: 1635705171882708.html\n"
     ]
    },
    {
     "name": "stderr",
     "output_type": "stream",
     "text": [
      "📁 part_1:  82%|████████▏ | 8144/9974 [02:52<01:09, 26.16file/s]"
     ]
    },
    {
     "name": "stdout",
     "output_type": "stream",
     "text": [
      "[!] 레이블 정보 없음: 1635705294163226.html\n"
     ]
    },
    {
     "name": "stderr",
     "output_type": "stream",
     "text": [
      "📁 part_1:  82%|████████▏ | 8198/9974 [02:55<01:05, 27.18file/s]"
     ]
    },
    {
     "name": "stdout",
     "output_type": "stream",
     "text": [
      "[!] 레이블 정보 없음: 1635705593956297.html\n",
      "[!] 레이블 정보 없음: 1635705621514214.html\n"
     ]
    },
    {
     "name": "stderr",
     "output_type": "stream",
     "text": [
      "📁 part_1:  83%|████████▎ | 8250/9974 [02:56<00:41, 41.34file/s]"
     ]
    },
    {
     "name": "stdout",
     "output_type": "stream",
     "text": [
      "[!] 레이블 정보 없음: 1635705861852349.html\n",
      "[!] 레이블 정보 없음: 1635705866844677.html\n",
      "[!] 레이블 정보 없음: 1635705874303622.html\n",
      "[!] 레이블 정보 없음: 1635705876130988.html\n",
      "[!] 레이블 정보 없음: 1635705935690484.html\n"
     ]
    },
    {
     "name": "stderr",
     "output_type": "stream",
     "text": [
      "📁 part_1:  83%|████████▎ | 8250/9974 [02:56<00:41, 41.34file/s]"
     ]
    },
    {
     "name": "stdout",
     "output_type": "stream",
     "text": [
      "[!] 레이블 정보 없음: 1635705969047158.html\n"
     ]
    },
    {
     "name": "stderr",
     "output_type": "stream",
     "text": [
      "📁 part_1:  83%|████████▎ | 8285/9974 [02:57<00:42, 40.07file/s]"
     ]
    },
    {
     "name": "stdout",
     "output_type": "stream",
     "text": [
      "[!] 레이블 정보 없음: 1635706104575255.html\n",
      "[!] 레이블 정보 없음: 1635706106257041.html\n"
     ]
    },
    {
     "name": "stderr",
     "output_type": "stream",
     "text": [
      "📁 part_1:  83%|████████▎ | 8300/9974 [02:58<00:51, 32.29file/s]"
     ]
    },
    {
     "name": "stdout",
     "output_type": "stream",
     "text": [
      "[!] 레이블 정보 없음: 163570614694087.html\n"
     ]
    },
    {
     "name": "stderr",
     "output_type": "stream",
     "text": [
      "📁 part_1:  84%|████████▍ | 8354/9974 [02:59<00:43, 37.66file/s]"
     ]
    },
    {
     "name": "stdout",
     "output_type": "stream",
     "text": [
      "[!] 레이블 정보 없음: 163570634067141.html\n"
     ]
    },
    {
     "name": "stderr",
     "output_type": "stream",
     "text": [
      "📁 part_1:  84%|████████▍ | 8379/9974 [03:00<00:52, 30.36file/s]"
     ]
    },
    {
     "name": "stdout",
     "output_type": "stream",
     "text": [
      "[!] 레이블 정보 없음: 1635706480836699.html\n"
     ]
    },
    {
     "name": "stderr",
     "output_type": "stream",
     "text": [
      "📁 part_1:  84%|████████▍ | 8400/9974 [03:01<00:41, 38.33file/s]"
     ]
    },
    {
     "name": "stdout",
     "output_type": "stream",
     "text": [
      "[!] 레이블 정보 없음: 1635706590977531.html\n"
     ]
    },
    {
     "name": "stderr",
     "output_type": "stream",
     "text": [
      "📁 part_1:  84%|████████▍ | 8424/9974 [03:02<00:54, 28.52file/s]"
     ]
    },
    {
     "name": "stdout",
     "output_type": "stream",
     "text": [
      "[!] 레이블 정보 없음: 1635706746904821.html\n"
     ]
    },
    {
     "name": "stderr",
     "output_type": "stream",
     "text": [
      "📁 part_1:  85%|████████▍ | 8439/9974 [03:03<01:11, 21.52file/s]"
     ]
    },
    {
     "name": "stdout",
     "output_type": "stream",
     "text": [
      "[!] 레이블 정보 없음: 1635706806638389.html\n"
     ]
    },
    {
     "name": "stderr",
     "output_type": "stream",
     "text": [
      "📁 part_1:  85%|████████▍ | 8450/9974 [03:03<00:50, 30.47file/s]"
     ]
    },
    {
     "name": "stdout",
     "output_type": "stream",
     "text": [
      "[!] 레이블 정보 없음: 16357068420562.html\n",
      "[!] 레이블 정보 없음: 1635706879161328.html\n"
     ]
    },
    {
     "name": "stderr",
     "output_type": "stream",
     "text": [
      "📁 part_1:  85%|████████▍ | 8469/9974 [03:03<00:37, 39.80file/s]"
     ]
    },
    {
     "name": "stdout",
     "output_type": "stream",
     "text": [
      "[!] 레이블 정보 없음: 1635706926933465.html\n",
      "[!] 레이블 정보 없음: 1635706930699226.html\n"
     ]
    },
    {
     "name": "stderr",
     "output_type": "stream",
     "text": [
      "📁 part_1:  85%|████████▍ | 8474/9974 [03:04<00:54, 27.56file/s]"
     ]
    },
    {
     "name": "stdout",
     "output_type": "stream",
     "text": [
      "[!] 레이블 정보 없음: 1635706982430437.html\n"
     ]
    },
    {
     "name": "stderr",
     "output_type": "stream",
     "text": [
      "📁 part_1:  85%|████████▌ | 8486/9974 [03:04<00:58, 25.35file/s]"
     ]
    },
    {
     "name": "stdout",
     "output_type": "stream",
     "text": [
      "[!] 레이블 정보 없음: 1635707032331805.html\n",
      "[!] 레이블 정보 없음: 1635707043836679.html\n"
     ]
    },
    {
     "name": "stderr",
     "output_type": "stream",
     "text": [
      "📁 part_1:  85%|████████▌ | 8498/9974 [03:05<00:47, 30.90file/s]"
     ]
    },
    {
     "name": "stdout",
     "output_type": "stream",
     "text": [
      "[!] 레이블 정보 없음: 1635707078075507.html\n",
      "[!] 레이블 정보 없음: 1635707132069891.html\n"
     ]
    },
    {
     "name": "stderr",
     "output_type": "stream",
     "text": [
      "📁 part_1:  86%|████████▌ | 8528/9974 [03:05<00:38, 37.55file/s]"
     ]
    },
    {
     "name": "stdout",
     "output_type": "stream",
     "text": [
      "[!] 레이블 정보 없음: 1635707273554516.html\n"
     ]
    },
    {
     "name": "stderr",
     "output_type": "stream",
     "text": [
      "📁 part_1:  86%|████████▌ | 8547/9974 [03:06<00:33, 42.53file/s]"
     ]
    },
    {
     "name": "stdout",
     "output_type": "stream",
     "text": [
      "[!] 레이블 정보 없음: 1635707340081163.html\n"
     ]
    },
    {
     "name": "stderr",
     "output_type": "stream",
     "text": [
      "📁 part_1:  86%|████████▌ | 8558/9974 [03:06<00:30, 46.26file/s]"
     ]
    },
    {
     "name": "stdout",
     "output_type": "stream",
     "text": [
      "[!] 레이블 정보 없음: 1635707386388151.html\n",
      "[!] 레이블 정보 없음: 1635707388622881.html\n"
     ]
    },
    {
     "name": "stderr",
     "output_type": "stream",
     "text": [
      "📁 part_1:  86%|████████▌ | 8563/9974 [03:06<00:39, 35.74file/s]"
     ]
    },
    {
     "name": "stdout",
     "output_type": "stream",
     "text": [
      "[!] 레이블 정보 없음: 1635707419908077.html\n",
      "[!] 레이블 정보 없음: 1635707458411137.html\n"
     ]
    },
    {
     "name": "stderr",
     "output_type": "stream",
     "text": [
      "📁 part_1:  86%|████████▌ | 8580/9974 [03:07<00:44, 31.51file/s]"
     ]
    },
    {
     "name": "stdout",
     "output_type": "stream",
     "text": [
      "[!] 레이블 정보 없음: 1635707508575242.html\n"
     ]
    },
    {
     "name": "stderr",
     "output_type": "stream",
     "text": [
      "📁 part_1:  86%|████████▌ | 8594/9974 [03:07<00:38, 36.20file/s]"
     ]
    },
    {
     "name": "stdout",
     "output_type": "stream",
     "text": [
      "[!] 레이블 정보 없음: 1635707541242554.html\n"
     ]
    },
    {
     "name": "stderr",
     "output_type": "stream",
     "text": [
      "📁 part_1:  86%|████████▋ | 8618/9974 [03:08<00:49, 27.37file/s]"
     ]
    },
    {
     "name": "stdout",
     "output_type": "stream",
     "text": [
      "[!] 레이블 정보 없음: 1635707653353696.html\n"
     ]
    },
    {
     "name": "stderr",
     "output_type": "stream",
     "text": [
      "📁 part_1:  87%|████████▋ | 8629/9974 [03:09<00:59, 22.51file/s]"
     ]
    },
    {
     "name": "stdout",
     "output_type": "stream",
     "text": [
      "[!] 레이블 정보 없음: 1635707666429165.html\n"
     ]
    },
    {
     "name": "stderr",
     "output_type": "stream",
     "text": [
      "📁 part_1:  87%|████████▋ | 8678/9974 [03:10<00:40, 32.25file/s]"
     ]
    },
    {
     "name": "stdout",
     "output_type": "stream",
     "text": [
      "[!] 레이블 정보 없음: 1635707912482034.html\n"
     ]
    },
    {
     "name": "stderr",
     "output_type": "stream",
     "text": [
      "📁 part_1:  87%|████████▋ | 8697/9974 [03:11<00:42, 29.93file/s]"
     ]
    },
    {
     "name": "stdout",
     "output_type": "stream",
     "text": [
      "[!] 레이블 정보 없음: 1635707990944146.html\n",
      "[!] 레이블 정보 없음: 1635707992176365.html\n",
      "[!] 레이블 정보 없음: 163570799900858.html\n"
     ]
    },
    {
     "name": "stderr",
     "output_type": "stream",
     "text": [
      "📁 part_1:  88%|████████▊ | 8737/9974 [03:12<00:33, 36.78file/s]"
     ]
    },
    {
     "name": "stdout",
     "output_type": "stream",
     "text": [
      "[!] 레이블 정보 없음: 1635708135334897.html\n"
     ]
    },
    {
     "name": "stderr",
     "output_type": "stream",
     "text": [
      "📁 part_1:  88%|████████▊ | 8745/9974 [03:12<00:28, 43.04file/s]"
     ]
    },
    {
     "name": "stdout",
     "output_type": "stream",
     "text": [
      "[!] 레이블 정보 없음: 1635708160879802.html\n"
     ]
    },
    {
     "name": "stderr",
     "output_type": "stream",
     "text": [
      "📁 part_1:  88%|████████▊ | 8774/9974 [03:13<00:41, 29.18file/s]"
     ]
    },
    {
     "name": "stdout",
     "output_type": "stream",
     "text": [
      "[!] 레이블 정보 없음: 1635708353640003.html\n"
     ]
    },
    {
     "name": "stderr",
     "output_type": "stream",
     "text": [
      "📁 part_1:  88%|████████▊ | 8783/9974 [03:13<00:35, 33.52file/s]"
     ]
    },
    {
     "name": "stdout",
     "output_type": "stream",
     "text": [
      "[!] 레이블 정보 없음: 1635708402220804.html\n"
     ]
    },
    {
     "name": "stderr",
     "output_type": "stream",
     "text": [
      "📁 part_1:  89%|████████▉ | 8877/9974 [03:17<00:36, 30.14file/s]"
     ]
    },
    {
     "name": "stdout",
     "output_type": "stream",
     "text": [
      "[!] 레이블 정보 없음: 1635708913643213.html\n"
     ]
    },
    {
     "name": "stderr",
     "output_type": "stream",
     "text": [
      "📁 part_1:  90%|████████▉ | 8936/9974 [03:19<00:24, 42.18file/s]"
     ]
    },
    {
     "name": "stdout",
     "output_type": "stream",
     "text": [
      "[!] 레이블 정보 없음: 1635709209683471.html\n"
     ]
    },
    {
     "name": "stderr",
     "output_type": "stream",
     "text": [
      "                                                                "
     ]
    },
    {
     "name": "stdout",
     "output_type": "stream",
     "text": [
      "[!] 레이블 정보 없음: 1635709279433036.html\n",
      "[!] 레이블 정보 없음: 1635709291702753.html\n"
     ]
    },
    {
     "name": "stderr",
     "output_type": "stream",
     "text": [
      "📁 part_1:  90%|████████▉ | 8955/9974 [03:19<00:25, 39.48file/s]"
     ]
    },
    {
     "name": "stdout",
     "output_type": "stream",
     "text": [
      "[!] 레이블 정보 없음: 1635709359495929.html\n"
     ]
    },
    {
     "name": "stderr",
     "output_type": "stream",
     "text": [
      "📁 part_1:  90%|████████▉ | 8973/9974 [03:20<00:28, 35.07file/s]"
     ]
    },
    {
     "name": "stdout",
     "output_type": "stream",
     "text": [
      "[!] 레이블 정보 없음: 1635709437757834.html\n"
     ]
    },
    {
     "name": "stderr",
     "output_type": "stream",
     "text": [
      "📁 part_1:  90%|████████▉ | 8973/9974 [03:20<00:28, 35.07file/s]"
     ]
    },
    {
     "name": "stdout",
     "output_type": "stream",
     "text": [
      "[!] 레이블 정보 없음: 163570944097697.html\n"
     ]
    },
    {
     "name": "stderr",
     "output_type": "stream",
     "text": [
      "📁 part_1:  90%|█████████ | 9010/9974 [03:21<00:24, 40.10file/s]"
     ]
    },
    {
     "name": "stdout",
     "output_type": "stream",
     "text": [
      "[!] 레이블 정보 없음: 1635709618940689.html\n"
     ]
    },
    {
     "name": "stderr",
     "output_type": "stream",
     "text": [
      "📁 part_1:  90%|█████████ | 9025/9974 [03:21<00:26, 36.09file/s]"
     ]
    },
    {
     "name": "stdout",
     "output_type": "stream",
     "text": [
      "[!] 레이블 정보 없음: 1635709692903606.html\n"
     ]
    },
    {
     "name": "stderr",
     "output_type": "stream",
     "text": [
      "📁 part_1:  91%|█████████ | 9034/9974 [03:22<00:29, 31.91file/s]"
     ]
    },
    {
     "name": "stdout",
     "output_type": "stream",
     "text": [
      "[!] 레이블 정보 없음: 1635709722076101.html\n",
      "[!] 레이블 정보 없음: 1635709726130096.html\n"
     ]
    },
    {
     "name": "stderr",
     "output_type": "stream",
     "text": [
      "📁 part_1:  91%|█████████ | 9074/9974 [03:23<00:23, 37.62file/s]"
     ]
    },
    {
     "name": "stdout",
     "output_type": "stream",
     "text": [
      "[!] 레이블 정보 없음: 1635709868869339.html\n"
     ]
    },
    {
     "name": "stderr",
     "output_type": "stream",
     "text": [
      "📁 part_1:  91%|█████████▏| 9104/9974 [03:25<00:26, 32.46file/s]"
     ]
    },
    {
     "name": "stdout",
     "output_type": "stream",
     "text": [
      "[!] 레이블 정보 없음: 1635710086380826.html\n",
      "[!] 레이블 정보 없음: 1635710108775085.html\n"
     ]
    },
    {
     "name": "stderr",
     "output_type": "stream",
     "text": [
      "📁 part_1:  92%|█████████▏| 9148/9974 [03:26<00:25, 32.12file/s]"
     ]
    },
    {
     "name": "stdout",
     "output_type": "stream",
     "text": [
      "[!] 레이블 정보 없음: 163571028147297.html\n"
     ]
    },
    {
     "name": "stderr",
     "output_type": "stream",
     "text": [
      "📁 part_1:  92%|█████████▏| 9207/9974 [03:28<00:16, 47.93file/s]"
     ]
    },
    {
     "name": "stdout",
     "output_type": "stream",
     "text": [
      "[!] 레이블 정보 없음: 1635710532083728.html\n"
     ]
    },
    {
     "name": "stderr",
     "output_type": "stream",
     "text": [
      "📁 part_1:  93%|█████████▎| 9228/9974 [03:28<00:14, 51.59file/s]"
     ]
    },
    {
     "name": "stdout",
     "output_type": "stream",
     "text": [
      "[!] 레이블 정보 없음: 1635710652872156.html\n"
     ]
    },
    {
     "name": "stderr",
     "output_type": "stream",
     "text": [
      "📁 part_1:  93%|█████████▎| 9255/9974 [03:29<00:21, 33.61file/s]"
     ]
    },
    {
     "name": "stdout",
     "output_type": "stream",
     "text": [
      "[!] 레이블 정보 없음: 163571080495953.html\n",
      "[!] 레이블 정보 없음: 1635710844231887.html\n",
      "[!] 레이블 정보 없음: 1635710882075931.html\n"
     ]
    },
    {
     "name": "stderr",
     "output_type": "stream",
     "text": [
      "📁 part_1:  93%|█████████▎| 9267/9974 [03:30<00:19, 36.83file/s]"
     ]
    },
    {
     "name": "stdout",
     "output_type": "stream",
     "text": [
      "[!] 레이블 정보 없음: 1635710905324282.html\n"
     ]
    },
    {
     "name": "stderr",
     "output_type": "stream",
     "text": [
      "📁 part_1:  93%|█████████▎| 9289/9974 [03:30<00:20, 33.37file/s]"
     ]
    },
    {
     "name": "stdout",
     "output_type": "stream",
     "text": [
      "[!] 레이블 정보 없음: 1635710994615694.html\n"
     ]
    },
    {
     "name": "stderr",
     "output_type": "stream",
     "text": [
      "📁 part_1:  93%|█████████▎| 9321/9974 [03:31<00:18, 35.54file/s]"
     ]
    },
    {
     "name": "stdout",
     "output_type": "stream",
     "text": [
      "[!] 레이블 정보 없음: 1635711106919492.html\n"
     ]
    },
    {
     "name": "stderr",
     "output_type": "stream",
     "text": [
      "📁 part_1:  94%|█████████▎| 9339/9974 [03:32<00:13, 46.81file/s]"
     ]
    },
    {
     "name": "stdout",
     "output_type": "stream",
     "text": [
      "[!] 레이블 정보 없음: 1635711254095074.html\n",
      "[!] 레이블 정보 없음: 163571125971643.html\n",
      "[!] 레이블 정보 없음: 1635711267132991.html\n",
      "[!] 레이블 정보 없음: 1635711273990487.html\n"
     ]
    },
    {
     "name": "stderr",
     "output_type": "stream",
     "text": [
      "📁 part_1:  94%|█████████▍| 9362/9974 [03:32<00:14, 41.97file/s]"
     ]
    },
    {
     "name": "stdout",
     "output_type": "stream",
     "text": [
      "[!] 레이블 정보 없음: 1635711403460491.html\n"
     ]
    },
    {
     "name": "stderr",
     "output_type": "stream",
     "text": [
      "📁 part_1:  94%|█████████▍| 9367/9974 [03:32<00:15, 39.82file/s]"
     ]
    },
    {
     "name": "stdout",
     "output_type": "stream",
     "text": [
      "[!] 레이블 정보 없음: 163571154093662.html\n"
     ]
    },
    {
     "name": "stderr",
     "output_type": "stream",
     "text": [
      "📁 part_1:  94%|█████████▍| 9380/9974 [03:33<00:15, 39.13file/s]"
     ]
    },
    {
     "name": "stdout",
     "output_type": "stream",
     "text": [
      "[!] 레이블 정보 없음: 163571155906823.html\n"
     ]
    },
    {
     "name": "stderr",
     "output_type": "stream",
     "text": [
      "📁 part_1:  94%|█████████▍| 9409/9974 [03:34<00:25, 22.08file/s]"
     ]
    },
    {
     "name": "stdout",
     "output_type": "stream",
     "text": [
      "[!] 레이블 정보 없음: 1635711745647102.html\n"
     ]
    },
    {
     "name": "stderr",
     "output_type": "stream",
     "text": [
      "📁 part_1:  94%|█████████▍| 9424/9974 [03:34<00:17, 32.12file/s]"
     ]
    },
    {
     "name": "stdout",
     "output_type": "stream",
     "text": [
      "[!] 레이블 정보 없음: 1635711887626556.html\n"
     ]
    },
    {
     "name": "stderr",
     "output_type": "stream",
     "text": [
      "📁 part_1:  95%|█████████▍| 9448/9974 [03:35<00:14, 36.54file/s]"
     ]
    },
    {
     "name": "stdout",
     "output_type": "stream",
     "text": [
      "[!] 레이블 정보 없음: 1635711977257343.html\n"
     ]
    },
    {
     "name": "stderr",
     "output_type": "stream",
     "text": [
      "📁 part_1:  95%|█████████▍| 9459/9974 [03:35<00:14, 34.55file/s]"
     ]
    },
    {
     "name": "stdout",
     "output_type": "stream",
     "text": [
      "[!] 레이블 정보 없음: 1635712057712773.html\n"
     ]
    },
    {
     "name": "stderr",
     "output_type": "stream",
     "text": [
      "📁 part_1:  95%|█████████▌| 9481/9974 [03:36<00:15, 32.10file/s]"
     ]
    },
    {
     "name": "stdout",
     "output_type": "stream",
     "text": [
      "[!] 레이블 정보 없음: 1635712156966996.html\n",
      "[!] 레이블 정보 없음: 163571216268382.html\n"
     ]
    },
    {
     "name": "stderr",
     "output_type": "stream",
     "text": [
      "📁 part_1:  95%|█████████▌| 9510/9974 [03:37<00:13, 34.34file/s]"
     ]
    },
    {
     "name": "stdout",
     "output_type": "stream",
     "text": [
      "[!] 레이블 정보 없음: 1635712338449731.html\n",
      "[!] 레이블 정보 없음: 1635712355447914.html\n"
     ]
    },
    {
     "name": "stderr",
     "output_type": "stream",
     "text": [
      "📁 part_1:  96%|█████████▌| 9534/9974 [03:38<00:13, 32.44file/s]"
     ]
    },
    {
     "name": "stdout",
     "output_type": "stream",
     "text": [
      "[!] 레이블 정보 없음: 1635712527698655.html\n"
     ]
    },
    {
     "name": "stderr",
     "output_type": "stream",
     "text": [
      "📁 part_1:  96%|█████████▌| 9581/9974 [03:39<00:11, 33.43file/s]"
     ]
    },
    {
     "name": "stdout",
     "output_type": "stream",
     "text": [
      "[!] 레이블 정보 없음: 1635712829172433.html\n",
      "[!] 레이블 정보 없음: 1635712872313768.html\n"
     ]
    },
    {
     "name": "stderr",
     "output_type": "stream",
     "text": [
      "📁 part_1:  96%|█████████▋| 9601/9974 [03:40<00:09, 38.11file/s]"
     ]
    },
    {
     "name": "stdout",
     "output_type": "stream",
     "text": [
      "[!] 레이블 정보 없음: 1635712925912528.html\n"
     ]
    },
    {
     "name": "stderr",
     "output_type": "stream",
     "text": [
      "📁 part_1:  96%|█████████▋| 9611/9974 [03:40<00:11, 31.91file/s]"
     ]
    },
    {
     "name": "stdout",
     "output_type": "stream",
     "text": [
      "[!] 레이블 정보 없음: 1635713002039202.html\n",
      "[!] 레이블 정보 없음: 1635713026540282.html\n",
      "[!] 레이블 정보 없음: 1635713032354112.html\n"
     ]
    },
    {
     "name": "stderr",
     "output_type": "stream",
     "text": [
      "📁 part_1:  97%|█████████▋| 9628/9974 [03:41<00:09, 37.99file/s]"
     ]
    },
    {
     "name": "stdout",
     "output_type": "stream",
     "text": [
      "[!] 레이블 정보 없음: 1635713042066569.html\n",
      "[!] 레이블 정보 없음: 1635713042350268.html\n"
     ]
    },
    {
     "name": "stderr",
     "output_type": "stream",
     "text": [
      "📁 part_1:  97%|█████████▋| 9643/9974 [03:41<00:09, 36.17file/s]"
     ]
    },
    {
     "name": "stdout",
     "output_type": "stream",
     "text": [
      "[!] 레이블 정보 없음: 1635713142648984.html\n"
     ]
    },
    {
     "name": "stderr",
     "output_type": "stream",
     "text": [
      "📁 part_1:  97%|█████████▋| 9655/9974 [03:42<00:16, 19.03file/s]"
     ]
    },
    {
     "name": "stdout",
     "output_type": "stream",
     "text": [
      "[!] 레이블 정보 없음: 1635713195001842.html\n",
      "[!] 레이블 정보 없음: 1635713224706901.html\n"
     ]
    },
    {
     "name": "stderr",
     "output_type": "stream",
     "text": [
      "📁 part_1:  97%|█████████▋| 9665/9974 [03:42<00:11, 26.58file/s]"
     ]
    },
    {
     "name": "stdout",
     "output_type": "stream",
     "text": [
      "[!] 레이블 정보 없음: 1635713286913614.html\n"
     ]
    },
    {
     "name": "stderr",
     "output_type": "stream",
     "text": [
      "📁 part_1:  97%|█████████▋| 9695/9974 [03:43<00:07, 39.84file/s]"
     ]
    },
    {
     "name": "stdout",
     "output_type": "stream",
     "text": [
      "[!] 레이블 정보 없음: 1635713493662997.html\n"
     ]
    },
    {
     "name": "stderr",
     "output_type": "stream",
     "text": [
      "📁 part_1:  97%|█████████▋| 9707/9974 [03:44<00:06, 38.41file/s]"
     ]
    },
    {
     "name": "stdout",
     "output_type": "stream",
     "text": [
      "[!] 레이블 정보 없음: 1635713557208127.html\n"
     ]
    },
    {
     "name": "stderr",
     "output_type": "stream",
     "text": [
      "📁 part_1:  97%|█████████▋| 9724/9974 [03:44<00:06, 36.61file/s]"
     ]
    },
    {
     "name": "stdout",
     "output_type": "stream",
     "text": [
      "[!] 레이블 정보 없음: 1635713593992122.html\n",
      "[!] 레이블 정보 없음: 1635713650197064.html\n"
     ]
    },
    {
     "name": "stderr",
     "output_type": "stream",
     "text": [
      "📁 part_1:  98%|█████████▊| 9759/9974 [03:46<00:07, 28.50file/s]"
     ]
    },
    {
     "name": "stdout",
     "output_type": "stream",
     "text": [
      "[!] 레이블 정보 없음: 1635713788766031.html\n"
     ]
    },
    {
     "name": "stderr",
     "output_type": "stream",
     "text": [
      "📁 part_1:  98%|█████████▊| 9791/9974 [03:47<00:05, 33.38file/s]"
     ]
    },
    {
     "name": "stdout",
     "output_type": "stream",
     "text": [
      "[!] 레이블 정보 없음: 1635714167292461.html\n"
     ]
    },
    {
     "name": "stderr",
     "output_type": "stream",
     "text": [
      "📁 part_1:  98%|█████████▊| 9806/9974 [03:47<00:05, 31.18file/s]"
     ]
    },
    {
     "name": "stdout",
     "output_type": "stream",
     "text": [
      "[!] 레이블 정보 없음: 1635743628397059.html\n"
     ]
    },
    {
     "name": "stderr",
     "output_type": "stream",
     "text": [
      "📁 part_1:  98%|█████████▊| 9819/9974 [03:48<00:05, 30.78file/s]"
     ]
    },
    {
     "name": "stdout",
     "output_type": "stream",
     "text": [
      "[!] 레이블 정보 없음: 1635744153793712.html\n"
     ]
    },
    {
     "name": "stderr",
     "output_type": "stream",
     "text": [
      "📁 part_1:  99%|█████████▉| 9856/9974 [03:49<00:03, 38.03file/s]"
     ]
    },
    {
     "name": "stdout",
     "output_type": "stream",
     "text": [
      "[!] 레이블 정보 없음: 1635746100706253.html\n",
      "[!] 레이블 정보 없음: 163574616511315.html\n"
     ]
    },
    {
     "name": "stderr",
     "output_type": "stream",
     "text": [
      "📁 part_1:  99%|█████████▉| 9882/9974 [03:50<00:02, 36.60file/s]"
     ]
    },
    {
     "name": "stdout",
     "output_type": "stream",
     "text": [
      "[!] 레이블 정보 없음: 1635746988240223.html\n"
     ]
    },
    {
     "name": "stderr",
     "output_type": "stream",
     "text": [
      "📁 part_1: 100%|██████████| 9974/9974 [03:52<00:00, 42.83file/s]\n"
     ]
    },
    {
     "name": "stdout",
     "output_type": "stream",
     "text": [
      "✅ Part 1 저장 완료: datatocsv\\csv\\Feature Website HTML Processed_Part1.csv (9558개 파일)\n",
      "\n",
      "📂 처리 중: datatocsv\\dataset_part_2\\dataset-part-2\n"
     ]
    },
    {
     "name": "stderr",
     "output_type": "stream",
     "text": [
      "📁 part_2:   0%|          | 0/9820 [00:00<?, ?file/s]"
     ]
    },
    {
     "name": "stdout",
     "output_type": "stream",
     "text": [
      "[!] 레이블 정보 없음: 10001159.html\n"
     ]
    },
    {
     "name": "stderr",
     "output_type": "stream",
     "text": [
      "📁 part_2:   4%|▎         | 363/9820 [00:03<02:19, 67.64file/s] "
     ]
    },
    {
     "name": "stdout",
     "output_type": "stream",
     "text": [
      "[!] 레이블 정보 없음: 1607062615155502.html\n"
     ]
    },
    {
     "name": "stderr",
     "output_type": "stream",
     "text": [
      "📁 part_2:   4%|▎         | 363/9820 [00:03<02:19, 67.64file/s]"
     ]
    },
    {
     "name": "stdout",
     "output_type": "stream",
     "text": [
      "[!] 레이블 정보 없음: 1607062661645966.html\n"
     ]
    },
    {
     "name": "stderr",
     "output_type": "stream",
     "text": [
      "📁 part_2:   5%|▌         | 505/9820 [00:05<01:56, 80.06file/s]"
     ]
    },
    {
     "name": "stdout",
     "output_type": "stream",
     "text": [
      "[!] 레이블 정보 없음: 1607164328812796.html\n"
     ]
    },
    {
     "name": "stderr",
     "output_type": "stream",
     "text": [
      "📁 part_2:   5%|▌         | 540/9820 [00:06<02:18, 66.84file/s]"
     ]
    },
    {
     "name": "stdout",
     "output_type": "stream",
     "text": [
      "[!] 레이블 정보 없음: 1607248744789881.html\n"
     ]
    },
    {
     "name": "stderr",
     "output_type": "stream",
     "text": [
      "📁 part_2:   6%|▌         | 602/9820 [00:07<03:41, 41.61file/s]"
     ]
    },
    {
     "name": "stdout",
     "output_type": "stream",
     "text": [
      "[!] 레이블 정보 없음: 1607252355685983.html\n"
     ]
    },
    {
     "name": "stderr",
     "output_type": "stream",
     "text": [
      "📁 part_2:   7%|▋         | 652/9820 [00:09<02:33, 59.58file/s]"
     ]
    },
    {
     "name": "stdout",
     "output_type": "stream",
     "text": [
      "[!] 레이블 정보 없음: 160725426807898.html\n",
      "[!] 레이블 정보 없음: 1607254321459286.html\n"
     ]
    },
    {
     "name": "stderr",
     "output_type": "stream",
     "text": [
      "📁 part_2:   8%|▊         | 803/9820 [00:10<01:17, 116.82file/s]"
     ]
    },
    {
     "name": "stdout",
     "output_type": "stream",
     "text": [
      "[!] 레이블 정보 없음: 1607538654993979.html\n"
     ]
    },
    {
     "name": "stderr",
     "output_type": "stream",
     "text": [
      "📁 part_2:  10%|▉         | 952/9820 [00:12<01:12, 121.73file/s]"
     ]
    },
    {
     "name": "stdout",
     "output_type": "stream",
     "text": [
      "[!] 레이블 정보 없음: 1607714286213068.html\n"
     ]
    },
    {
     "name": "stderr",
     "output_type": "stream",
     "text": [
      "📁 part_2:  10%|▉         | 968/9820 [00:12<02:20, 63.06file/s] "
     ]
    },
    {
     "name": "stdout",
     "output_type": "stream",
     "text": [
      "[!] 레이블 정보 없음: 1607714787695065.html\n"
     ]
    },
    {
     "name": "stderr",
     "output_type": "stream",
     "text": [
      "📁 part_2:  10%|█         | 1007/9820 [00:14<04:53, 30.06file/s]"
     ]
    },
    {
     "name": "stdout",
     "output_type": "stream",
     "text": [
      "[!] 레이블 정보 없음: 1607718209035028.html\n"
     ]
    },
    {
     "name": "stderr",
     "output_type": "stream",
     "text": [
      "📁 part_2:  10%|█         | 1030/9820 [00:14<03:38, 40.14file/s]"
     ]
    },
    {
     "name": "stdout",
     "output_type": "stream",
     "text": [
      "[!] 레이블 정보 없음: 1607719665395969.html\n",
      "[!] 레이블 정보 없음: 160771987792441.html\n"
     ]
    },
    {
     "name": "stderr",
     "output_type": "stream",
     "text": [
      "📁 part_2:  11%|█         | 1039/9820 [00:14<03:01, 48.51file/s]"
     ]
    },
    {
     "name": "stdout",
     "output_type": "stream",
     "text": [
      "[!] 레이블 정보 없음: 1607720549711786.html\n"
     ]
    },
    {
     "name": "stderr",
     "output_type": "stream",
     "text": [
      "📁 part_2:  12%|█▏        | 1145/9820 [00:16<02:27, 58.78file/s] "
     ]
    },
    {
     "name": "stdout",
     "output_type": "stream",
     "text": [
      "[!] 레이블 정보 없음: 1607927372440354.html\n"
     ]
    },
    {
     "name": "stderr",
     "output_type": "stream",
     "text": [
      "📁 part_2:  16%|█▌        | 1539/9820 [00:19<01:06, 123.77file/s]"
     ]
    },
    {
     "name": "stdout",
     "output_type": "stream",
     "text": [
      "[!] 레이블 정보 없음: 1608943085867764.html\n",
      "[!] 레이블 정보 없음: 1608948179517044.html\n"
     ]
    },
    {
     "name": "stderr",
     "output_type": "stream",
     "text": [
      "📁 part_2:  16%|█▌        | 1553/9820 [00:19<01:35, 86.83file/s] "
     ]
    },
    {
     "name": "stdout",
     "output_type": "stream",
     "text": [
      "[!] 레이블 정보 없음: 1608950164205267.html\n"
     ]
    },
    {
     "name": "stderr",
     "output_type": "stream",
     "text": [
      "📁 part_2:  16%|█▌        | 1574/9820 [00:20<02:19, 59.24file/s]"
     ]
    },
    {
     "name": "stdout",
     "output_type": "stream",
     "text": [
      "[!] 레이블 정보 없음: 1608951156090035.html\n"
     ]
    },
    {
     "name": "stderr",
     "output_type": "stream",
     "text": [
      "📁 part_2:  16%|█▌        | 1589/9820 [00:20<02:31, 54.25file/s]"
     ]
    },
    {
     "name": "stdout",
     "output_type": "stream",
     "text": [
      "[!] 레이블 정보 없음: 1608953178558655.html\n"
     ]
    },
    {
     "name": "stderr",
     "output_type": "stream",
     "text": [
      "📁 part_2:  17%|█▋        | 1626/9820 [00:22<03:25, 39.96file/s]"
     ]
    },
    {
     "name": "stdout",
     "output_type": "stream",
     "text": [
      "[!] 레이블 정보 없음: 1608955613384196.html\n"
     ]
    },
    {
     "name": "stderr",
     "output_type": "stream",
     "text": [
      "📁 part_2:  17%|█▋        | 1647/9820 [00:22<03:54, 34.89file/s]"
     ]
    },
    {
     "name": "stdout",
     "output_type": "stream",
     "text": [
      "[!] 레이블 정보 없음: 1608957744181993.html\n"
     ]
    },
    {
     "name": "stderr",
     "output_type": "stream",
     "text": [
      "📁 part_2:  17%|█▋        | 1658/9820 [00:23<03:52, 35.08file/s]"
     ]
    },
    {
     "name": "stdout",
     "output_type": "stream",
     "text": [
      "[!] 레이블 정보 없음: 1608958569186436.html\n"
     ]
    },
    {
     "name": "stderr",
     "output_type": "stream",
     "text": [
      "📁 part_2:  17%|█▋        | 1674/9820 [00:23<03:39, 37.10file/s]"
     ]
    },
    {
     "name": "stdout",
     "output_type": "stream",
     "text": [
      "[!] 레이블 정보 없음: 160895927835733.html\n"
     ]
    },
    {
     "name": "stderr",
     "output_type": "stream",
     "text": [
      "📁 part_2:  17%|█▋        | 1682/9820 [00:23<03:02, 44.70file/s]"
     ]
    },
    {
     "name": "stdout",
     "output_type": "stream",
     "text": [
      "[!] 레이블 정보 없음: 1608959696782386.html\n"
     ]
    },
    {
     "name": "stderr",
     "output_type": "stream",
     "text": [
      "📁 part_2:  18%|█▊        | 1764/9820 [00:24<02:10, 61.60file/s]"
     ]
    },
    {
     "name": "stdout",
     "output_type": "stream",
     "text": [
      "[!] 레이블 정보 없음: 1609089657970574.html\n"
     ]
    },
    {
     "name": "stderr",
     "output_type": "stream",
     "text": [
      "📁 part_2:  18%|█▊        | 1807/9820 [00:25<02:40, 49.88file/s]"
     ]
    },
    {
     "name": "stdout",
     "output_type": "stream",
     "text": [
      "[!] 레이블 정보 없음: 160909283614471.html\n",
      "[!] 레이블 정보 없음: 1609093382719251.html\n",
      "[!] 레이블 정보 없음: 1609093687881987.html\n",
      "[!] 레이블 정보 없음: 1609094018722918.html\n"
     ]
    },
    {
     "name": "stderr",
     "output_type": "stream",
     "text": [
      "📁 part_2:  19%|█▊        | 1825/9820 [00:26<03:19, 40.12file/s]"
     ]
    },
    {
     "name": "stdout",
     "output_type": "stream",
     "text": [
      "[!] 레이블 정보 없음: 1609094711097213.html\n"
     ]
    },
    {
     "name": "stderr",
     "output_type": "stream",
     "text": [
      "📁 part_2:  19%|█▉        | 1844/9820 [00:26<03:07, 42.54file/s]"
     ]
    },
    {
     "name": "stdout",
     "output_type": "stream",
     "text": [
      "[!] 레이블 정보 없음: 1609095527437274.html\n",
      "[!] 레이블 정보 없음: 1609095742958749.html\n"
     ]
    },
    {
     "name": "stderr",
     "output_type": "stream",
     "text": [
      "📁 part_2:  19%|█▉        | 1901/9820 [00:28<02:48, 47.00file/s]"
     ]
    },
    {
     "name": "stdout",
     "output_type": "stream",
     "text": [
      "[!] 레이블 정보 없음: 1609099515910396.html\n",
      "[!] 레이블 정보 없음: 1609099560728086.html\n"
     ]
    },
    {
     "name": "stderr",
     "output_type": "stream",
     "text": [
      "📁 part_2:  20%|█▉        | 1939/9820 [00:28<02:37, 50.17file/s]"
     ]
    },
    {
     "name": "stdout",
     "output_type": "stream",
     "text": [
      "[!] 레이블 정보 없음: 1609101796502362.html\n",
      "[!] 레이블 정보 없음: 1609101978022666.html\n"
     ]
    },
    {
     "name": "stderr",
     "output_type": "stream",
     "text": [
      "📁 part_2:  20%|█▉        | 1954/9820 [00:29<02:41, 48.85file/s]"
     ]
    },
    {
     "name": "stdout",
     "output_type": "stream",
     "text": [
      "[!] 레이블 정보 없음: 1609102803950824.html\n",
      "[!] 레이블 정보 없음: 1609102920772658.html\n",
      "[!] 레이블 정보 없음: 1609103211283358.html\n"
     ]
    },
    {
     "name": "stderr",
     "output_type": "stream",
     "text": [
      "📁 part_2:  20%|█▉        | 1960/9820 [00:29<02:49, 46.33file/s]"
     ]
    },
    {
     "name": "stdout",
     "output_type": "stream",
     "text": [
      "[!] 레이블 정보 없음: 1609103439127741.html\n"
     ]
    },
    {
     "name": "stderr",
     "output_type": "stream",
     "text": [
      "📁 part_2:  21%|██        | 2017/9820 [00:31<03:17, 39.49file/s]"
     ]
    },
    {
     "name": "stdout",
     "output_type": "stream",
     "text": [
      "[!] 레이블 정보 없음: 1609108434500866.html\n"
     ]
    },
    {
     "name": "stderr",
     "output_type": "stream",
     "text": [
      "📁 part_2:  21%|██        | 2067/9820 [00:32<03:01, 42.71file/s]"
     ]
    },
    {
     "name": "stdout",
     "output_type": "stream",
     "text": [
      "[!] 레이블 정보 없음: 1609112264176205.html\n"
     ]
    },
    {
     "name": "stderr",
     "output_type": "stream",
     "text": [
      "📁 part_2:  21%|██▏       | 2104/9820 [00:33<02:29, 51.58file/s]"
     ]
    },
    {
     "name": "stdout",
     "output_type": "stream",
     "text": [
      "[!] 레이블 정보 없음: 160911469696245.html\n"
     ]
    },
    {
     "name": "stderr",
     "output_type": "stream",
     "text": [
      "📁 part_2:  22%|██▏       | 2202/9820 [00:34<01:01, 124.33file/s]"
     ]
    },
    {
     "name": "stdout",
     "output_type": "stream",
     "text": [
      "[!] 레이블 정보 없음: 1609349446977947.html\n",
      "[!] 레이블 정보 없음: 1609350088837048.html\n"
     ]
    },
    {
     "name": "stderr",
     "output_type": "stream",
     "text": [
      "📁 part_2:  23%|██▎       | 2230/9820 [00:34<01:13, 103.33file/s]"
     ]
    },
    {
     "name": "stdout",
     "output_type": "stream",
     "text": [
      "[!] 레이블 정보 없음: 1609480991886809.html\n",
      "[!] 레이블 정보 없음: 1609481621987101.html\n"
     ]
    },
    {
     "name": "stderr",
     "output_type": "stream",
     "text": [
      "📁 part_2:  23%|██▎       | 2242/9820 [00:34<01:35, 79.02file/s] "
     ]
    },
    {
     "name": "stdout",
     "output_type": "stream",
     "text": [
      "[!] 레이블 정보 없음: 1609482375049013.html\n"
     ]
    },
    {
     "name": "stderr",
     "output_type": "stream",
     "text": [
      "📁 part_2:  24%|██▎       | 2327/9820 [00:36<02:01, 61.55file/s]"
     ]
    },
    {
     "name": "stdout",
     "output_type": "stream",
     "text": [
      "[!] 레이블 정보 없음: 1609522264526088.html\n"
     ]
    },
    {
     "name": "stderr",
     "output_type": "stream",
     "text": [
      "📁 part_2:  24%|██▍       | 2334/9820 [00:36<02:35, 48.28file/s]"
     ]
    },
    {
     "name": "stdout",
     "output_type": "stream",
     "text": [
      "[!] 레이블 정보 없음: 161349879909369.html\n"
     ]
    },
    {
     "name": "stderr",
     "output_type": "stream",
     "text": [
      "📁 part_2:  24%|██▍       | 2343/9820 [00:36<02:13, 56.09file/s]"
     ]
    },
    {
     "name": "stdout",
     "output_type": "stream",
     "text": [
      "[!] 레이블 정보 없음: 1613516214444268.html\n"
     ]
    },
    {
     "name": "stderr",
     "output_type": "stream",
     "text": [
      "📁 part_2:  24%|██▍       | 2362/9820 [00:37<02:45, 45.08file/s]"
     ]
    },
    {
     "name": "stdout",
     "output_type": "stream",
     "text": [
      "[!] 레이블 정보 없음: 1613516981250881.html\n"
     ]
    },
    {
     "name": "stderr",
     "output_type": "stream",
     "text": [
      "📁 part_2:  24%|██▍       | 2380/9820 [00:37<02:39, 46.71file/s]"
     ]
    },
    {
     "name": "stdout",
     "output_type": "stream",
     "text": [
      "[!] 레이블 정보 없음: 1613518527561897.html\n"
     ]
    },
    {
     "name": "stderr",
     "output_type": "stream",
     "text": [
      "📁 part_2:  25%|██▌       | 2467/9820 [00:39<03:15, 37.58file/s]"
     ]
    },
    {
     "name": "stdout",
     "output_type": "stream",
     "text": [
      "[!] 레이블 정보 없음: 1613521919496865.html\n"
     ]
    },
    {
     "name": "stderr",
     "output_type": "stream",
     "text": [
      "📁 part_2:  25%|██▌       | 2488/9820 [00:40<03:03, 40.02file/s]"
     ]
    },
    {
     "name": "stdout",
     "output_type": "stream",
     "text": [
      "[!] 레이블 정보 없음: 1613523173323703.html\n",
      "[!] 레이블 정보 없음: 1613523480379375.html\n"
     ]
    },
    {
     "name": "stderr",
     "output_type": "stream",
     "text": [
      "📁 part_2:  26%|██▌       | 2506/9820 [00:40<02:04, 58.76file/s]"
     ]
    },
    {
     "name": "stdout",
     "output_type": "stream",
     "text": [
      "[!] 레이블 정보 없음: 1613523685372432.html\n",
      "[!] 레이블 정보 없음: 1613524079600198.html\n"
     ]
    },
    {
     "name": "stderr",
     "output_type": "stream",
     "text": [
      "📁 part_2:  26%|██▌       | 2548/9820 [00:41<02:56, 41.18file/s]"
     ]
    },
    {
     "name": "stdout",
     "output_type": "stream",
     "text": [
      "[!] 레이블 정보 없음: 1613525585627515.html\n"
     ]
    },
    {
     "name": "stderr",
     "output_type": "stream",
     "text": [
      "📁 part_2:  26%|██▌       | 2568/9820 [00:42<05:26, 22.21file/s]"
     ]
    },
    {
     "name": "stdout",
     "output_type": "stream",
     "text": [
      "[!] 레이블 정보 없음: 1613526292854637.html\n"
     ]
    },
    {
     "name": "stderr",
     "output_type": "stream",
     "text": [
      "📁 part_2:  26%|██▋       | 2586/9820 [00:43<03:49, 31.47file/s]"
     ]
    },
    {
     "name": "stdout",
     "output_type": "stream",
     "text": [
      "[!] 레이블 정보 없음: 1613526614854282.html\n"
     ]
    },
    {
     "name": "stderr",
     "output_type": "stream",
     "text": [
      "📁 part_2:  27%|██▋       | 2621/9820 [00:44<02:27, 48.77file/s]"
     ]
    },
    {
     "name": "stdout",
     "output_type": "stream",
     "text": [
      "[!] 레이블 정보 없음: 1613528205253367.html\n",
      "[!] 레이블 정보 없음: 1613528480047138.html\n"
     ]
    },
    {
     "name": "stderr",
     "output_type": "stream",
     "text": [
      "📁 part_2:  27%|██▋       | 2643/9820 [00:44<02:29, 48.09file/s]"
     ]
    },
    {
     "name": "stdout",
     "output_type": "stream",
     "text": [
      "[!] 레이블 정보 없음: 1613529186183172.html\n"
     ]
    },
    {
     "name": "stderr",
     "output_type": "stream",
     "text": [
      "📁 part_2:  27%|██▋       | 2662/9820 [00:45<02:38, 45.30file/s]"
     ]
    },
    {
     "name": "stdout",
     "output_type": "stream",
     "text": [
      "[!] 레이블 정보 없음: 1613529755832777.html\n",
      "[!] 레이블 정보 없음: 1613530012260609.html\n"
     ]
    },
    {
     "name": "stderr",
     "output_type": "stream",
     "text": [
      "📁 part_2:  27%|██▋       | 2695/9820 [00:46<03:05, 38.39file/s]"
     ]
    },
    {
     "name": "stdout",
     "output_type": "stream",
     "text": [
      "[!] 레이블 정보 없음: 1613531066470082.html\n"
     ]
    },
    {
     "name": "stderr",
     "output_type": "stream",
     "text": [
      "📁 part_2:  28%|██▊       | 2714/9820 [00:46<02:24, 49.08file/s]"
     ]
    },
    {
     "name": "stdout",
     "output_type": "stream",
     "text": [
      "[!] 레이블 정보 없음: 1613531615214961.html\n"
     ]
    },
    {
     "name": "stderr",
     "output_type": "stream",
     "text": [
      "📁 part_2:  28%|██▊       | 2726/9820 [00:46<02:39, 44.56file/s]"
     ]
    },
    {
     "name": "stdout",
     "output_type": "stream",
     "text": [
      "[!] 레이블 정보 없음: 1613531923358096.html\n"
     ]
    },
    {
     "name": "stderr",
     "output_type": "stream",
     "text": [
      "📁 part_2:  28%|██▊       | 2731/9820 [00:46<03:03, 38.72file/s]"
     ]
    },
    {
     "name": "stdout",
     "output_type": "stream",
     "text": [
      "[!] 레이블 정보 없음: 1613532287818862.html\n"
     ]
    },
    {
     "name": "stderr",
     "output_type": "stream",
     "text": [
      "📁 part_2:  28%|██▊       | 2752/9820 [00:47<02:36, 45.06file/s]"
     ]
    },
    {
     "name": "stdout",
     "output_type": "stream",
     "text": [
      "[!] 레이블 정보 없음: 1613532689608589.html\n",
      "[!] 레이블 정보 없음: 1613533164482838.html\n"
     ]
    },
    {
     "name": "stderr",
     "output_type": "stream",
     "text": [
      "📁 part_2:  29%|██▊       | 2803/9820 [00:48<02:13, 52.69file/s]"
     ]
    },
    {
     "name": "stdout",
     "output_type": "stream",
     "text": [
      "[!] 레이블 정보 없음: 1613535433965556.html\n"
     ]
    },
    {
     "name": "stderr",
     "output_type": "stream",
     "text": [
      "📁 part_2:  29%|██▉       | 2854/9820 [00:49<02:46, 41.85file/s]"
     ]
    },
    {
     "name": "stdout",
     "output_type": "stream",
     "text": [
      "[!] 레이블 정보 없음: 1613540573310447.html\n",
      "[!] 레이블 정보 없음: 1613540870537489.html\n"
     ]
    },
    {
     "name": "stderr",
     "output_type": "stream",
     "text": [
      "📁 part_2:  29%|██▉       | 2859/9820 [00:49<02:39, 43.53file/s]"
     ]
    },
    {
     "name": "stdout",
     "output_type": "stream",
     "text": [
      "[!] 레이블 정보 없음: 1613540970235051.html\n",
      "[!] 레이블 정보 없음: 1613541605153334.html\n"
     ]
    },
    {
     "name": "stderr",
     "output_type": "stream",
     "text": [
      "📁 part_2:  29%|██▉       | 2888/9820 [00:50<03:45, 30.76file/s]"
     ]
    },
    {
     "name": "stdout",
     "output_type": "stream",
     "text": [
      "[!] 레이블 정보 없음: 1613542688679319.html\n"
     ]
    },
    {
     "name": "stderr",
     "output_type": "stream",
     "text": [
      "📁 part_2:  30%|██▉       | 2916/9820 [00:52<03:42, 30.98file/s]"
     ]
    },
    {
     "name": "stdout",
     "output_type": "stream",
     "text": [
      "[!] 레이블 정보 없음: 1613546313572194.html\n"
     ]
    },
    {
     "name": "stderr",
     "output_type": "stream",
     "text": [
      "📁 part_2:  30%|██▉       | 2938/9820 [00:52<02:49, 40.71file/s]"
     ]
    },
    {
     "name": "stdout",
     "output_type": "stream",
     "text": [
      "[!] 레이블 정보 없음: 1613548140428714.html\n"
     ]
    },
    {
     "name": "stderr",
     "output_type": "stream",
     "text": [
      "📁 part_2:  31%|███       | 3003/9820 [00:54<04:13, 26.85file/s]"
     ]
    },
    {
     "name": "stdout",
     "output_type": "stream",
     "text": [
      "[!] 레이블 정보 없음: 1613552572600713.html\n",
      "[!] 레이블 정보 없음: 1613552659669044.html\n"
     ]
    },
    {
     "name": "stderr",
     "output_type": "stream",
     "text": [
      "📁 part_2:  31%|███       | 3014/9820 [00:54<03:18, 34.23file/s]"
     ]
    },
    {
     "name": "stdout",
     "output_type": "stream",
     "text": [
      "[!] 레이블 정보 없음: 1613553869907187.html\n",
      "[!] 레이블 정보 없음: 1613554014749822.html\n"
     ]
    },
    {
     "name": "stderr",
     "output_type": "stream",
     "text": [
      "📁 part_2:  31%|███       | 3047/9820 [00:55<03:19, 33.99file/s]"
     ]
    },
    {
     "name": "stdout",
     "output_type": "stream",
     "text": [
      "[!] 레이블 정보 없음: 161355528531285.html\n",
      "[!] 레이블 정보 없음: 1613555469568995.html\n"
     ]
    },
    {
     "name": "stderr",
     "output_type": "stream",
     "text": [
      "📁 part_2:  31%|███▏      | 3080/9820 [00:56<02:29, 45.06file/s]"
     ]
    },
    {
     "name": "stdout",
     "output_type": "stream",
     "text": [
      "[!] 레이블 정보 없음: 1613556422073427.html\n",
      "[!] 레이블 정보 없음: 1613556617794506.html\n"
     ]
    },
    {
     "name": "stderr",
     "output_type": "stream",
     "text": [
      "📁 part_2:  31%|███▏      | 3091/9820 [00:56<02:53, 38.88file/s]"
     ]
    },
    {
     "name": "stdout",
     "output_type": "stream",
     "text": [
      "[!] 레이블 정보 없음: 1613557352781336.html\n"
     ]
    },
    {
     "name": "stderr",
     "output_type": "stream",
     "text": [
      "📁 part_2:  32%|███▏      | 3167/9820 [00:59<02:32, 43.73file/s]"
     ]
    },
    {
     "name": "stdout",
     "output_type": "stream",
     "text": [
      "[!] 레이블 정보 없음: 1613562366970142.html\n"
     ]
    },
    {
     "name": "stderr",
     "output_type": "stream",
     "text": [
      "📁 part_2:  32%|███▏      | 3181/9820 [00:59<02:11, 50.51file/s]"
     ]
    },
    {
     "name": "stdout",
     "output_type": "stream",
     "text": [
      "[!] 레이블 정보 없음: 1613562532857946.html\n"
     ]
    },
    {
     "name": "stderr",
     "output_type": "stream",
     "text": [
      "📁 part_2:  33%|███▎      | 3206/9820 [00:59<02:27, 44.87file/s]"
     ]
    },
    {
     "name": "stdout",
     "output_type": "stream",
     "text": [
      "[!] 레이블 정보 없음: 1613563623351582.html\n",
      "[!] 레이블 정보 없음: 1613563976890959.html\n"
     ]
    },
    {
     "name": "stderr",
     "output_type": "stream",
     "text": [
      "📁 part_2:  33%|███▎      | 3221/9820 [01:00<02:42, 40.67file/s]"
     ]
    },
    {
     "name": "stdout",
     "output_type": "stream",
     "text": [
      "[!] 레이블 정보 없음: 1613564547698927.html\n"
     ]
    },
    {
     "name": "stderr",
     "output_type": "stream",
     "text": [
      "                                                                "
     ]
    },
    {
     "name": "stdout",
     "output_type": "stream",
     "text": [
      "[!] 레이블 정보 없음: 1613565418290887.html\n",
      "[!] 레이블 정보 없음: 1613565533931677.html\n",
      "[!] 레이블 정보 없음: 1613565949878941.html\n"
     ]
    },
    {
     "name": "stderr",
     "output_type": "stream",
     "text": [
      "📁 part_2:  33%|███▎      | 3260/9820 [01:01<02:28, 44.21file/s]"
     ]
    },
    {
     "name": "stdout",
     "output_type": "stream",
     "text": [
      "[!] 레이블 정보 없음: 1613566170284962.html\n",
      "[!] 레이블 정보 없음: 1613566296505794.html\n",
      "[!] 레이블 정보 없음: 1613566455528857.html\n"
     ]
    },
    {
     "name": "stderr",
     "output_type": "stream",
     "text": [
      "📁 part_2:  34%|███▎      | 3291/9820 [01:02<02:03, 52.72file/s]"
     ]
    },
    {
     "name": "stdout",
     "output_type": "stream",
     "text": [
      "[!] 레이블 정보 없음: 1613567140279728.html\n"
     ]
    },
    {
     "name": "stderr",
     "output_type": "stream",
     "text": [
      "📁 part_2:  34%|███▎      | 3310/9820 [01:02<02:03, 52.87file/s]"
     ]
    },
    {
     "name": "stdout",
     "output_type": "stream",
     "text": [
      "[!] 레이블 정보 없음: 1613567820740235.html\n"
     ]
    },
    {
     "name": "stderr",
     "output_type": "stream",
     "text": [
      "📁 part_2:  34%|███▍      | 3321/9820 [01:02<02:56, 36.80file/s]"
     ]
    },
    {
     "name": "stdout",
     "output_type": "stream",
     "text": [
      "[!] 레이블 정보 없음: 1613568173224244.html\n",
      "[!] 레이블 정보 없음: 1613568317768252.html\n"
     ]
    },
    {
     "name": "stderr",
     "output_type": "stream",
     "text": [
      "📁 part_2:  34%|███▍      | 3340/9820 [01:03<02:33, 42.27file/s]"
     ]
    },
    {
     "name": "stdout",
     "output_type": "stream",
     "text": [
      "[!] 레이블 정보 없음: 1613568879295144.html\n",
      "[!] 레이블 정보 없음: 1613569088257388.html\n",
      "[!] 레이블 정보 없음: 1613569330895042.html\n"
     ]
    },
    {
     "name": "stderr",
     "output_type": "stream",
     "text": [
      "📁 part_2:  34%|███▍      | 3365/9820 [01:03<01:58, 54.64file/s]"
     ]
    },
    {
     "name": "stdout",
     "output_type": "stream",
     "text": [
      "[!] 레이블 정보 없음: 1613569818407469.html\n"
     ]
    },
    {
     "name": "stderr",
     "output_type": "stream",
     "text": [
      "📁 part_2:  34%|███▍      | 3382/9820 [01:04<02:22, 45.22file/s]"
     ]
    },
    {
     "name": "stdout",
     "output_type": "stream",
     "text": [
      "[!] 레이블 정보 없음: 1613570732675155.html\n",
      "[!] 레이블 정보 없음: 1613570975509244.html\n"
     ]
    },
    {
     "name": "stderr",
     "output_type": "stream",
     "text": [
      "📁 part_2:  34%|███▍      | 3382/9820 [01:04<02:22, 45.22file/s]"
     ]
    },
    {
     "name": "stdout",
     "output_type": "stream",
     "text": [
      "[!] 레이블 정보 없음: 1613571331821137.html\n"
     ]
    },
    {
     "name": "stderr",
     "output_type": "stream",
     "text": [
      "📁 part_2:  35%|███▍      | 3401/9820 [01:04<02:36, 41.02file/s]"
     ]
    },
    {
     "name": "stdout",
     "output_type": "stream",
     "text": [
      "[!] 레이블 정보 없음: 16135715981728.html\n"
     ]
    },
    {
     "name": "stderr",
     "output_type": "stream",
     "text": [
      "📁 part_2:  36%|███▌      | 3538/9820 [01:05<00:40, 156.18file/s]"
     ]
    },
    {
     "name": "stdout",
     "output_type": "stream",
     "text": [
      "[!] 레이블 정보 없음: 1613572910880813.html\n",
      "[!] 레이블 정보 없음: 1613572965006455.html\n"
     ]
    },
    {
     "name": "stderr",
     "output_type": "stream",
     "text": [
      "📁 part_2:  40%|███▉      | 3893/9820 [01:07<00:43, 136.81file/s]"
     ]
    },
    {
     "name": "stdout",
     "output_type": "stream",
     "text": [
      "[!] 레이블 정보 없음: 1613574608937412.html\n"
     ]
    },
    {
     "name": "stderr",
     "output_type": "stream",
     "text": [
      "📁 part_2:  41%|████      | 4001/9820 [01:09<00:53, 109.12file/s]"
     ]
    },
    {
     "name": "stdout",
     "output_type": "stream",
     "text": [
      "[!] 레이블 정보 없음: 1613574976285929.html\n"
     ]
    },
    {
     "name": "stderr",
     "output_type": "stream",
     "text": [
      "📁 part_2:  44%|████▎     | 4276/9820 [01:12<00:44, 125.67file/s]"
     ]
    },
    {
     "name": "stdout",
     "output_type": "stream",
     "text": [
      "[!] 레이블 정보 없음: 1613575899350378.html\n",
      "[!] 레이블 정보 없음: 1613575993918207.html\n"
     ]
    },
    {
     "name": "stderr",
     "output_type": "stream",
     "text": [
      "📁 part_2:  47%|████▋     | 4660/9820 [01:14<00:58, 88.71file/s] "
     ]
    },
    {
     "name": "stdout",
     "output_type": "stream",
     "text": [
      "[!] 레이블 정보 없음: 1613577311898158.html\n"
     ]
    },
    {
     "name": "stderr",
     "output_type": "stream",
     "text": [
      "📁 part_2:  48%|████▊     | 4682/9820 [01:14<01:02, 82.00file/s]"
     ]
    },
    {
     "name": "stdout",
     "output_type": "stream",
     "text": [
      "[!] 레이블 정보 없음: 1613577565268579.html\n",
      "[!] 레이블 정보 없음: 161357762398702.html\n"
     ]
    },
    {
     "name": "stderr",
     "output_type": "stream",
     "text": [
      "📁 part_2:  48%|████▊     | 4692/9820 [01:15<01:12, 70.96file/s]"
     ]
    },
    {
     "name": "stdout",
     "output_type": "stream",
     "text": [
      "[!] 레이블 정보 없음: 1613578479132638.html\n"
     ]
    },
    {
     "name": "stderr",
     "output_type": "stream",
     "text": [
      "📁 part_2:  48%|████▊     | 4707/9820 [01:15<01:36, 52.83file/s]"
     ]
    },
    {
     "name": "stdout",
     "output_type": "stream",
     "text": [
      "[!] 레이블 정보 없음: 1613578665724701.html\n",
      "[!] 레이블 정보 없음: 161357924249114.html\n"
     ]
    },
    {
     "name": "stderr",
     "output_type": "stream",
     "text": [
      "📁 part_2:  48%|████▊     | 4731/9820 [01:16<02:15, 37.60file/s]"
     ]
    },
    {
     "name": "stdout",
     "output_type": "stream",
     "text": [
      "[!] 레이블 정보 없음: 1613580052732558.html\n"
     ]
    },
    {
     "name": "stderr",
     "output_type": "stream",
     "text": [
      "📁 part_2:  48%|████▊     | 4743/9820 [01:16<02:12, 38.33file/s]"
     ]
    },
    {
     "name": "stdout",
     "output_type": "stream",
     "text": [
      "[!] 레이블 정보 없음: 1613580537411217.html\n",
      "[!] 레이블 정보 없음: 1613580710104852.html\n"
     ]
    },
    {
     "name": "stderr",
     "output_type": "stream",
     "text": [
      "                                                                "
     ]
    },
    {
     "name": "stdout",
     "output_type": "stream",
     "text": [
      "[!] 레이블 정보 없음: 1613580847111874.html\n",
      "[!] 레이블 정보 없음: 1613580905315281.html\n"
     ]
    },
    {
     "name": "stderr",
     "output_type": "stream",
     "text": [
      "📁 part_2:  49%|████▊     | 4765/9820 [01:17<01:37, 51.91file/s]"
     ]
    },
    {
     "name": "stdout",
     "output_type": "stream",
     "text": [
      "[!] 레이블 정보 없음: 1613580995761755.html\n"
     ]
    },
    {
     "name": "stderr",
     "output_type": "stream",
     "text": [
      "📁 part_2:  49%|████▊     | 4776/9820 [01:17<01:50, 45.72file/s]"
     ]
    },
    {
     "name": "stdout",
     "output_type": "stream",
     "text": [
      "[!] 레이블 정보 없음: 1613581686450003.html\n"
     ]
    },
    {
     "name": "stderr",
     "output_type": "stream",
     "text": [
      "📁 part_2:  49%|████▉     | 4816/9820 [01:18<01:48, 46.30file/s]"
     ]
    },
    {
     "name": "stdout",
     "output_type": "stream",
     "text": [
      "[!] 레이블 정보 없음: 1613583276605636.html\n"
     ]
    },
    {
     "name": "stderr",
     "output_type": "stream",
     "text": [
      "📁 part_2:  49%|████▉     | 4846/9820 [01:18<01:18, 63.53file/s]"
     ]
    },
    {
     "name": "stdout",
     "output_type": "stream",
     "text": [
      "[!] 레이블 정보 없음: 1613583972711295.html\n",
      "[!] 레이블 정보 없음: 1613584011276593.html\n",
      "[!] 레이블 정보 없음: 1613584097291211.html\n"
     ]
    },
    {
     "name": "stderr",
     "output_type": "stream",
     "text": [
      "📁 part_2:  50%|████▉     | 4867/9820 [01:19<01:28, 56.03file/s]"
     ]
    },
    {
     "name": "stdout",
     "output_type": "stream",
     "text": [
      "[!] 레이블 정보 없음: 1613588973421825.html\n"
     ]
    },
    {
     "name": "stderr",
     "output_type": "stream",
     "text": [
      "📁 part_2:  50%|████▉     | 4894/9820 [01:20<02:04, 39.57file/s]"
     ]
    },
    {
     "name": "stdout",
     "output_type": "stream",
     "text": [
      "[!] 레이블 정보 없음: 1617350704967902.html\n",
      "[!] 레이블 정보 없음: 1617351198150175.html\n"
     ]
    },
    {
     "name": "stderr",
     "output_type": "stream",
     "text": [
      "📁 part_2:  50%|█████     | 4943/9820 [01:21<02:30, 32.40file/s]"
     ]
    },
    {
     "name": "stdout",
     "output_type": "stream",
     "text": [
      "[!] 레이블 정보 없음: 1617353787403871.html\n"
     ]
    },
    {
     "name": "stderr",
     "output_type": "stream",
     "text": [
      "📁 part_2:  51%|█████▏    | 5043/9820 [01:22<00:42, 111.53file/s]"
     ]
    },
    {
     "name": "stdout",
     "output_type": "stream",
     "text": [
      "[!] 레이블 정보 없음: 1620673524820466.html\n"
     ]
    },
    {
     "name": "stderr",
     "output_type": "stream",
     "text": [
      "📁 part_2:  54%|█████▍    | 5281/9820 [01:25<01:08, 66.21file/s] "
     ]
    },
    {
     "name": "stdout",
     "output_type": "stream",
     "text": [
      "[!] 레이블 정보 없음: 1623143663726873.html\n"
     ]
    },
    {
     "name": "stderr",
     "output_type": "stream",
     "text": [
      "📁 part_2:  54%|█████▍    | 5306/9820 [01:26<02:37, 28.69file/s]"
     ]
    },
    {
     "name": "stdout",
     "output_type": "stream",
     "text": [
      "[!] 레이블 정보 없음: 1623145369519775.html\n"
     ]
    },
    {
     "name": "stderr",
     "output_type": "stream",
     "text": [
      "📁 part_2:  54%|█████▍    | 5314/9820 [01:26<02:18, 32.58file/s]"
     ]
    },
    {
     "name": "stdout",
     "output_type": "stream",
     "text": [
      "[!] 레이블 정보 없음: 1623146040626165.html\n"
     ]
    },
    {
     "name": "stderr",
     "output_type": "stream",
     "text": [
      "📁 part_2:  54%|█████▍    | 5326/9820 [01:27<02:15, 33.24file/s]"
     ]
    },
    {
     "name": "stdout",
     "output_type": "stream",
     "text": [
      "[!] 레이블 정보 없음: 1623147305462459.html\n"
     ]
    },
    {
     "name": "stderr",
     "output_type": "stream",
     "text": [
      "📁 part_2:  54%|█████▍    | 5340/9820 [01:27<02:23, 31.21file/s]"
     ]
    },
    {
     "name": "stdout",
     "output_type": "stream",
     "text": [
      "[!] 레이블 정보 없음: 1623148196545209.html\n"
     ]
    },
    {
     "name": "stderr",
     "output_type": "stream",
     "text": [
      "📁 part_2:  55%|█████▍    | 5360/9820 [01:28<02:10, 34.16file/s]"
     ]
    },
    {
     "name": "stdout",
     "output_type": "stream",
     "text": [
      "[!] 레이블 정보 없음: 1623150223354031.html\n"
     ]
    },
    {
     "name": "stderr",
     "output_type": "stream",
     "text": [
      "📁 part_2:  55%|█████▍    | 5370/9820 [01:28<01:54, 38.94file/s]"
     ]
    },
    {
     "name": "stdout",
     "output_type": "stream",
     "text": [
      "[!] 레이블 정보 없음: 1623150779495294.html\n"
     ]
    },
    {
     "name": "stderr",
     "output_type": "stream",
     "text": [
      "📁 part_2:  55%|█████▍    | 5382/9820 [01:28<01:49, 40.37file/s]"
     ]
    },
    {
     "name": "stdout",
     "output_type": "stream",
     "text": [
      "[!] 레이블 정보 없음: 1623152059774449.html\n"
     ]
    },
    {
     "name": "stderr",
     "output_type": "stream",
     "text": [
      "📁 part_2:  55%|█████▍    | 5394/9820 [01:28<01:36, 45.96file/s]"
     ]
    },
    {
     "name": "stdout",
     "output_type": "stream",
     "text": [
      "[!] 레이블 정보 없음: 1623153077241833.html\n"
     ]
    },
    {
     "name": "stderr",
     "output_type": "stream",
     "text": [
      "📁 part_2:  55%|█████▌    | 5403/9820 [01:29<03:06, 23.66file/s]"
     ]
    },
    {
     "name": "stdout",
     "output_type": "stream",
     "text": [
      "[!] 레이블 정보 없음: 1623154677837433.html\n"
     ]
    },
    {
     "name": "stderr",
     "output_type": "stream",
     "text": [
      "📁 part_2:  55%|█████▌    | 5434/9820 [01:30<02:02, 35.67file/s]"
     ]
    },
    {
     "name": "stdout",
     "output_type": "stream",
     "text": [
      "[!] 레이블 정보 없음: 1623156318357755.html\n",
      "[!] 레이블 정보 없음: 1623156600487081.html\n",
      "[!] 레이블 정보 없음: 16231570146541.html\n"
     ]
    },
    {
     "name": "stderr",
     "output_type": "stream",
     "text": [
      "📁 part_2:  55%|█████▌    | 5448/9820 [01:31<01:47, 40.53file/s]"
     ]
    },
    {
     "name": "stdout",
     "output_type": "stream",
     "text": [
      "[!] 레이블 정보 없음: 1623157525334731.html\n"
     ]
    },
    {
     "name": "stderr",
     "output_type": "stream",
     "text": [
      "📁 part_2:  56%|█████▌    | 5459/9820 [01:31<01:57, 37.20file/s]"
     ]
    },
    {
     "name": "stdout",
     "output_type": "stream",
     "text": [
      "[!] 레이블 정보 없음: 1623158565619297.html\n"
     ]
    },
    {
     "name": "stderr",
     "output_type": "stream",
     "text": [
      "📁 part_2:  56%|█████▌    | 5513/9820 [01:33<02:07, 33.76file/s]"
     ]
    },
    {
     "name": "stdout",
     "output_type": "stream",
     "text": [
      "[!] 레이블 정보 없음: 1623163209433949.html\n"
     ]
    },
    {
     "name": "stderr",
     "output_type": "stream",
     "text": [
      "📁 part_2:  58%|█████▊    | 5733/9820 [01:34<00:25, 161.40file/s]"
     ]
    },
    {
     "name": "stdout",
     "output_type": "stream",
     "text": [
      "[!] 레이블 정보 없음: 1625149949592665.html\n"
     ]
    },
    {
     "name": "stderr",
     "output_type": "stream",
     "text": [
      "📁 part_2:  59%|█████▉    | 5823/9820 [01:35<00:26, 150.05file/s]"
     ]
    },
    {
     "name": "stdout",
     "output_type": "stream",
     "text": [
      "[!] 레이블 정보 없음: 1625456144563706.html\n"
     ]
    },
    {
     "name": "stderr",
     "output_type": "stream",
     "text": [
      "📁 part_2:  60%|██████    | 5921/9820 [01:36<00:27, 141.52file/s]"
     ]
    },
    {
     "name": "stdout",
     "output_type": "stream",
     "text": [
      "[!] 레이블 정보 없음: 1626045183478293.html\n",
      "[!] 레이블 정보 없음: 1626068028749503.html\n"
     ]
    },
    {
     "name": "stderr",
     "output_type": "stream",
     "text": [
      "📁 part_2:  60%|██████    | 5936/9820 [01:36<00:39, 97.22file/s] "
     ]
    },
    {
     "name": "stdout",
     "output_type": "stream",
     "text": [
      "[!] 레이블 정보 없음: 1626115406790927.html\n"
     ]
    },
    {
     "name": "stderr",
     "output_type": "stream",
     "text": [
      "📁 part_2:  61%|██████    | 5957/9820 [01:37<01:22, 46.66file/s]"
     ]
    },
    {
     "name": "stdout",
     "output_type": "stream",
     "text": [
      "[!] 레이블 정보 없음: 1626117220479645.html\n",
      "[!] 레이블 정보 없음: 1626117315280492.html\n"
     ]
    },
    {
     "name": "stderr",
     "output_type": "stream",
     "text": [
      "📁 part_2:  61%|██████    | 5999/9820 [01:38<01:43, 36.95file/s]"
     ]
    },
    {
     "name": "stdout",
     "output_type": "stream",
     "text": [
      "[!] 레이블 정보 없음: 1626120624912736.html\n"
     ]
    },
    {
     "name": "stderr",
     "output_type": "stream",
     "text": [
      "📁 part_2:  61%|██████    | 6008/9820 [01:39<01:54, 33.15file/s]"
     ]
    },
    {
     "name": "stdout",
     "output_type": "stream",
     "text": [
      "[!] 레이블 정보 없음: 1626121576788955.html\n"
     ]
    },
    {
     "name": "stderr",
     "output_type": "stream",
     "text": [
      "📁 part_2:  61%|██████▏   | 6019/9820 [01:39<01:52, 33.85file/s]"
     ]
    },
    {
     "name": "stdout",
     "output_type": "stream",
     "text": [
      "[!] 레이블 정보 없음: 1626122604973816.html\n"
     ]
    },
    {
     "name": "stderr",
     "output_type": "stream",
     "text": [
      "📁 part_2:  62%|██████▏   | 6061/9820 [01:41<02:34, 24.35file/s]"
     ]
    },
    {
     "name": "stdout",
     "output_type": "stream",
     "text": [
      "[!] 레이블 정보 없음: 1626125418444466.html\n"
     ]
    },
    {
     "name": "stderr",
     "output_type": "stream",
     "text": [
      "📁 part_2:  62%|██████▏   | 6086/9820 [01:42<01:56, 32.07file/s]"
     ]
    },
    {
     "name": "stdout",
     "output_type": "stream",
     "text": [
      "[!] 레이블 정보 없음: 1626127574808819.html\n"
     ]
    },
    {
     "name": "stderr",
     "output_type": "stream",
     "text": [
      "📁 part_2:  62%|██████▏   | 6096/9820 [01:42<01:52, 33.17file/s]"
     ]
    },
    {
     "name": "stdout",
     "output_type": "stream",
     "text": [
      "[!] 레이블 정보 없음: 1626167110483373.html\n",
      "[!] 레이블 정보 없음: 1626167274727517.html\n"
     ]
    },
    {
     "name": "stderr",
     "output_type": "stream",
     "text": [
      "📁 part_2:  62%|██████▏   | 6117/9820 [01:43<01:46, 34.84file/s]"
     ]
    },
    {
     "name": "stdout",
     "output_type": "stream",
     "text": [
      "[!] 레이블 정보 없음: 1626168924624991.html\n",
      "[!] 레이블 정보 없음: 1626169963114286.html\n"
     ]
    },
    {
     "name": "stderr",
     "output_type": "stream",
     "text": [
      "📁 part_2:  63%|██████▎   | 6223/9820 [01:44<00:38, 93.69file/s] "
     ]
    },
    {
     "name": "stdout",
     "output_type": "stream",
     "text": [
      "[!] 레이블 정보 없음: 1626555020891162.html\n",
      "[!] 레이블 정보 없음: 1626569468999458.html\n",
      "[!] 레이블 정보 없음: 1626573089318743.html\n"
     ]
    },
    {
     "name": "stderr",
     "output_type": "stream",
     "text": [
      "📁 part_2:  64%|██████▎   | 6250/9820 [01:44<00:36, 96.96file/s]"
     ]
    },
    {
     "name": "stdout",
     "output_type": "stream",
     "text": [
      "[!] 레이블 정보 없음: 1626652232835129.html\n",
      "[!] 레이블 정보 없음: 1626677435671127.html\n"
     ]
    },
    {
     "name": "stderr",
     "output_type": "stream",
     "text": [
      "📁 part_2:  64%|██████▍   | 6281/9820 [01:44<00:46, 75.86file/s]"
     ]
    },
    {
     "name": "stdout",
     "output_type": "stream",
     "text": [
      "[!] 레이블 정보 없음: 1626742228918811.html\n",
      "[!] 레이블 정보 없음: 1626813010897854.html\n"
     ]
    },
    {
     "name": "stderr",
     "output_type": "stream",
     "text": [
      "📁 part_2:  65%|██████▍   | 6351/9820 [01:46<00:59, 58.20file/s]"
     ]
    },
    {
     "name": "stdout",
     "output_type": "stream",
     "text": [
      "[!] 레이블 정보 없음: 1626893437308914.html\n",
      "[!] 레이블 정보 없음: 1626899816508711.html\n"
     ]
    },
    {
     "name": "stderr",
     "output_type": "stream",
     "text": [
      "📁 part_2:  65%|██████▍   | 6373/9820 [01:46<01:02, 54.75file/s]"
     ]
    },
    {
     "name": "stdout",
     "output_type": "stream",
     "text": [
      "[!] 레이블 정보 없음: 1626903376468302.html\n"
     ]
    },
    {
     "name": "stderr",
     "output_type": "stream",
     "text": [
      "📁 part_2:  65%|██████▌   | 6407/9820 [01:47<00:48, 69.77file/s]"
     ]
    },
    {
     "name": "stdout",
     "output_type": "stream",
     "text": [
      "[!] 레이블 정보 없음: 1626920082600053.html\n"
     ]
    },
    {
     "name": "stderr",
     "output_type": "stream",
     "text": [
      "📁 part_2:  66%|██████▌   | 6444/9820 [01:47<00:53, 63.40file/s]"
     ]
    },
    {
     "name": "stdout",
     "output_type": "stream",
     "text": [
      "[!] 레이블 정보 없음: 162694522771013.html\n"
     ]
    },
    {
     "name": "stderr",
     "output_type": "stream",
     "text": [
      "📁 part_2:  66%|██████▌   | 6453/9820 [01:48<01:04, 52.11file/s]"
     ]
    },
    {
     "name": "stdout",
     "output_type": "stream",
     "text": [
      "[!] 레이블 정보 없음: 162695743282098.html\n"
     ]
    },
    {
     "name": "stderr",
     "output_type": "stream",
     "text": [
      "📁 part_2:  66%|██████▌   | 6466/9820 [01:48<01:16, 44.02file/s]"
     ]
    },
    {
     "name": "stdout",
     "output_type": "stream",
     "text": [
      "[!] 레이블 정보 없음: 1626965454206095.html\n"
     ]
    },
    {
     "name": "stderr",
     "output_type": "stream",
     "text": [
      "📁 part_2:  67%|██████▋   | 6601/9820 [01:51<01:21, 39.49file/s]"
     ]
    },
    {
     "name": "stdout",
     "output_type": "stream",
     "text": [
      "[!] 레이블 정보 없음: 1635698122134599.html\n"
     ]
    },
    {
     "name": "stderr",
     "output_type": "stream",
     "text": [
      "📁 part_2:  68%|██████▊   | 6652/9820 [01:52<01:34, 33.47file/s]"
     ]
    },
    {
     "name": "stdout",
     "output_type": "stream",
     "text": [
      "[!] 레이블 정보 없음: 1635698481914752.html\n"
     ]
    },
    {
     "name": "stderr",
     "output_type": "stream",
     "text": [
      "📁 part_2:  68%|██████▊   | 6668/9820 [01:53<01:45, 29.93file/s]"
     ]
    },
    {
     "name": "stdout",
     "output_type": "stream",
     "text": [
      "[!] 레이블 정보 없음: 1635698642995805.html\n",
      "[!] 레이블 정보 없음: 1635698646495458.html\n"
     ]
    },
    {
     "name": "stderr",
     "output_type": "stream",
     "text": [
      "📁 part_2:  68%|██████▊   | 6678/9820 [01:53<01:33, 33.74file/s]"
     ]
    },
    {
     "name": "stdout",
     "output_type": "stream",
     "text": [
      "[!] 레이블 정보 없음: 1635698654987541.html\n"
     ]
    },
    {
     "name": "stderr",
     "output_type": "stream",
     "text": [
      "📁 part_2:  68%|██████▊   | 6693/9820 [01:54<01:33, 33.30file/s]"
     ]
    },
    {
     "name": "stdout",
     "output_type": "stream",
     "text": [
      "[!] 레이블 정보 없음: 1635698742934972.html\n",
      "[!] 레이블 정보 없음: 1635698744500013.html\n"
     ]
    },
    {
     "name": "stderr",
     "output_type": "stream",
     "text": [
      "📁 part_2:  68%|██████▊   | 6715/9820 [01:54<01:33, 33.03file/s]"
     ]
    },
    {
     "name": "stdout",
     "output_type": "stream",
     "text": [
      "[!] 레이블 정보 없음: 1635698881194649.html\n"
     ]
    },
    {
     "name": "stderr",
     "output_type": "stream",
     "text": [
      "📁 part_2:  69%|██████▊   | 6728/9820 [01:55<02:13, 23.21file/s]"
     ]
    },
    {
     "name": "stdout",
     "output_type": "stream",
     "text": [
      "[!] 레이블 정보 없음: 1635698910659442.html\n",
      "[!] 레이블 정보 없음: 1635698912914613.html\n",
      "[!] 레이블 정보 없음: 1635698915882027.html\n"
     ]
    },
    {
     "name": "stderr",
     "output_type": "stream",
     "text": [
      "📁 part_2:  69%|██████▊   | 6747/9820 [01:56<01:21, 37.55file/s]"
     ]
    },
    {
     "name": "stdout",
     "output_type": "stream",
     "text": [
      "[!] 레이블 정보 없음: 1635698958523776.html\n"
     ]
    },
    {
     "name": "stderr",
     "output_type": "stream",
     "text": [
      "📁 part_2:  69%|██████▊   | 6751/9820 [01:56<01:21, 37.75file/s]"
     ]
    },
    {
     "name": "stdout",
     "output_type": "stream",
     "text": [
      "[!] 레이블 정보 없음: 1635698982469382.html\n"
     ]
    },
    {
     "name": "stderr",
     "output_type": "stream",
     "text": [
      "📁 part_2:  69%|██████▉   | 6767/9820 [01:56<01:21, 37.38file/s]"
     ]
    },
    {
     "name": "stdout",
     "output_type": "stream",
     "text": [
      "[!] 레이블 정보 없음: 1635699007696315.html\n"
     ]
    },
    {
     "name": "stderr",
     "output_type": "stream",
     "text": [
      "📁 part_2:  69%|██████▉   | 6780/9820 [01:57<01:32, 32.96file/s]"
     ]
    },
    {
     "name": "stdout",
     "output_type": "stream",
     "text": [
      "[!] 레이블 정보 없음: 1635699139797524.html\n",
      "[!] 레이블 정보 없음: 1635699141144542.html\n",
      "[!] 레이블 정보 없음: 1635699142702216.html\n",
      "[!] 레이블 정보 없음: 1635699145270041.html\n"
     ]
    },
    {
     "name": "stderr",
     "output_type": "stream",
     "text": [
      "📁 part_2:  70%|██████▉   | 6842/9820 [01:58<01:06, 44.79file/s]"
     ]
    },
    {
     "name": "stdout",
     "output_type": "stream",
     "text": [
      "[!] 레이블 정보 없음: 1635699374093655.html\n"
     ]
    },
    {
     "name": "stderr",
     "output_type": "stream",
     "text": [
      "📁 part_2:  70%|██████▉   | 6855/9820 [01:59<01:06, 44.90file/s]"
     ]
    },
    {
     "name": "stdout",
     "output_type": "stream",
     "text": [
      "[!] 레이블 정보 없음: 163569945447152.html\n",
      "[!] 레이블 정보 없음: 1635699458678486.html\n",
      "[!] 레이블 정보 없음: 1635699504975773.html\n"
     ]
    },
    {
     "name": "stderr",
     "output_type": "stream",
     "text": [
      "📁 part_2:  70%|██████▉   | 6866/9820 [01:59<01:03, 46.78file/s]"
     ]
    },
    {
     "name": "stdout",
     "output_type": "stream",
     "text": [
      "[!] 레이블 정보 없음: 1635699520253879.html\n"
     ]
    },
    {
     "name": "stderr",
     "output_type": "stream",
     "text": [
      "📁 part_2:  70%|███████   | 6913/9820 [02:00<01:14, 38.83file/s]"
     ]
    },
    {
     "name": "stdout",
     "output_type": "stream",
     "text": [
      "[!] 레이블 정보 없음: 1635699687628865.html\n"
     ]
    },
    {
     "name": "stderr",
     "output_type": "stream",
     "text": [
      "📁 part_2:  71%|███████   | 6938/9820 [02:01<01:39, 28.89file/s]"
     ]
    },
    {
     "name": "stdout",
     "output_type": "stream",
     "text": [
      "[!] 레이블 정보 없음: 1635699780225929.html\n"
     ]
    },
    {
     "name": "stderr",
     "output_type": "stream",
     "text": [
      "📁 part_2:  71%|███████   | 6964/9820 [02:02<01:43, 27.66file/s]"
     ]
    },
    {
     "name": "stdout",
     "output_type": "stream",
     "text": [
      "[!] 레이블 정보 없음: 1635699900949844.html\n"
     ]
    },
    {
     "name": "stderr",
     "output_type": "stream",
     "text": [
      "📁 part_2:  71%|███████   | 6969/9820 [02:02<01:40, 28.34file/s]"
     ]
    },
    {
     "name": "stdout",
     "output_type": "stream",
     "text": [
      "[!] 레이블 정보 없음: 163569994951306.html\n",
      "[!] 레이블 정보 없음: 1635699964043853.html\n"
     ]
    },
    {
     "name": "stderr",
     "output_type": "stream",
     "text": [
      "📁 part_2:  71%|███████▏  | 7002/9820 [02:03<01:03, 44.17file/s]"
     ]
    },
    {
     "name": "stdout",
     "output_type": "stream",
     "text": [
      "[!] 레이블 정보 없음: 163570021290164.html\n"
     ]
    },
    {
     "name": "stderr",
     "output_type": "stream",
     "text": [
      "📁 part_2:  71%|███████▏  | 7013/9820 [02:03<01:11, 39.25file/s]"
     ]
    },
    {
     "name": "stdout",
     "output_type": "stream",
     "text": [
      "[!] 레이블 정보 없음: 1635700249675492.html\n",
      "[!] 레이블 정보 없음: 1635700255923657.html\n"
     ]
    },
    {
     "name": "stderr",
     "output_type": "stream",
     "text": [
      "📁 part_2:  72%|███████▏  | 7028/9820 [02:04<01:05, 42.82file/s]"
     ]
    },
    {
     "name": "stdout",
     "output_type": "stream",
     "text": [
      "[!] 레이블 정보 없음: 1635700412796569.html\n"
     ]
    },
    {
     "name": "stderr",
     "output_type": "stream",
     "text": [
      "📁 part_2:  72%|███████▏  | 7045/9820 [02:04<01:08, 40.28file/s]"
     ]
    },
    {
     "name": "stdout",
     "output_type": "stream",
     "text": [
      "[!] 레이블 정보 없음: 1635700541434565.html\n"
     ]
    },
    {
     "name": "stderr",
     "output_type": "stream",
     "text": [
      "📁 part_2:  72%|███████▏  | 7083/9820 [02:06<01:38, 27.88file/s]"
     ]
    },
    {
     "name": "stdout",
     "output_type": "stream",
     "text": [
      "[!] 레이블 정보 없음: 1635700740401951.html\n"
     ]
    },
    {
     "name": "stderr",
     "output_type": "stream",
     "text": [
      "📁 part_2:  73%|███████▎  | 7137/9820 [02:08<01:17, 34.65file/s]"
     ]
    },
    {
     "name": "stdout",
     "output_type": "stream",
     "text": [
      "[!] 레이블 정보 없음: 1635700957635414.html\n"
     ]
    },
    {
     "name": "stderr",
     "output_type": "stream",
     "text": [
      "📁 part_2:  73%|███████▎  | 7145/9820 [02:08<01:52, 23.71file/s]"
     ]
    },
    {
     "name": "stdout",
     "output_type": "stream",
     "text": [
      "[!] 레이블 정보 없음: 1635700982849727.html\n"
     ]
    },
    {
     "name": "stderr",
     "output_type": "stream",
     "text": [
      "📁 part_2:  73%|███████▎  | 7181/9820 [02:09<01:01, 42.61file/s]"
     ]
    },
    {
     "name": "stdout",
     "output_type": "stream",
     "text": [
      "[!] 레이블 정보 없음: 1635701163821888.html\n"
     ]
    },
    {
     "name": "stderr",
     "output_type": "stream",
     "text": [
      "📁 part_2:  73%|███████▎  | 7204/9820 [02:10<02:08, 20.39file/s]"
     ]
    },
    {
     "name": "stdout",
     "output_type": "stream",
     "text": [
      "[!] 레이블 정보 없음: 1635701371314787.html\n"
     ]
    },
    {
     "name": "stderr",
     "output_type": "stream",
     "text": [
      "                                                                "
     ]
    },
    {
     "name": "stdout",
     "output_type": "stream",
     "text": [
      "[!] 레이블 정보 없음: 1635701451479555.html\n"
     ]
    },
    {
     "name": "stderr",
     "output_type": "stream",
     "text": [
      "📁 part_2:  74%|███████▎  | 7232/9820 [02:12<01:40, 25.83file/s]"
     ]
    },
    {
     "name": "stdout",
     "output_type": "stream",
     "text": [
      "[!] 레이블 정보 없음: 1635701479694807.html\n"
     ]
    },
    {
     "name": "stderr",
     "output_type": "stream",
     "text": [
      "📁 part_2:  74%|███████▎  | 7238/9820 [02:12<01:23, 30.80file/s]"
     ]
    },
    {
     "name": "stdout",
     "output_type": "stream",
     "text": [
      "[!] 레이블 정보 없음: 1635701489813402.html\n"
     ]
    },
    {
     "name": "stderr",
     "output_type": "stream",
     "text": [
      "📁 part_2:  74%|███████▍  | 7297/9820 [02:14<01:38, 25.67file/s]"
     ]
    },
    {
     "name": "stdout",
     "output_type": "stream",
     "text": [
      "[!] 레이블 정보 없음: 1635701807979047.html\n"
     ]
    },
    {
     "name": "stderr",
     "output_type": "stream",
     "text": [
      "📁 part_2:  75%|███████▍  | 7330/9820 [02:15<01:25, 29.16file/s]"
     ]
    },
    {
     "name": "stdout",
     "output_type": "stream",
     "text": [
      "[!] 레이블 정보 없음: 1635702010535748.html\n"
     ]
    },
    {
     "name": "stderr",
     "output_type": "stream",
     "text": [
      "📁 part_2:  75%|███████▍  | 7358/9820 [02:16<00:58, 42.08file/s]"
     ]
    },
    {
     "name": "stdout",
     "output_type": "stream",
     "text": [
      "[!] 레이블 정보 없음: 1635702122667983.html\n"
     ]
    },
    {
     "name": "stderr",
     "output_type": "stream",
     "text": [
      "📁 part_2:  76%|███████▌  | 7418/9820 [02:18<01:01, 38.78file/s]"
     ]
    },
    {
     "name": "stdout",
     "output_type": "stream",
     "text": [
      "[!] 레이블 정보 없음: 1635702485282206.html\n",
      "[!] 레이블 정보 없음: 1635702489862537.html\n"
     ]
    },
    {
     "name": "stderr",
     "output_type": "stream",
     "text": [
      "📁 part_2:  76%|███████▌  | 7437/9820 [02:18<00:59, 39.81file/s]"
     ]
    },
    {
     "name": "stdout",
     "output_type": "stream",
     "text": [
      "[!] 레이블 정보 없음: 1635702538253827.html\n"
     ]
    },
    {
     "name": "stderr",
     "output_type": "stream",
     "text": [
      "📁 part_2:  76%|███████▌  | 7437/9820 [02:18<00:59, 39.81file/s]"
     ]
    },
    {
     "name": "stdout",
     "output_type": "stream",
     "text": [
      "[!] 레이블 정보 없음: 1635702598346584.html\n"
     ]
    },
    {
     "name": "stderr",
     "output_type": "stream",
     "text": [
      "📁 part_2:  76%|███████▌  | 7465/9820 [02:19<01:06, 35.53file/s]"
     ]
    },
    {
     "name": "stdout",
     "output_type": "stream",
     "text": [
      "[!] 레이블 정보 없음: 1635702687784257.html\n",
      "[!] 레이블 정보 없음: 1635702706359795.html\n",
      "[!] 레이블 정보 없음: 163570271036201.html\n"
     ]
    },
    {
     "name": "stderr",
     "output_type": "stream",
     "text": [
      "📁 part_2:  76%|███████▌  | 7479/9820 [02:19<01:11, 32.81file/s]"
     ]
    },
    {
     "name": "stdout",
     "output_type": "stream",
     "text": [
      "[!] 레이블 정보 없음: 1635702730100933.html\n"
     ]
    },
    {
     "name": "stderr",
     "output_type": "stream",
     "text": [
      "📁 part_2:  77%|███████▋  | 7558/9820 [02:23<01:05, 34.63file/s]"
     ]
    },
    {
     "name": "stdout",
     "output_type": "stream",
     "text": [
      "[!] 레이블 정보 없음: 1635702996478815.html\n",
      "[!] 레이블 정보 없음: 1635703007184875.html\n"
     ]
    },
    {
     "name": "stderr",
     "output_type": "stream",
     "text": [
      "📁 part_2:  77%|███████▋  | 7575/9820 [02:24<01:50, 20.31file/s]"
     ]
    },
    {
     "name": "stdout",
     "output_type": "stream",
     "text": [
      "[!] 레이블 정보 없음: 1635703150175736.html\n",
      "[!] 레이블 정보 없음: 1635703152111331.html\n",
      "[!] 레이블 정보 없음: 163570316128357.html\n"
     ]
    },
    {
     "name": "stderr",
     "output_type": "stream",
     "text": [
      "📁 part_2:  77%|███████▋  | 7593/9820 [02:25<01:02, 35.67file/s]"
     ]
    },
    {
     "name": "stdout",
     "output_type": "stream",
     "text": [
      "[!] 레이블 정보 없음: 1635703183004195.html\n",
      "[!] 레이블 정보 없음: 163570321109734.html\n"
     ]
    },
    {
     "name": "stderr",
     "output_type": "stream",
     "text": [
      "📁 part_2:  78%|███████▊  | 7627/9820 [02:26<01:09, 31.70file/s]"
     ]
    },
    {
     "name": "stdout",
     "output_type": "stream",
     "text": [
      "[!] 레이블 정보 없음: 1635703397750493.html\n"
     ]
    },
    {
     "name": "stderr",
     "output_type": "stream",
     "text": [
      "📁 part_2:  78%|███████▊  | 7639/9820 [02:26<01:03, 34.36file/s]"
     ]
    },
    {
     "name": "stdout",
     "output_type": "stream",
     "text": [
      "[!] 레이블 정보 없음: 1635703444820739.html\n"
     ]
    },
    {
     "name": "stderr",
     "output_type": "stream",
     "text": [
      "📁 part_2:  78%|███████▊  | 7667/9820 [02:27<01:01, 35.25file/s]"
     ]
    },
    {
     "name": "stdout",
     "output_type": "stream",
     "text": [
      "[!] 레이블 정보 없음: 1635703579963055.html\n",
      "[!] 레이블 정보 없음: 1635703592130671.html\n"
     ]
    },
    {
     "name": "stderr",
     "output_type": "stream",
     "text": [
      "📁 part_2:  78%|███████▊  | 7677/9820 [02:27<01:02, 34.28file/s]"
     ]
    },
    {
     "name": "stdout",
     "output_type": "stream",
     "text": [
      "[!] 레이블 정보 없음: 1635703621801585.html\n"
     ]
    },
    {
     "name": "stderr",
     "output_type": "stream",
     "text": [
      "📁 part_2:  78%|███████▊  | 7685/9820 [02:27<01:03, 33.64file/s]"
     ]
    },
    {
     "name": "stdout",
     "output_type": "stream",
     "text": [
      "[!] 레이블 정보 없음: 1635703666331222.html\n",
      "[!] 레이블 정보 없음: 1635703674899325.html\n"
     ]
    },
    {
     "name": "stderr",
     "output_type": "stream",
     "text": [
      "📁 part_2:  79%|███████▊  | 7720/9820 [02:29<00:59, 35.35file/s]"
     ]
    },
    {
     "name": "stdout",
     "output_type": "stream",
     "text": [
      "[!] 레이블 정보 없음: 1635703818552159.html\n",
      "[!] 레이블 정보 없음: 1635703820429277.html\n"
     ]
    },
    {
     "name": "stderr",
     "output_type": "stream",
     "text": [
      "                                                                "
     ]
    },
    {
     "name": "stdout",
     "output_type": "stream",
     "text": [
      "[!] 레이블 정보 없음: 1635703894623549.html\n",
      "[!] 레이블 정보 없음: 1635703898355141.html\n"
     ]
    },
    {
     "name": "stderr",
     "output_type": "stream",
     "text": [
      "📁 part_2:  79%|███████▉  | 7745/9820 [02:29<00:55, 37.61file/s]"
     ]
    },
    {
     "name": "stdout",
     "output_type": "stream",
     "text": [
      "[!] 레이블 정보 없음: 1635703917120754.html\n"
     ]
    },
    {
     "name": "stderr",
     "output_type": "stream",
     "text": [
      "📁 part_2:  79%|███████▉  | 7772/9820 [02:30<01:27, 23.54file/s]"
     ]
    },
    {
     "name": "stdout",
     "output_type": "stream",
     "text": [
      "[!] 레이블 정보 없음: 1635704039361273.html\n"
     ]
    },
    {
     "name": "stderr",
     "output_type": "stream",
     "text": [
      "📁 part_2:  79%|███████▉  | 7784/9820 [02:31<01:12, 27.94file/s]"
     ]
    },
    {
     "name": "stdout",
     "output_type": "stream",
     "text": [
      "[!] 레이블 정보 없음: 163570407166258.html\n"
     ]
    },
    {
     "name": "stderr",
     "output_type": "stream",
     "text": [
      "📁 part_2:  79%|███████▉  | 7797/9820 [02:32<02:05, 16.11file/s]"
     ]
    },
    {
     "name": "stdout",
     "output_type": "stream",
     "text": [
      "[!] 레이블 정보 없음: 1635704147397837.html\n"
     ]
    },
    {
     "name": "stderr",
     "output_type": "stream",
     "text": [
      "📁 part_2:  79%|███████▉  | 7804/9820 [02:32<01:40, 20.16file/s]"
     ]
    },
    {
     "name": "stdout",
     "output_type": "stream",
     "text": [
      "[!] 레이블 정보 없음: 1635704162399429.html\n"
     ]
    },
    {
     "name": "stderr",
     "output_type": "stream",
     "text": [
      "                                                                "
     ]
    },
    {
     "name": "stdout",
     "output_type": "stream",
     "text": [
      "[!] 레이블 정보 없음: 1635704186096673.html\n"
     ]
    },
    {
     "name": "stderr",
     "output_type": "stream",
     "text": [
      "📁 part_2:  80%|███████▉  | 7819/9820 [02:32<01:03, 31.56file/s]"
     ]
    },
    {
     "name": "stdout",
     "output_type": "stream",
     "text": [
      "[!] 레이블 정보 없음: 1635704246415936.html\n",
      "[!] 레이블 정보 없음: 1635704249085406.html\n"
     ]
    },
    {
     "name": "stderr",
     "output_type": "stream",
     "text": [
      "📁 part_2:  80%|███████▉  | 7841/9820 [02:34<02:02, 16.16file/s]"
     ]
    },
    {
     "name": "stdout",
     "output_type": "stream",
     "text": [
      "[!] 레이블 정보 없음: 1635704313833926.html\n",
      "[!] 레이블 정보 없음: 163570432273321.html\n"
     ]
    },
    {
     "name": "stderr",
     "output_type": "stream",
     "text": [
      "📁 part_2:  80%|████████  | 7868/9820 [02:35<01:10, 27.83file/s]"
     ]
    },
    {
     "name": "stdout",
     "output_type": "stream",
     "text": [
      "[!] 레이블 정보 없음: 1635704425379925.html\n",
      "[!] 레이블 정보 없음: 1635704448705025.html\n",
      "[!] 레이블 정보 없음: 1635704507557311.html\n"
     ]
    },
    {
     "name": "stderr",
     "output_type": "stream",
     "text": [
      "📁 part_2:  80%|████████  | 7882/9820 [02:36<00:54, 35.89file/s]"
     ]
    },
    {
     "name": "stdout",
     "output_type": "stream",
     "text": [
      "[!] 레이블 정보 없음: 1635704555895066.html\n"
     ]
    },
    {
     "name": "stderr",
     "output_type": "stream",
     "text": [
      "📁 part_2:  80%|████████  | 7893/9820 [02:36<00:38, 50.59file/s]"
     ]
    },
    {
     "name": "stdout",
     "output_type": "stream",
     "text": [
      "[!] 레이블 정보 없음: 163570459335186.html\n",
      "[!] 레이블 정보 없음: 1635704605687131.html\n"
     ]
    },
    {
     "name": "stderr",
     "output_type": "stream",
     "text": [
      "📁 part_2:  81%|████████  | 7946/9820 [02:37<00:45, 41.10file/s]"
     ]
    },
    {
     "name": "stdout",
     "output_type": "stream",
     "text": [
      "[!] 레이블 정보 없음: 1635704862279729.html\n"
     ]
    },
    {
     "name": "stderr",
     "output_type": "stream",
     "text": [
      "📁 part_2:  81%|████████  | 7972/9820 [02:38<00:50, 36.83file/s]"
     ]
    },
    {
     "name": "stdout",
     "output_type": "stream",
     "text": [
      "[!] 레이블 정보 없음: 1635705049035729.html\n"
     ]
    },
    {
     "name": "stderr",
     "output_type": "stream",
     "text": [
      "📁 part_2:  81%|████████▏ | 7993/9820 [02:39<01:35, 19.12file/s]"
     ]
    },
    {
     "name": "stdout",
     "output_type": "stream",
     "text": [
      "[!] 레이블 정보 없음: 1635705185115018.html\n"
     ]
    },
    {
     "name": "stderr",
     "output_type": "stream",
     "text": [
      "📁 part_2:  82%|████████▏ | 8014/9820 [02:40<00:59, 30.22file/s]"
     ]
    },
    {
     "name": "stdout",
     "output_type": "stream",
     "text": [
      "[!] 레이블 정보 없음: 1635705239178315.html\n"
     ]
    },
    {
     "name": "stderr",
     "output_type": "stream",
     "text": [
      "📁 part_2:  82%|████████▏ | 8038/9820 [02:40<00:44, 40.36file/s]"
     ]
    },
    {
     "name": "stdout",
     "output_type": "stream",
     "text": [
      "[!] 레이블 정보 없음: 1635705373192886.html\n"
     ]
    },
    {
     "name": "stderr",
     "output_type": "stream",
     "text": [
      "📁 part_2:  82%|████████▏ | 8055/9820 [02:41<01:13, 24.07file/s]"
     ]
    },
    {
     "name": "stdout",
     "output_type": "stream",
     "text": [
      "[!] 레이블 정보 없음: 1635705413586241.html\n"
     ]
    },
    {
     "name": "stderr",
     "output_type": "stream",
     "text": [
      "📁 part_2:  83%|████████▎ | 8123/9820 [02:43<01:13, 23.11file/s]"
     ]
    },
    {
     "name": "stdout",
     "output_type": "stream",
     "text": [
      "[!] 레이블 정보 없음: 1635705887101482.html\n",
      "[!] 레이블 정보 없음: 1635705887518633.html\n"
     ]
    },
    {
     "name": "stderr",
     "output_type": "stream",
     "text": [
      "📁 part_2:  83%|████████▎ | 8147/9820 [02:44<00:30, 54.02file/s]"
     ]
    },
    {
     "name": "stdout",
     "output_type": "stream",
     "text": [
      "[!] 레이블 정보 없음: 1635705980599859.html\n",
      "[!] 레이블 정보 없음: 1635705981977041.html\n",
      "[!] 레이블 정보 없음: 1635705990984818.html\n",
      "[!] 레이블 정보 없음: 1635706009351189.html\n",
      "[!] 레이블 정보 없음: 1635706052931036.html\n"
     ]
    },
    {
     "name": "stderr",
     "output_type": "stream",
     "text": [
      "📁 part_2:  83%|████████▎ | 8154/9820 [02:44<00:30, 55.00file/s]"
     ]
    },
    {
     "name": "stdout",
     "output_type": "stream",
     "text": [
      "[!] 레이블 정보 없음: 163570606882412.html\n"
     ]
    },
    {
     "name": "stderr",
     "output_type": "stream",
     "text": [
      "📁 part_2:  83%|████████▎ | 8175/9820 [02:44<00:42, 38.51file/s]"
     ]
    },
    {
     "name": "stdout",
     "output_type": "stream",
     "text": [
      "[!] 레이블 정보 없음: 1635706123939816.html\n",
      "[!] 레이블 정보 없음: 163570612516906.html\n"
     ]
    },
    {
     "name": "stderr",
     "output_type": "stream",
     "text": [
      "📁 part_2:  83%|████████▎ | 8193/9820 [02:45<00:37, 43.87file/s]"
     ]
    },
    {
     "name": "stdout",
     "output_type": "stream",
     "text": [
      "[!] 레이블 정보 없음: 1635706162397541.html\n"
     ]
    },
    {
     "name": "stderr",
     "output_type": "stream",
     "text": [
      "📁 part_2:  84%|████████▎ | 8204/9820 [02:45<00:38, 41.94file/s]"
     ]
    },
    {
     "name": "stdout",
     "output_type": "stream",
     "text": [
      "[!] 레이블 정보 없음: 1635706176115209.html\n",
      "[!] 레이블 정보 없음: 1635706205093351.html\n"
     ]
    },
    {
     "name": "stderr",
     "output_type": "stream",
     "text": [
      "📁 part_2:  84%|████████▎ | 8218/9820 [02:45<00:34, 46.92file/s]"
     ]
    },
    {
     "name": "stdout",
     "output_type": "stream",
     "text": [
      "[!] 레이블 정보 없음: 1635706289648972.html\n"
     ]
    },
    {
     "name": "stderr",
     "output_type": "stream",
     "text": [
      "📁 part_2:  84%|████████▍ | 8231/9820 [02:46<00:55, 28.84file/s]"
     ]
    },
    {
     "name": "stdout",
     "output_type": "stream",
     "text": [
      "[!] 레이블 정보 없음: 1635706419487067.html\n",
      "[!] 레이블 정보 없음: 163570642043256.html\n"
     ]
    },
    {
     "name": "stderr",
     "output_type": "stream",
     "text": [
      "📁 part_2:  84%|████████▍ | 8258/9820 [02:47<00:37, 41.15file/s]"
     ]
    },
    {
     "name": "stdout",
     "output_type": "stream",
     "text": [
      "[!] 레이블 정보 없음: 1635706555110486.html\n",
      "[!] 레이블 정보 없음: 1635706591154685.html\n",
      "[!] 레이블 정보 없음: 1635706631807923.html\n"
     ]
    },
    {
     "name": "stderr",
     "output_type": "stream",
     "text": [
      "📁 part_2:  85%|████████▍ | 8299/9820 [02:48<00:38, 39.47file/s]"
     ]
    },
    {
     "name": "stdout",
     "output_type": "stream",
     "text": [
      "[!] 레이블 정보 없음: 163570682057039.html\n"
     ]
    },
    {
     "name": "stderr",
     "output_type": "stream",
     "text": [
      "📁 part_2:  85%|████████▌ | 8375/9820 [02:51<00:38, 37.46file/s]"
     ]
    },
    {
     "name": "stdout",
     "output_type": "stream",
     "text": [
      "[!] 레이블 정보 없음: 1635707259688694.html\n"
     ]
    },
    {
     "name": "stderr",
     "output_type": "stream",
     "text": [
      "📁 part_2:  86%|████████▌ | 8420/9820 [02:52<00:51, 27.08file/s]"
     ]
    },
    {
     "name": "stdout",
     "output_type": "stream",
     "text": [
      "[!] 레이블 정보 없음: 1635707470069701.html\n"
     ]
    },
    {
     "name": "stderr",
     "output_type": "stream",
     "text": [
      "📁 part_2:  86%|████████▌ | 8441/9820 [02:52<00:28, 47.90file/s]"
     ]
    },
    {
     "name": "stdout",
     "output_type": "stream",
     "text": [
      "[!] 레이블 정보 없음: 1635707539643927.html\n",
      "[!] 레이블 정보 없음: 1635707554902362.html\n"
     ]
    },
    {
     "name": "stderr",
     "output_type": "stream",
     "text": [
      "📁 part_2:  86%|████████▋ | 8480/9820 [02:53<00:22, 59.80file/s]"
     ]
    },
    {
     "name": "stdout",
     "output_type": "stream",
     "text": [
      "[!] 레이블 정보 없음: 1635707683985056.html\n",
      "[!] 레이블 정보 없음: 1635707732027447.html\n"
     ]
    },
    {
     "name": "stderr",
     "output_type": "stream",
     "text": [
      "📁 part_2:  86%|████████▋ | 8494/9820 [02:54<00:23, 55.80file/s]"
     ]
    },
    {
     "name": "stdout",
     "output_type": "stream",
     "text": [
      "[!] 레이블 정보 없음: 1635707874692385.html\n"
     ]
    },
    {
     "name": "stderr",
     "output_type": "stream",
     "text": [
      "📁 part_2:  87%|████████▋ | 8533/9820 [02:55<00:34, 37.16file/s]"
     ]
    },
    {
     "name": "stdout",
     "output_type": "stream",
     "text": [
      "[!] 레이블 정보 없음: 1635707997810677.html\n",
      "[!] 레이블 정보 없음: 163570801028828.html\n"
     ]
    },
    {
     "name": "stderr",
     "output_type": "stream",
     "text": [
      "📁 part_2:  87%|████████▋ | 8590/9820 [02:56<00:29, 41.48file/s]"
     ]
    },
    {
     "name": "stdout",
     "output_type": "stream",
     "text": [
      "[!] 레이블 정보 없음: 1635708353006375.html\n"
     ]
    },
    {
     "name": "stderr",
     "output_type": "stream",
     "text": [
      "📁 part_2:  88%|████████▊ | 8606/9820 [02:56<00:28, 42.26file/s]"
     ]
    },
    {
     "name": "stdout",
     "output_type": "stream",
     "text": [
      "[!] 레이블 정보 없음: 1635708403566905.html\n",
      "[!] 레이블 정보 없음: 1635708403846827.html\n",
      "[!] 레이블 정보 없음: 1635708449270935.html\n"
     ]
    },
    {
     "name": "stderr",
     "output_type": "stream",
     "text": [
      "📁 part_2:  88%|████████▊ | 8638/9820 [02:57<00:33, 34.89file/s]"
     ]
    },
    {
     "name": "stdout",
     "output_type": "stream",
     "text": [
      "[!] 레이블 정보 없음: 1635708619119502.html\n"
     ]
    },
    {
     "name": "stderr",
     "output_type": "stream",
     "text": [
      "📁 part_2:  88%|████████▊ | 8690/9820 [03:00<01:17, 14.60file/s]"
     ]
    },
    {
     "name": "stdout",
     "output_type": "stream",
     "text": [
      "[!] 레이블 정보 없음: 1635708837998961.html\n"
     ]
    },
    {
     "name": "stderr",
     "output_type": "stream",
     "text": [
      "📁 part_2:  89%|████████▊ | 8707/9820 [03:01<00:47, 23.53file/s]"
     ]
    },
    {
     "name": "stdout",
     "output_type": "stream",
     "text": [
      "[!] 레이블 정보 없음: 1635708926370306.html\n"
     ]
    },
    {
     "name": "stderr",
     "output_type": "stream",
     "text": [
      "📁 part_2:  89%|████████▉ | 8755/9820 [03:02<00:21, 48.72file/s]"
     ]
    },
    {
     "name": "stdout",
     "output_type": "stream",
     "text": [
      "[!] 레이블 정보 없음: 1635709211569048.html\n",
      "[!] 레이블 정보 없음: 1635709390922106.html\n"
     ]
    },
    {
     "name": "stderr",
     "output_type": "stream",
     "text": [
      "📁 part_2:  89%|████████▉ | 8768/9820 [03:03<00:28, 37.31file/s]"
     ]
    },
    {
     "name": "stdout",
     "output_type": "stream",
     "text": [
      "[!] 레이블 정보 없음: 1635709418367682.html\n",
      "[!] 레이블 정보 없음: 163570942400389.html\n",
      "[!] 레이블 정보 없음: 1635709424914906.html\n"
     ]
    },
    {
     "name": "stderr",
     "output_type": "stream",
     "text": [
      "📁 part_2:  90%|████████▉ | 8796/9820 [03:04<00:29, 34.93file/s]"
     ]
    },
    {
     "name": "stdout",
     "output_type": "stream",
     "text": [
      "[!] 레이블 정보 없음: 1635709508695127.html\n"
     ]
    },
    {
     "name": "stderr",
     "output_type": "stream",
     "text": [
      "📁 part_2:  90%|████████▉ | 8808/9820 [03:04<00:36, 27.73file/s]"
     ]
    },
    {
     "name": "stdout",
     "output_type": "stream",
     "text": [
      "[!] 레이블 정보 없음: 163570962054523.html\n"
     ]
    },
    {
     "name": "stderr",
     "output_type": "stream",
     "text": [
      "📁 part_2:  90%|████████▉ | 8823/9820 [03:05<00:35, 28.04file/s]"
     ]
    },
    {
     "name": "stdout",
     "output_type": "stream",
     "text": [
      "[!] 레이블 정보 없음: 1635709705764504.html\n",
      "[!] 레이블 정보 없음: 163570971875638.html\n"
     ]
    },
    {
     "name": "stderr",
     "output_type": "stream",
     "text": [
      "📁 part_2:  90%|█████████ | 8873/9820 [03:07<00:27, 34.09file/s]"
     ]
    },
    {
     "name": "stdout",
     "output_type": "stream",
     "text": [
      "[!] 레이블 정보 없음: 1635710033656307.html\n"
     ]
    },
    {
     "name": "stderr",
     "output_type": "stream",
     "text": [
      "📁 part_2:  91%|█████████ | 8910/9820 [03:08<00:19, 47.28file/s]\n"
     ]
    },
    {
     "ename": "KeyboardInterrupt",
     "evalue": "",
     "output_type": "error",
     "traceback": [
      "\u001b[1;31m---------------------------------------------------------------------------\u001b[0m",
      "\u001b[1;31mKeyboardInterrupt\u001b[0m                         Traceback (most recent call last)",
      "Cell \u001b[1;32mIn[1], line 64\u001b[0m\n\u001b[0;32m     61\u001b[0m \u001b[38;5;28;01mwith\u001b[39;00m \u001b[38;5;28mopen\u001b[39m(file_path, \u001b[38;5;124m'\u001b[39m\u001b[38;5;124mr\u001b[39m\u001b[38;5;124m'\u001b[39m, encoding\u001b[38;5;241m=\u001b[39m\u001b[38;5;124m'\u001b[39m\u001b[38;5;124mlatin1\u001b[39m\u001b[38;5;124m'\u001b[39m, errors\u001b[38;5;241m=\u001b[39m\u001b[38;5;124m'\u001b[39m\u001b[38;5;124mignore\u001b[39m\u001b[38;5;124m'\u001b[39m) \u001b[38;5;28;01mas\u001b[39;00m file:\n\u001b[0;32m     62\u001b[0m     html \u001b[38;5;241m=\u001b[39m file\u001b[38;5;241m.\u001b[39mread()\n\u001b[1;32m---> 64\u001b[0m features \u001b[38;5;241m=\u001b[39m extract_html_features(html)\n\u001b[0;32m     65\u001b[0m features[\u001b[38;5;124m\"\u001b[39m\u001b[38;5;124mlabel\u001b[39m\u001b[38;5;124m\"\u001b[39m] \u001b[38;5;241m=\u001b[39m label_map[filename]\n\u001b[0;32m     66\u001b[0m processed_data\u001b[38;5;241m.\u001b[39mappend(features)\n",
      "Cell \u001b[1;32mIn[1], line 19\u001b[0m, in \u001b[0;36mextract_html_features\u001b[1;34m(html)\u001b[0m\n\u001b[0;32m     17\u001b[0m features \u001b[38;5;241m=\u001b[39m {}\n\u001b[0;32m     18\u001b[0m \u001b[38;5;28;01mfor\u001b[39;00m tag \u001b[38;5;129;01min\u001b[39;00m tags_to_count:\n\u001b[1;32m---> 19\u001b[0m     features[\u001b[38;5;124mf\u001b[39m\u001b[38;5;124m\"\u001b[39m\u001b[38;5;124mhtml_num_tags(\u001b[39m\u001b[38;5;124m'\u001b[39m\u001b[38;5;132;01m{\u001b[39;00mtag\u001b[38;5;132;01m}\u001b[39;00m\u001b[38;5;124m'\u001b[39m\u001b[38;5;124m)\u001b[39m\u001b[38;5;124m\"\u001b[39m] \u001b[38;5;241m=\u001b[39m \u001b[38;5;28mlen\u001b[39m(soup\u001b[38;5;241m.\u001b[39mfind_all(tag))\n\u001b[0;32m     20\u001b[0m \u001b[38;5;28;01mreturn\u001b[39;00m features\n",
      "File \u001b[1;32mc:\\Users\\user\\anaconda3\\Lib\\site-packages\\bs4\\element.py:2035\u001b[0m, in \u001b[0;36mTag.find_all\u001b[1;34m(self, name, attrs, recursive, string, limit, **kwargs)\u001b[0m\n\u001b[0;32m   2033\u001b[0m     generator \u001b[38;5;241m=\u001b[39m \u001b[38;5;28mself\u001b[39m\u001b[38;5;241m.\u001b[39mchildren\n\u001b[0;32m   2034\u001b[0m _stacklevel \u001b[38;5;241m=\u001b[39m kwargs\u001b[38;5;241m.\u001b[39mpop(\u001b[38;5;124m'\u001b[39m\u001b[38;5;124m_stacklevel\u001b[39m\u001b[38;5;124m'\u001b[39m, \u001b[38;5;241m2\u001b[39m)\n\u001b[1;32m-> 2035\u001b[0m \u001b[38;5;28;01mreturn\u001b[39;00m \u001b[38;5;28mself\u001b[39m\u001b[38;5;241m.\u001b[39m_find_all(name, attrs, string, limit, generator,\n\u001b[0;32m   2036\u001b[0m                       _stacklevel\u001b[38;5;241m=\u001b[39m_stacklevel\u001b[38;5;241m+\u001b[39m\u001b[38;5;241m1\u001b[39m, \u001b[38;5;241m*\u001b[39m\u001b[38;5;241m*\u001b[39mkwargs)\n",
      "File \u001b[1;32mc:\\Users\\user\\anaconda3\\Lib\\site-packages\\bs4\\element.py:833\u001b[0m, in \u001b[0;36mPageElement._find_all\u001b[1;34m(self, name, attrs, string, limit, generator, **kwargs)\u001b[0m\n\u001b[0;32m    823\u001b[0m             local_name \u001b[38;5;241m=\u001b[39m name\n\u001b[0;32m    824\u001b[0m         result \u001b[38;5;241m=\u001b[39m (element \u001b[38;5;28;01mfor\u001b[39;00m element \u001b[38;5;129;01min\u001b[39;00m generator\n\u001b[0;32m    825\u001b[0m                   \u001b[38;5;28;01mif\u001b[39;00m \u001b[38;5;28misinstance\u001b[39m(element, Tag)\n\u001b[0;32m    826\u001b[0m                   \u001b[38;5;129;01mand\u001b[39;00m (\n\u001b[1;32m   (...)\u001b[0m\n\u001b[0;32m    831\u001b[0m                   )\n\u001b[0;32m    832\u001b[0m         )\n\u001b[1;32m--> 833\u001b[0m         \u001b[38;5;28;01mreturn\u001b[39;00m ResultSet(strainer, result)\n\u001b[0;32m    834\u001b[0m results \u001b[38;5;241m=\u001b[39m ResultSet(strainer)\n\u001b[0;32m    835\u001b[0m \u001b[38;5;28;01mwhile\u001b[39;00m \u001b[38;5;28;01mTrue\u001b[39;00m:\n",
      "File \u001b[1;32mc:\\Users\\user\\anaconda3\\Lib\\site-packages\\bs4\\element.py:2428\u001b[0m, in \u001b[0;36mResultSet.__init__\u001b[1;34m(self, source, result)\u001b[0m\n\u001b[0;32m   2422\u001b[0m \u001b[38;5;28;01mdef\u001b[39;00m \u001b[38;5;21m__init__\u001b[39m(\u001b[38;5;28mself\u001b[39m, source, result\u001b[38;5;241m=\u001b[39m()):\n\u001b[0;32m   2423\u001b[0m \u001b[38;5;250m    \u001b[39m\u001b[38;5;124;03m\"\"\"Constructor.\u001b[39;00m\n\u001b[0;32m   2424\u001b[0m \n\u001b[0;32m   2425\u001b[0m \u001b[38;5;124;03m    :param source: A SoupStrainer.\u001b[39;00m\n\u001b[0;32m   2426\u001b[0m \u001b[38;5;124;03m    :param result: A list of PageElements.\u001b[39;00m\n\u001b[0;32m   2427\u001b[0m \u001b[38;5;124;03m    \"\"\"\u001b[39;00m\n\u001b[1;32m-> 2428\u001b[0m     \u001b[38;5;28msuper\u001b[39m(ResultSet, \u001b[38;5;28mself\u001b[39m)\u001b[38;5;241m.\u001b[39m\u001b[38;5;21m__init__\u001b[39m(result)\n\u001b[0;32m   2429\u001b[0m     \u001b[38;5;28mself\u001b[39m\u001b[38;5;241m.\u001b[39msource \u001b[38;5;241m=\u001b[39m source\n",
      "File \u001b[1;32mc:\\Users\\user\\anaconda3\\Lib\\site-packages\\bs4\\element.py:824\u001b[0m, in \u001b[0;36m<genexpr>\u001b[1;34m(.0)\u001b[0m\n\u001b[0;32m    822\u001b[0m             prefix \u001b[38;5;241m=\u001b[39m \u001b[38;5;28;01mNone\u001b[39;00m\n\u001b[0;32m    823\u001b[0m             local_name \u001b[38;5;241m=\u001b[39m name\n\u001b[1;32m--> 824\u001b[0m         result \u001b[38;5;241m=\u001b[39m (element \u001b[38;5;28;01mfor\u001b[39;00m element \u001b[38;5;129;01min\u001b[39;00m generator\n\u001b[0;32m    825\u001b[0m                   \u001b[38;5;28;01mif\u001b[39;00m \u001b[38;5;28misinstance\u001b[39m(element, Tag)\n\u001b[0;32m    826\u001b[0m                   \u001b[38;5;129;01mand\u001b[39;00m (\n\u001b[0;32m    827\u001b[0m                       element\u001b[38;5;241m.\u001b[39mname \u001b[38;5;241m==\u001b[39m name\n\u001b[0;32m    828\u001b[0m                   ) \u001b[38;5;129;01mor\u001b[39;00m (\n\u001b[0;32m    829\u001b[0m                       element\u001b[38;5;241m.\u001b[39mname \u001b[38;5;241m==\u001b[39m local_name\n\u001b[0;32m    830\u001b[0m                       \u001b[38;5;129;01mand\u001b[39;00m (prefix \u001b[38;5;129;01mis\u001b[39;00m \u001b[38;5;28;01mNone\u001b[39;00m \u001b[38;5;129;01mor\u001b[39;00m element\u001b[38;5;241m.\u001b[39mprefix \u001b[38;5;241m==\u001b[39m prefix)\n\u001b[0;32m    831\u001b[0m                   )\n\u001b[0;32m    832\u001b[0m         )\n\u001b[0;32m    833\u001b[0m         \u001b[38;5;28;01mreturn\u001b[39;00m ResultSet(strainer, result)\n\u001b[0;32m    834\u001b[0m results \u001b[38;5;241m=\u001b[39m ResultSet(strainer)\n",
      "\u001b[1;31mKeyboardInterrupt\u001b[0m: "
     ]
    }
   ],
   "source": [
    "import os\n",
    "import pandas as pd\n",
    "from bs4 import BeautifulSoup\n",
    "from tqdm import tqdm\n",
    "import re\n",
    "\n",
    "tqdm.pandas()\n",
    "\n",
    "# 📌 1. HTML 태그 특성 추출 함수\n",
    "def extract_html_features(html):\n",
    "    soup = BeautifulSoup(str(html), 'html.parser')\n",
    "\n",
    "    tags_to_count = [\n",
    "        'iframe', 'script', 'embed', 'object', 'div', 'head', 'body',\n",
    "        'form', 'a', 'small', 'span', 'input', 'applet', 'img', 'video', 'audio'\n",
    "    ]\n",
    "\n",
    "    features = {}\n",
    "    for tag in tags_to_count:\n",
    "        features[f\"html_num_tags('{tag}')\"] = len(soup.find_all(tag))\n",
    "\n",
    "    return features\n",
    "\n",
    "# 📌 2. SQL 파일 파싱 함수 (파일명 → 레이블)\n",
    "def parse_sql_file(sql_file_path):\n",
    "    label_dict = {}\n",
    "    pattern = re.compile(r\"\\((\\d+),\\s*'[^']+',\\s*'([^']+)',\\s*(\\d),\")\n",
    "\n",
    "    with open(sql_file_path, 'r', encoding='utf-8') as f:\n",
    "        for line in f:\n",
    "            match = pattern.search(line)\n",
    "            if match:\n",
    "                file_name = match.group(2)\n",
    "                label = 'malicious' if match.group(3) == '1' else 'benign'\n",
    "                label_dict[file_name] = label\n",
    "    return label_dict\n",
    "\n",
    "# 📌 3. 메인 처리\n",
    "base_root = \"datatocsv\"\n",
    "sql_path = os.path.join(base_root, \"index.sql\")\n",
    "output_path = os.path.join(base_root, \"csv\", \"Feature Website HTML Processed.csv\")\n",
    "\n",
    "# SQL 파일에서 레이블 정보 로딩\n",
    "label_map = parse_sql_file(sql_path)\n",
    "\n",
    "# 데이터 처리 결과 저장 리스트\n",
    "processed_data = []\n",
    "\n",
    "# 📌 4. dataset_part_1 ~ dataset_part_8 순회\n",
    "for i in range(1, 9):\n",
    "    base_dir = os.path.join(base_root, f\"dataset_part_{i}\", f\"dataset-part-{i}\")\n",
    "    print(f\"\\n📂 처리 중: {base_dir}\")\n",
    "\n",
    "    file_list = [f for f in os.listdir(base_dir) if f.endswith(\".html\")]\n",
    "\n",
    "    for filename in tqdm(file_list, desc=f\"📁 part_{i}\", unit=\"file\"):\n",
    "        if filename not in label_map:\n",
    "            tqdm.write(f\"[!] 레이블 정보 없음: {filename}\")\n",
    "            continue\n",
    "\n",
    "        file_path = os.path.join(base_dir, filename)\n",
    "\n",
    "        try:\n",
    "            with open(file_path, 'r', encoding='latin1', errors='ignore') as file:\n",
    "                html = file.read()\n",
    "\n",
    "            features = extract_html_features(html)\n",
    "            features[\"label\"] = label_map[filename]\n",
    "            processed_data.append(features)\n",
    "\n",
    "        except PermissionError:\n",
    "            tqdm.write(f\"[⛔] Permission denied: {filename} — 건너뜁니다.\")\n",
    "        except Exception as e:\n",
    "            tqdm.write(f\"[⚠️] 예외 발생 ({filename}): {e}\")\n",
    "\n",
    "# 📌 5. DataFrame 저장\n",
    "final_df = pd.DataFrame(processed_data)\n",
    "final_df.to_csv(output_path, index=False)\n",
    "print(f\"\\n✅ 완료: {output_path} 저장됨 (총 {len(processed_data)}개 파일)\")\n"
   ]
  },
  {
   "cell_type": "code",
   "execution_count": null,
   "id": "752dd56f",
   "metadata": {},
   "outputs": [],
   "source": []
  }
 ],
 "metadata": {
  "kernelspec": {
   "display_name": "base",
   "language": "python",
   "name": "python3"
  },
  "language_info": {
   "codemirror_mode": {
    "name": "ipython",
    "version": 3
   },
   "file_extension": ".py",
   "mimetype": "text/x-python",
   "name": "python",
   "nbconvert_exporter": "python",
   "pygments_lexer": "ipython3",
   "version": "3.12.7"
  }
 },
 "nbformat": 4,
 "nbformat_minor": 5
}

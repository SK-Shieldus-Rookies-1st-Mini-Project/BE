{
 "cells": [
  {
   "cell_type": "code",
   "execution_count": null,
   "id": "c051617f",
   "metadata": {},
   "outputs": [],
   "source": [
    "pip install bs4"
   ]
  },
  {
   "cell_type": "code",
   "execution_count": null,
   "id": "bb6ccc2e",
   "metadata": {},
   "outputs": [],
   "source": [
    "pip install openpyxl"
   ]
  },
  {
   "cell_type": "code",
   "execution_count": null,
   "id": "826f1198",
   "metadata": {},
   "outputs": [],
   "source": [
    "import pandas as pd\n",
    "import numpy as np\n",
    "from bs4 import BeautifulSoup\n",
    "from urllib.parse import urlparse\n",
    "\n",
    "from aicentro.session import Session\n",
    "sacp_session = Session(verify=False)\n",
    "from aicentro.framework.framework import BaseFramework as SacpFrm\n",
    "sacp_framework = SacpFrm(session=sacp_session)"
   ]
  },
  {
   "cell_type": "markdown",
   "id": "e52a3aa1",
   "metadata": {},
   "source": [
    "### <b>Q1. 데이터 불러오기</b>\n",
    "---\n",
    "- Feature Website.xlsx 데이터 불러오기\n",
    "- 데이터 둘러보기"
   ]
  },
  {
   "cell_type": "code",
   "execution_count": null,
   "id": "0efaf688",
   "metadata": {},
   "outputs": [],
   "source": [
    "filename ='Feature Website.xlsx'\n",
    "#xlrd 지원불가로 openpyxl 사용할 수 있도록 변경\n",
    "df = pd.read_excel(filename, engine='openpyxl')"
   ]
  },
  {
   "cell_type": "code",
   "execution_count": null,
   "id": "741782a2",
   "metadata": {},
   "outputs": [],
   "source": [
    "df.info()"
   ]
  },
  {
   "cell_type": "code",
   "execution_count": null,
   "id": "112fbf22",
   "metadata": {},
   "outputs": [],
   "source": [
    "df"
   ]
  },
  {
   "cell_type": "markdown",
   "id": "316384dc",
   "metadata": {},
   "source": [
    "### <b>Q2. html 에서 \\<script>...\\</script> 길이 계산</b>\n",
    "---\n",
    "- BeautifulSoup으로 html소스를 python 객체로 변환\n",
    "- 함수로 구현하기\n",
    "- float으로 return 받기"
   ]
  },
  {
   "cell_type": "code",
   "execution_count": null,
   "id": "3e391513",
   "metadata": {},
   "outputs": [],
   "source": [
    "def html_script_characters(soup):\n",
    "    # soup > script\n",
    "    html_len = str(soup.script)\n",
    "    return float(len(html_len.replace(' ', '')))"
   ]
  },
  {
   "cell_type": "code",
   "execution_count": null,
   "id": "ab2567d9",
   "metadata": {},
   "outputs": [],
   "source": [
    "script_len = []\n",
    "\n",
    "for index, row in df.iterrows():\n",
    "    soup = BeautifulSoup(row.html_code, 'html.parser')\n",
    "    script_len.append(html_script_characters(soup))\n",
    "\n",
    "df['html_script_characters'] = script_len"
   ]
  },
  {
   "cell_type": "code",
   "execution_count": null,
   "id": "62c82bad",
   "metadata": {},
   "outputs": [],
   "source": [
    "df"
   ]
  },
  {
   "cell_type": "code",
   "execution_count": null,
   "id": "bc13659d",
   "metadata": {},
   "outputs": [],
   "source": [
    "df.describe()"
   ]
  },
  {
   "cell_type": "markdown",
   "id": "5085e06a",
   "metadata": {},
   "source": [
    "### <b>Q3. html에서 공백 수 계산</b>\n",
    "---\n",
    "- BeautifulSoup으로 html소스를 python 객체로 변환\n",
    "- 함수로 구현하기\n",
    "- float으로 return 받기"
   ]
  },
  {
   "cell_type": "code",
   "execution_count": null,
   "id": "ff9d02b3",
   "metadata": {},
   "outputs": [],
   "source": [
    "def html_num_whitespace(soup):\n",
    "    try:\n",
    "        # soup > body > text > count\n",
    "        NullCount = soup.body.text.count(' ')\n",
    "        return float(NullCount)\n",
    "    except:\n",
    "        return 0.0"
   ]
  },
  {
   "cell_type": "code",
   "execution_count": null,
   "id": "142c7886",
   "metadata": {},
   "outputs": [],
   "source": [
    "num_whitespace = []\n",
    "\n",
    "for index, row in df.iterrows():\n",
    "    soup = BeautifulSoup(row.html_code, 'html.parser')\n",
    "    num_whitespace.append(html_num_whitespace(soup))\n",
    "\n",
    "df['html_num_whitespace'] = num_whitespace"
   ]
  },
  {
   "cell_type": "code",
   "execution_count": null,
   "id": "e4c7293f",
   "metadata": {},
   "outputs": [],
   "source": [
    "df"
   ]
  },
  {
   "cell_type": "code",
   "execution_count": null,
   "id": "2fc41341",
   "metadata": {},
   "outputs": [],
   "source": [
    "df.describe()"
   ]
  },
  {
   "cell_type": "markdown",
   "id": "0ae78864",
   "metadata": {},
   "source": [
    "### <b>Q4. html 에서 body 길이 계산</b>\n",
    "---\n",
    "- BeautifulSoup으로 html소스를 python 객체로 변환\n",
    "- 함수로 구현하기\n",
    "- float으로 return 받기"
   ]
  },
  {
   "cell_type": "code",
   "execution_count": null,
   "id": "f28bef65",
   "metadata": {},
   "outputs": [],
   "source": [
    "def html_num_characters(soup):\n",
    "    try:\n",
    "        #soup > body > text\n",
    "        bodyLen = len(      )\n",
    "        return float(bodyLen)\n",
    "    except:\n",
    "        return 0.0"
   ]
  },
  {
   "cell_type": "code",
   "execution_count": null,
   "id": "9c56fd00",
   "metadata": {},
   "outputs": [],
   "source": [
    "html_body = []\n",
    "\n",
    "for index, row in df.iterrows():\n",
    "    soup = BeautifulSoup(row.html_code, 'html.parser')\n",
    "    html_body.append(html_num_characters(soup))\n",
    "\n",
    "df['html_body_len'] = html_body"
   ]
  },
  {
   "cell_type": "code",
   "execution_count": null,
   "id": "6d09c800",
   "metadata": {},
   "outputs": [],
   "source": [
    "df.describe()"
   ]
  },
  {
   "cell_type": "markdown",
   "id": "0d26ce71",
   "metadata": {},
   "source": [
    "### <b> Q5. script 에서 src, href 속성을 가진 태그수</b>\n",
    "1. BeautifulSoup으로 html소스를 python 객체로 변환\n",
    "2. 함수로 구현하기\n",
    "3. float으로 return 받기"
   ]
  },
  {
   "cell_type": "code",
   "execution_count": null,
   "id": "de3314e1",
   "metadata": {},
   "outputs": [],
   "source": [
    "def html_link_in_script(soup):\n",
    "    numOfLinks = len(soup.findAll('script', {\"src\": True}))\n",
    "    numOfLinks += len(soup.findAll('script', {\"href\": True}))\n",
    "    return float(numOfLinks)"
   ]
  },
  {
   "cell_type": "code",
   "execution_count": null,
   "id": "721cb22b",
   "metadata": {},
   "outputs": [],
   "source": [
    "html_script_link_num = []\n",
    "\n",
    "for index, row in df.iterrows():\n",
    "    soup = BeautifulSoup(row.html_code, 'html.parser')\n",
    "    html_script_link_num.append(html_link_in_script(soup))\n",
    "\n",
    "df['html_script_link_num'] = html_script_link_num"
   ]
  },
  {
   "cell_type": "code",
   "execution_count": null,
   "id": "7d0951c9",
   "metadata": {},
   "outputs": [],
   "source": [
    "df"
   ]
  },
  {
   "cell_type": "code",
   "execution_count": null,
   "id": "441c92c0",
   "metadata": {},
   "outputs": [],
   "source": [
    "df.describe()"
   ]
  }
 ],
 "metadata": {
  "language_info": {
   "name": "python"
  }
 },
 "nbformat": 4,
 "nbformat_minor": 5
}
